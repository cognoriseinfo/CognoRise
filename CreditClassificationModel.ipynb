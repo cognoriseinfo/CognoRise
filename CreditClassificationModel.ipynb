{
  "cells": [
    {
      "cell_type": "markdown",
      "metadata": {
        "id": "D0KL6dSaABBd"
      },
      "source": [
        "# ABOUT THE DATASET"
      ]
    },
    {
      "cell_type": "markdown",
      "metadata": {
        "id": "K2HtPH671HJu"
      },
      "source": [
        "## DESCRIPTION\n",
        "**ABC Bank wants to identify and understand their customers better to determine the appropriate credit amount to be offered based on multiple factors. The bank possesses a vast dataset containing customer information and other relevant parameters. The bank aims to develop a robust model that can accurately group customer based on their creditworthiness. This will enable the bank to make informed decisions about the credit amount to be extended to each customer group, which can help mitigate risk, ensure responsible lending practices, and optimize loan portfolio management. Additionally, the model can assist the bank in identifying potential high-value customers, tailoring credit offers based on risk profiles, and complying with regulatory requirements.\n",
        "\n",
        "We have been given a percept of this dataset and the problem\n",
        "at hand is to create a reliable model that can effectively categorize customers into three groups based on various factors, enabling the bank to make data-driven decisions for credit lending and risk management.**\n",
        "\n",
        "\n",
        "---\n",
        "\n"
      ]
    },
    {
      "cell_type": "markdown",
      "metadata": {
        "id": "u1-BAXp4tkIw"
      },
      "source": [
        "### IMPORTING LIBRARIES AND DATASET"
      ]
    },
    {
      "cell_type": "code",
      "execution_count": null,
      "metadata": {
        "id": "SrdlNrRNklTO"
      },
      "outputs": [],
      "source": [
        "import numpy as np\n",
        "import pandas as pd\n",
        "import seaborn as sns\n",
        "import matplotlib.pyplot as plt"
      ]
    },
    {
      "cell_type": "code",
      "execution_count": null,
      "metadata": {
        "colab": {
          "base_uri": "https://localhost:8080/",
          "height": 316
        },
        "id": "dXgoNUm0ktIl",
        "outputId": "aab58046-0d5c-42c0-99f8-b5e43169e9cd"
      },
      "outputs": [
        {
          "output_type": "execute_result",
          "data": {
            "text/plain": [
              "   serial number account_info  duration_month credit_history purpose  \\\n",
              "0              1          A11               6            A34     A43   \n",
              "1              2          A12              48            A32     A43   \n",
              "2              3          A14              12            A34     A46   \n",
              "3              4          A11              42            A32     A42   \n",
              "4              5          A11              24            A33     A40   \n",
              "\n",
              "  savings_account employment_st  poi personal_status gurantors  ...  \\\n",
              "0             A65           A75  4.0             A93      A101  ...   \n",
              "1             A61           A73  2.0             A92      A101  ...   \n",
              "2             A61           A74  2.0             A93      A101  ...   \n",
              "3             A61           A74  2.0             A93      A103  ...   \n",
              "4             A61           A73  3.0             A93      A101  ...   \n",
              "\n",
              "   property_type   age  installment_type housing_type credits_no  job_type  \\\n",
              "0           A121  67.0              A143         A152          2      A173   \n",
              "1           A121  22.0              A143         A152          1      A173   \n",
              "2           A121  49.0              A143         A152          1      A172   \n",
              "3           A122  45.0              A143         A153          1      A173   \n",
              "4           A124  53.0              A143         A153          2      A173   \n",
              "\n",
              "  liables  telephone foreigner Group_no  \n",
              "0       1       A192      A201        3  \n",
              "1       1       A191      A201        1  \n",
              "2       2       A191      A201        2  \n",
              "3       2       A191      A201        1  \n",
              "4       2       A191      A201        1  \n",
              "\n",
              "[5 rows x 21 columns]"
            ],
            "text/html": [
              "\n",
              "  <div id=\"df-50d2eac5-678c-417b-b3ec-e8f538cde53a\">\n",
              "    <div class=\"colab-df-container\">\n",
              "      <div>\n",
              "<style scoped>\n",
              "    .dataframe tbody tr th:only-of-type {\n",
              "        vertical-align: middle;\n",
              "    }\n",
              "\n",
              "    .dataframe tbody tr th {\n",
              "        vertical-align: top;\n",
              "    }\n",
              "\n",
              "    .dataframe thead th {\n",
              "        text-align: right;\n",
              "    }\n",
              "</style>\n",
              "<table border=\"1\" class=\"dataframe\">\n",
              "  <thead>\n",
              "    <tr style=\"text-align: right;\">\n",
              "      <th></th>\n",
              "      <th>serial number</th>\n",
              "      <th>account_info</th>\n",
              "      <th>duration_month</th>\n",
              "      <th>credit_history</th>\n",
              "      <th>purpose</th>\n",
              "      <th>savings_account</th>\n",
              "      <th>employment_st</th>\n",
              "      <th>poi</th>\n",
              "      <th>personal_status</th>\n",
              "      <th>gurantors</th>\n",
              "      <th>...</th>\n",
              "      <th>property_type</th>\n",
              "      <th>age</th>\n",
              "      <th>installment_type</th>\n",
              "      <th>housing_type</th>\n",
              "      <th>credits_no</th>\n",
              "      <th>job_type</th>\n",
              "      <th>liables</th>\n",
              "      <th>telephone</th>\n",
              "      <th>foreigner</th>\n",
              "      <th>Group_no</th>\n",
              "    </tr>\n",
              "  </thead>\n",
              "  <tbody>\n",
              "    <tr>\n",
              "      <th>0</th>\n",
              "      <td>1</td>\n",
              "      <td>A11</td>\n",
              "      <td>6</td>\n",
              "      <td>A34</td>\n",
              "      <td>A43</td>\n",
              "      <td>A65</td>\n",
              "      <td>A75</td>\n",
              "      <td>4.0</td>\n",
              "      <td>A93</td>\n",
              "      <td>A101</td>\n",
              "      <td>...</td>\n",
              "      <td>A121</td>\n",
              "      <td>67.0</td>\n",
              "      <td>A143</td>\n",
              "      <td>A152</td>\n",
              "      <td>2</td>\n",
              "      <td>A173</td>\n",
              "      <td>1</td>\n",
              "      <td>A192</td>\n",
              "      <td>A201</td>\n",
              "      <td>3</td>\n",
              "    </tr>\n",
              "    <tr>\n",
              "      <th>1</th>\n",
              "      <td>2</td>\n",
              "      <td>A12</td>\n",
              "      <td>48</td>\n",
              "      <td>A32</td>\n",
              "      <td>A43</td>\n",
              "      <td>A61</td>\n",
              "      <td>A73</td>\n",
              "      <td>2.0</td>\n",
              "      <td>A92</td>\n",
              "      <td>A101</td>\n",
              "      <td>...</td>\n",
              "      <td>A121</td>\n",
              "      <td>22.0</td>\n",
              "      <td>A143</td>\n",
              "      <td>A152</td>\n",
              "      <td>1</td>\n",
              "      <td>A173</td>\n",
              "      <td>1</td>\n",
              "      <td>A191</td>\n",
              "      <td>A201</td>\n",
              "      <td>1</td>\n",
              "    </tr>\n",
              "    <tr>\n",
              "      <th>2</th>\n",
              "      <td>3</td>\n",
              "      <td>A14</td>\n",
              "      <td>12</td>\n",
              "      <td>A34</td>\n",
              "      <td>A46</td>\n",
              "      <td>A61</td>\n",
              "      <td>A74</td>\n",
              "      <td>2.0</td>\n",
              "      <td>A93</td>\n",
              "      <td>A101</td>\n",
              "      <td>...</td>\n",
              "      <td>A121</td>\n",
              "      <td>49.0</td>\n",
              "      <td>A143</td>\n",
              "      <td>A152</td>\n",
              "      <td>1</td>\n",
              "      <td>A172</td>\n",
              "      <td>2</td>\n",
              "      <td>A191</td>\n",
              "      <td>A201</td>\n",
              "      <td>2</td>\n",
              "    </tr>\n",
              "    <tr>\n",
              "      <th>3</th>\n",
              "      <td>4</td>\n",
              "      <td>A11</td>\n",
              "      <td>42</td>\n",
              "      <td>A32</td>\n",
              "      <td>A42</td>\n",
              "      <td>A61</td>\n",
              "      <td>A74</td>\n",
              "      <td>2.0</td>\n",
              "      <td>A93</td>\n",
              "      <td>A103</td>\n",
              "      <td>...</td>\n",
              "      <td>A122</td>\n",
              "      <td>45.0</td>\n",
              "      <td>A143</td>\n",
              "      <td>A153</td>\n",
              "      <td>1</td>\n",
              "      <td>A173</td>\n",
              "      <td>2</td>\n",
              "      <td>A191</td>\n",
              "      <td>A201</td>\n",
              "      <td>1</td>\n",
              "    </tr>\n",
              "    <tr>\n",
              "      <th>4</th>\n",
              "      <td>5</td>\n",
              "      <td>A11</td>\n",
              "      <td>24</td>\n",
              "      <td>A33</td>\n",
              "      <td>A40</td>\n",
              "      <td>A61</td>\n",
              "      <td>A73</td>\n",
              "      <td>3.0</td>\n",
              "      <td>A93</td>\n",
              "      <td>A101</td>\n",
              "      <td>...</td>\n",
              "      <td>A124</td>\n",
              "      <td>53.0</td>\n",
              "      <td>A143</td>\n",
              "      <td>A153</td>\n",
              "      <td>2</td>\n",
              "      <td>A173</td>\n",
              "      <td>2</td>\n",
              "      <td>A191</td>\n",
              "      <td>A201</td>\n",
              "      <td>1</td>\n",
              "    </tr>\n",
              "  </tbody>\n",
              "</table>\n",
              "<p>5 rows × 21 columns</p>\n",
              "</div>\n",
              "      <button class=\"colab-df-convert\" onclick=\"convertToInteractive('df-50d2eac5-678c-417b-b3ec-e8f538cde53a')\"\n",
              "              title=\"Convert this dataframe to an interactive table.\"\n",
              "              style=\"display:none;\">\n",
              "        \n",
              "  <svg xmlns=\"http://www.w3.org/2000/svg\" height=\"24px\"viewBox=\"0 0 24 24\"\n",
              "       width=\"24px\">\n",
              "    <path d=\"M0 0h24v24H0V0z\" fill=\"none\"/>\n",
              "    <path d=\"M18.56 5.44l.94 2.06.94-2.06 2.06-.94-2.06-.94-.94-2.06-.94 2.06-2.06.94zm-11 1L8.5 8.5l.94-2.06 2.06-.94-2.06-.94L8.5 2.5l-.94 2.06-2.06.94zm10 10l.94 2.06.94-2.06 2.06-.94-2.06-.94-.94-2.06-.94 2.06-2.06.94z\"/><path d=\"M17.41 7.96l-1.37-1.37c-.4-.4-.92-.59-1.43-.59-.52 0-1.04.2-1.43.59L10.3 9.45l-7.72 7.72c-.78.78-.78 2.05 0 2.83L4 21.41c.39.39.9.59 1.41.59.51 0 1.02-.2 1.41-.59l7.78-7.78 2.81-2.81c.8-.78.8-2.07 0-2.86zM5.41 20L4 18.59l7.72-7.72 1.47 1.35L5.41 20z\"/>\n",
              "  </svg>\n",
              "      </button>\n",
              "      \n",
              "  <style>\n",
              "    .colab-df-container {\n",
              "      display:flex;\n",
              "      flex-wrap:wrap;\n",
              "      gap: 12px;\n",
              "    }\n",
              "\n",
              "    .colab-df-convert {\n",
              "      background-color: #E8F0FE;\n",
              "      border: none;\n",
              "      border-radius: 50%;\n",
              "      cursor: pointer;\n",
              "      display: none;\n",
              "      fill: #1967D2;\n",
              "      height: 32px;\n",
              "      padding: 0 0 0 0;\n",
              "      width: 32px;\n",
              "    }\n",
              "\n",
              "    .colab-df-convert:hover {\n",
              "      background-color: #E2EBFA;\n",
              "      box-shadow: 0px 1px 2px rgba(60, 64, 67, 0.3), 0px 1px 3px 1px rgba(60, 64, 67, 0.15);\n",
              "      fill: #174EA6;\n",
              "    }\n",
              "\n",
              "    [theme=dark] .colab-df-convert {\n",
              "      background-color: #3B4455;\n",
              "      fill: #D2E3FC;\n",
              "    }\n",
              "\n",
              "    [theme=dark] .colab-df-convert:hover {\n",
              "      background-color: #434B5C;\n",
              "      box-shadow: 0px 1px 3px 1px rgba(0, 0, 0, 0.15);\n",
              "      filter: drop-shadow(0px 1px 2px rgba(0, 0, 0, 0.3));\n",
              "      fill: #FFFFFF;\n",
              "    }\n",
              "  </style>\n",
              "\n",
              "      <script>\n",
              "        const buttonEl =\n",
              "          document.querySelector('#df-50d2eac5-678c-417b-b3ec-e8f538cde53a button.colab-df-convert');\n",
              "        buttonEl.style.display =\n",
              "          google.colab.kernel.accessAllowed ? 'block' : 'none';\n",
              "\n",
              "        async function convertToInteractive(key) {\n",
              "          const element = document.querySelector('#df-50d2eac5-678c-417b-b3ec-e8f538cde53a');\n",
              "          const dataTable =\n",
              "            await google.colab.kernel.invokeFunction('convertToInteractive',\n",
              "                                                     [key], {});\n",
              "          if (!dataTable) return;\n",
              "\n",
              "          const docLinkHtml = 'Like what you see? Visit the ' +\n",
              "            '<a target=\"_blank\" href=https://colab.research.google.com/notebooks/data_table.ipynb>data table notebook</a>'\n",
              "            + ' to learn more about interactive tables.';\n",
              "          element.innerHTML = '';\n",
              "          dataTable['output_type'] = 'display_data';\n",
              "          await google.colab.output.renderOutput(dataTable, element);\n",
              "          const docLink = document.createElement('div');\n",
              "          docLink.innerHTML = docLinkHtml;\n",
              "          element.appendChild(docLink);\n",
              "        }\n",
              "      </script>\n",
              "    </div>\n",
              "  </div>\n",
              "  "
            ]
          },
          "metadata": {},
          "execution_count": 4
        }
      ],
      "source": [
        "train=pd.read_csv(\"/content/ABC_Bank_train_data.csv\")\n",
        "test=pd.read_csv(\"/content/ABC_Bank_test_data.csv\")\n",
        "\n",
        "train.head()"
      ]
    },
    {
      "cell_type": "markdown",
      "metadata": {
        "id": "FLCSgPsADKAF"
      },
      "source": [
        "## PERFORMING EDA\n",
        "\n"
      ]
    },
    {
      "cell_type": "code",
      "execution_count": null,
      "metadata": {
        "colab": {
          "base_uri": "https://localhost:8080/",
          "height": 300
        },
        "id": "Q4aAJzb9lJ2I",
        "outputId": "53dca593-202b-42c7-d35a-c7325ba1d7c6"
      },
      "outputs": [
        {
          "output_type": "execute_result",
          "data": {
            "text/plain": [
              "       serial number  duration_month         poi  resident_since         age  \\\n",
              "count       800.0000       800.00000  788.000000      800.000000  796.000000   \n",
              "mean        400.5000        20.65125    2.950508        2.841250   35.408291   \n",
              "std         231.0844        12.15635    1.130084        1.106833   11.499101   \n",
              "min           1.0000         4.00000    1.000000        1.000000   19.000000   \n",
              "25%         200.7500        12.00000    2.000000        2.000000   27.000000   \n",
              "50%         400.5000        18.00000    3.000000        3.000000   33.000000   \n",
              "75%         600.2500        24.00000    4.000000        4.000000   41.000000   \n",
              "max         800.0000        72.00000    4.000000        4.000000   75.000000   \n",
              "\n",
              "       credits_no     liables    Group_no  \n",
              "count  800.000000  800.000000  800.000000  \n",
              "mean     1.396250    1.147500    2.076250  \n",
              "std      0.569773    0.354825    0.744062  \n",
              "min      1.000000    1.000000    1.000000  \n",
              "25%      1.000000    1.000000    2.000000  \n",
              "50%      1.000000    1.000000    2.000000  \n",
              "75%      2.000000    1.000000    3.000000  \n",
              "max      4.000000    2.000000    3.000000  "
            ],
            "text/html": [
              "\n",
              "  <div id=\"df-2f5ddaef-5289-4fb7-b65c-8b6b04aba356\">\n",
              "    <div class=\"colab-df-container\">\n",
              "      <div>\n",
              "<style scoped>\n",
              "    .dataframe tbody tr th:only-of-type {\n",
              "        vertical-align: middle;\n",
              "    }\n",
              "\n",
              "    .dataframe tbody tr th {\n",
              "        vertical-align: top;\n",
              "    }\n",
              "\n",
              "    .dataframe thead th {\n",
              "        text-align: right;\n",
              "    }\n",
              "</style>\n",
              "<table border=\"1\" class=\"dataframe\">\n",
              "  <thead>\n",
              "    <tr style=\"text-align: right;\">\n",
              "      <th></th>\n",
              "      <th>serial number</th>\n",
              "      <th>duration_month</th>\n",
              "      <th>poi</th>\n",
              "      <th>resident_since</th>\n",
              "      <th>age</th>\n",
              "      <th>credits_no</th>\n",
              "      <th>liables</th>\n",
              "      <th>Group_no</th>\n",
              "    </tr>\n",
              "  </thead>\n",
              "  <tbody>\n",
              "    <tr>\n",
              "      <th>count</th>\n",
              "      <td>800.0000</td>\n",
              "      <td>800.00000</td>\n",
              "      <td>788.000000</td>\n",
              "      <td>800.000000</td>\n",
              "      <td>796.000000</td>\n",
              "      <td>800.000000</td>\n",
              "      <td>800.000000</td>\n",
              "      <td>800.000000</td>\n",
              "    </tr>\n",
              "    <tr>\n",
              "      <th>mean</th>\n",
              "      <td>400.5000</td>\n",
              "      <td>20.65125</td>\n",
              "      <td>2.950508</td>\n",
              "      <td>2.841250</td>\n",
              "      <td>35.408291</td>\n",
              "      <td>1.396250</td>\n",
              "      <td>1.147500</td>\n",
              "      <td>2.076250</td>\n",
              "    </tr>\n",
              "    <tr>\n",
              "      <th>std</th>\n",
              "      <td>231.0844</td>\n",
              "      <td>12.15635</td>\n",
              "      <td>1.130084</td>\n",
              "      <td>1.106833</td>\n",
              "      <td>11.499101</td>\n",
              "      <td>0.569773</td>\n",
              "      <td>0.354825</td>\n",
              "      <td>0.744062</td>\n",
              "    </tr>\n",
              "    <tr>\n",
              "      <th>min</th>\n",
              "      <td>1.0000</td>\n",
              "      <td>4.00000</td>\n",
              "      <td>1.000000</td>\n",
              "      <td>1.000000</td>\n",
              "      <td>19.000000</td>\n",
              "      <td>1.000000</td>\n",
              "      <td>1.000000</td>\n",
              "      <td>1.000000</td>\n",
              "    </tr>\n",
              "    <tr>\n",
              "      <th>25%</th>\n",
              "      <td>200.7500</td>\n",
              "      <td>12.00000</td>\n",
              "      <td>2.000000</td>\n",
              "      <td>2.000000</td>\n",
              "      <td>27.000000</td>\n",
              "      <td>1.000000</td>\n",
              "      <td>1.000000</td>\n",
              "      <td>2.000000</td>\n",
              "    </tr>\n",
              "    <tr>\n",
              "      <th>50%</th>\n",
              "      <td>400.5000</td>\n",
              "      <td>18.00000</td>\n",
              "      <td>3.000000</td>\n",
              "      <td>3.000000</td>\n",
              "      <td>33.000000</td>\n",
              "      <td>1.000000</td>\n",
              "      <td>1.000000</td>\n",
              "      <td>2.000000</td>\n",
              "    </tr>\n",
              "    <tr>\n",
              "      <th>75%</th>\n",
              "      <td>600.2500</td>\n",
              "      <td>24.00000</td>\n",
              "      <td>4.000000</td>\n",
              "      <td>4.000000</td>\n",
              "      <td>41.000000</td>\n",
              "      <td>2.000000</td>\n",
              "      <td>1.000000</td>\n",
              "      <td>3.000000</td>\n",
              "    </tr>\n",
              "    <tr>\n",
              "      <th>max</th>\n",
              "      <td>800.0000</td>\n",
              "      <td>72.00000</td>\n",
              "      <td>4.000000</td>\n",
              "      <td>4.000000</td>\n",
              "      <td>75.000000</td>\n",
              "      <td>4.000000</td>\n",
              "      <td>2.000000</td>\n",
              "      <td>3.000000</td>\n",
              "    </tr>\n",
              "  </tbody>\n",
              "</table>\n",
              "</div>\n",
              "      <button class=\"colab-df-convert\" onclick=\"convertToInteractive('df-2f5ddaef-5289-4fb7-b65c-8b6b04aba356')\"\n",
              "              title=\"Convert this dataframe to an interactive table.\"\n",
              "              style=\"display:none;\">\n",
              "        \n",
              "  <svg xmlns=\"http://www.w3.org/2000/svg\" height=\"24px\"viewBox=\"0 0 24 24\"\n",
              "       width=\"24px\">\n",
              "    <path d=\"M0 0h24v24H0V0z\" fill=\"none\"/>\n",
              "    <path d=\"M18.56 5.44l.94 2.06.94-2.06 2.06-.94-2.06-.94-.94-2.06-.94 2.06-2.06.94zm-11 1L8.5 8.5l.94-2.06 2.06-.94-2.06-.94L8.5 2.5l-.94 2.06-2.06.94zm10 10l.94 2.06.94-2.06 2.06-.94-2.06-.94-.94-2.06-.94 2.06-2.06.94z\"/><path d=\"M17.41 7.96l-1.37-1.37c-.4-.4-.92-.59-1.43-.59-.52 0-1.04.2-1.43.59L10.3 9.45l-7.72 7.72c-.78.78-.78 2.05 0 2.83L4 21.41c.39.39.9.59 1.41.59.51 0 1.02-.2 1.41-.59l7.78-7.78 2.81-2.81c.8-.78.8-2.07 0-2.86zM5.41 20L4 18.59l7.72-7.72 1.47 1.35L5.41 20z\"/>\n",
              "  </svg>\n",
              "      </button>\n",
              "      \n",
              "  <style>\n",
              "    .colab-df-container {\n",
              "      display:flex;\n",
              "      flex-wrap:wrap;\n",
              "      gap: 12px;\n",
              "    }\n",
              "\n",
              "    .colab-df-convert {\n",
              "      background-color: #E8F0FE;\n",
              "      border: none;\n",
              "      border-radius: 50%;\n",
              "      cursor: pointer;\n",
              "      display: none;\n",
              "      fill: #1967D2;\n",
              "      height: 32px;\n",
              "      padding: 0 0 0 0;\n",
              "      width: 32px;\n",
              "    }\n",
              "\n",
              "    .colab-df-convert:hover {\n",
              "      background-color: #E2EBFA;\n",
              "      box-shadow: 0px 1px 2px rgba(60, 64, 67, 0.3), 0px 1px 3px 1px rgba(60, 64, 67, 0.15);\n",
              "      fill: #174EA6;\n",
              "    }\n",
              "\n",
              "    [theme=dark] .colab-df-convert {\n",
              "      background-color: #3B4455;\n",
              "      fill: #D2E3FC;\n",
              "    }\n",
              "\n",
              "    [theme=dark] .colab-df-convert:hover {\n",
              "      background-color: #434B5C;\n",
              "      box-shadow: 0px 1px 3px 1px rgba(0, 0, 0, 0.15);\n",
              "      filter: drop-shadow(0px 1px 2px rgba(0, 0, 0, 0.3));\n",
              "      fill: #FFFFFF;\n",
              "    }\n",
              "  </style>\n",
              "\n",
              "      <script>\n",
              "        const buttonEl =\n",
              "          document.querySelector('#df-2f5ddaef-5289-4fb7-b65c-8b6b04aba356 button.colab-df-convert');\n",
              "        buttonEl.style.display =\n",
              "          google.colab.kernel.accessAllowed ? 'block' : 'none';\n",
              "\n",
              "        async function convertToInteractive(key) {\n",
              "          const element = document.querySelector('#df-2f5ddaef-5289-4fb7-b65c-8b6b04aba356');\n",
              "          const dataTable =\n",
              "            await google.colab.kernel.invokeFunction('convertToInteractive',\n",
              "                                                     [key], {});\n",
              "          if (!dataTable) return;\n",
              "\n",
              "          const docLinkHtml = 'Like what you see? Visit the ' +\n",
              "            '<a target=\"_blank\" href=https://colab.research.google.com/notebooks/data_table.ipynb>data table notebook</a>'\n",
              "            + ' to learn more about interactive tables.';\n",
              "          element.innerHTML = '';\n",
              "          dataTable['output_type'] = 'display_data';\n",
              "          await google.colab.output.renderOutput(dataTable, element);\n",
              "          const docLink = document.createElement('div');\n",
              "          docLink.innerHTML = docLinkHtml;\n",
              "          element.appendChild(docLink);\n",
              "        }\n",
              "      </script>\n",
              "    </div>\n",
              "  </div>\n",
              "  "
            ]
          },
          "metadata": {},
          "execution_count": 5
        }
      ],
      "source": [
        "train.describe()"
      ]
    },
    {
      "cell_type": "code",
      "execution_count": null,
      "metadata": {
        "colab": {
          "base_uri": "https://localhost:8080/"
        },
        "id": "1-zE0NBCk7mP",
        "outputId": "2bf7544b-4c79-4bc8-a5f0-6b567380056d"
      },
      "outputs": [
        {
          "output_type": "stream",
          "name": "stdout",
          "text": [
            "<class 'pandas.core.frame.DataFrame'>\n",
            "RangeIndex: 800 entries, 0 to 799\n",
            "Data columns (total 21 columns):\n",
            " #   Column            Non-Null Count  Dtype  \n",
            "---  ------            --------------  -----  \n",
            " 0   serial number     800 non-null    int64  \n",
            " 1   account_info      800 non-null    object \n",
            " 2   duration_month    800 non-null    int64  \n",
            " 3   credit_history    800 non-null    object \n",
            " 4   purpose           800 non-null    object \n",
            " 5   savings_account   800 non-null    object \n",
            " 6   employment_st     792 non-null    object \n",
            " 7   poi               788 non-null    float64\n",
            " 8   personal_status   800 non-null    object \n",
            " 9   gurantors         792 non-null    object \n",
            " 10  resident_since    800 non-null    int64  \n",
            " 11  property_type     800 non-null    object \n",
            " 12  age               796 non-null    float64\n",
            " 13  installment_type  800 non-null    object \n",
            " 14  housing_type      793 non-null    object \n",
            " 15  credits_no        800 non-null    int64  \n",
            " 16  job_type          800 non-null    object \n",
            " 17  liables           800 non-null    int64  \n",
            " 18  telephone         800 non-null    object \n",
            " 19  foreigner         800 non-null    object \n",
            " 20  Group_no          800 non-null    int64  \n",
            "dtypes: float64(2), int64(6), object(13)\n",
            "memory usage: 131.4+ KB\n"
          ]
        }
      ],
      "source": [
        "train.info()"
      ]
    },
    {
      "cell_type": "markdown",
      "metadata": {
        "id": "bcBJ0vTetzEn"
      },
      "source": [
        "#### CHECKING FOR NULL VALUES"
      ]
    },
    {
      "cell_type": "code",
      "execution_count": null,
      "metadata": {
        "colab": {
          "base_uri": "https://localhost:8080/"
        },
        "id": "adqaCX9ak-nH",
        "outputId": "355f2119-446c-4dd1-ade2-01be3757e19a"
      },
      "outputs": [
        {
          "output_type": "execute_result",
          "data": {
            "text/plain": [
              "serial number        0\n",
              "account_info         0\n",
              "duration_month       0\n",
              "credit_history       0\n",
              "purpose              0\n",
              "savings_account      0\n",
              "employment_st        8\n",
              "poi                 12\n",
              "personal_status      0\n",
              "gurantors            8\n",
              "resident_since       0\n",
              "property_type        0\n",
              "age                  4\n",
              "installment_type     0\n",
              "housing_type         7\n",
              "credits_no           0\n",
              "job_type             0\n",
              "liables              0\n",
              "telephone            0\n",
              "foreigner            0\n",
              "Group_no             0\n",
              "dtype: int64"
            ]
          },
          "metadata": {},
          "execution_count": 7
        }
      ],
      "source": [
        "train.isna().sum()"
      ]
    },
    {
      "cell_type": "markdown",
      "metadata": {
        "id": "rCn-E81kDYWy"
      },
      "source": [
        "**THERE ARE NULL VALUES PRESENT IN OUR DATASET**"
      ]
    },
    {
      "cell_type": "code",
      "execution_count": null,
      "metadata": {
        "colab": {
          "base_uri": "https://localhost:8080/",
          "height": 448
        },
        "id": "kUnJJ7VEmBEU",
        "outputId": "109b864e-53d5-461c-d255-cbbcf6f6303f"
      },
      "outputs": [
        {
          "output_type": "execute_result",
          "data": {
            "text/plain": [
              "<Axes: >"
            ]
          },
          "metadata": {},
          "execution_count": 8
        },
        {
          "output_type": "display_data",
          "data": {
            "text/plain": [
              "<Figure size 640x480 with 1 Axes>"
            ],
            "image/png": "[encoded data removed]"
          },
          "metadata": {}
        }
      ],
      "source": [
        "sns.boxplot(train[\"poi\"])"
      ]
    },
    {
      "cell_type": "markdown",
      "metadata": {
        "id": "vlFkTvH8uE31"
      },
      "source": [
        "*PLOTTING BOXPLOT TO CHECK FOR OUTLIERS -> IF OUTLIERS ARE PRESENT WE CAN USE MEDIAN TO FILL NULL VALUES OR ELSE WE CAN USE MEAN TO FILL NA VALUES.*\n",
        "\n",
        "**FROM THE ABOVE PLOT, WE CAN CONCLUDE THAT THERE ARE NO OUTLIERS PRESENT.**"
      ]
    },
    {
      "cell_type": "code",
      "execution_count": null,
      "metadata": {
        "id": "Rbuid8OGlBno"
      },
      "outputs": [],
      "source": [
        "def fill_na(train):\n",
        "  for i in train.columns:\n",
        "    if train[i].dtype==\"object\":\n",
        "      train[i]=np.where(train[i].isna(),train[i].mode(),train[i])\n",
        "    else:\n",
        "      train[i]=np.where(train[i].isna(),train[i].mean(skipna=True),train[i])\n",
        "  return train\n"
      ]
    },
    {
      "cell_type": "code",
      "execution_count": null,
      "metadata": {
        "colab": {
          "base_uri": "https://localhost:8080/",
          "height": 505
        },
        "id": "RbJc1_iNmqU2",
        "outputId": "0bfb3167-8032-4f92-bb61-e6d8632c3f9a"
      },
      "outputs": [
        {
          "output_type": "execute_result",
          "data": {
            "text/plain": [
              "     serial number account_info  duration_month credit_history purpose  \\\n",
              "0              1.0          A11             6.0            A34     A43   \n",
              "1              2.0          A12            48.0            A32     A43   \n",
              "2              3.0          A14            12.0            A34     A46   \n",
              "3              4.0          A11            42.0            A32     A42   \n",
              "4              5.0          A11            24.0            A33     A40   \n",
              "..             ...          ...             ...            ...     ...   \n",
              "795          796.0          A14             9.0            A32     A42   \n",
              "796          797.0          A11            18.0            A32     A41   \n",
              "797          798.0          A14            12.0            A34     A42   \n",
              "798          799.0          A14            24.0            A33     A40   \n",
              "799          800.0          A12             9.0            A32     A40   \n",
              "\n",
              "    savings_account employment_st  poi personal_status gurantors  ...  \\\n",
              "0               A65           A75  4.0             A93      A101  ...   \n",
              "1               A61           A73  2.0             A92      A101  ...   \n",
              "2               A61           A74  2.0             A93      A101  ...   \n",
              "3               A61           A74  2.0             A93      A103  ...   \n",
              "4               A61           A73  3.0             A93      A101  ...   \n",
              "..              ...           ...  ...             ...       ...  ...   \n",
              "795             A62           A72  2.0             A92      A101  ...   \n",
              "796             A65           A75  1.0             A93      A101  ...   \n",
              "797             A61           A72  2.0             A92      A101  ...   \n",
              "798             A65           A75  4.0             A94      A101  ...   \n",
              "799             A65           A72  4.0             A93      A101  ...   \n",
              "\n",
              "     property_type   age  installment_type housing_type credits_no  job_type  \\\n",
              "0             A121  67.0              A143         A152        2.0      A173   \n",
              "1             A121  22.0              A143         A152        1.0      A173   \n",
              "2             A121  49.0              A143         A152        1.0      A172   \n",
              "3             A122  45.0              A143         A153        1.0      A173   \n",
              "4             A124  53.0              A143         A153        2.0      A173   \n",
              "..             ...   ...               ...          ...        ...       ...   \n",
              "795           A122  22.0              A143         A151        1.0      A173   \n",
              "796           A122  51.0              A143         A153        1.0      A173   \n",
              "797           A122  22.0              A143         A151        2.0      A172   \n",
              "798           A123  54.0              A143         A152        2.0      A173   \n",
              "799           A121  35.0              A143         A152        1.0      A171   \n",
              "\n",
              "    liables  telephone foreigner Group_no  \n",
              "0       1.0       A192      A201      3.0  \n",
              "1       1.0       A191      A201      1.0  \n",
              "2       2.0       A191      A201      2.0  \n",
              "3       2.0       A191      A201      1.0  \n",
              "4       2.0       A191      A201      1.0  \n",
              "..      ...        ...       ...      ...  \n",
              "795     1.0       A191      A201      2.0  \n",
              "796     2.0       A192      A201      1.0  \n",
              "797     1.0       A191      A201      3.0  \n",
              "798     1.0       A192      A201      3.0  \n",
              "799     1.0       A191      A201      2.0  \n",
              "\n",
              "[800 rows x 21 columns]"
            ],
            "text/html": [
              "\n",
              "  <div id=\"df-8f87b5c3-c78c-440a-a3e5-9e3f26d3d200\">\n",
              "    <div class=\"colab-df-container\">\n",
              "      <div>\n",
              "<style scoped>\n",
              "    .dataframe tbody tr th:only-of-type {\n",
              "        vertical-align: middle;\n",
              "    }\n",
              "\n",
              "    .dataframe tbody tr th {\n",
              "        vertical-align: top;\n",
              "    }\n",
              "\n",
              "    .dataframe thead th {\n",
              "        text-align: right;\n",
              "    }\n",
              "</style>\n",
              "<table border=\"1\" class=\"dataframe\">\n",
              "  <thead>\n",
              "    <tr style=\"text-align: right;\">\n",
              "      <th></th>\n",
              "      <th>serial number</th>\n",
              "      <th>account_info</th>\n",
              "      <th>duration_month</th>\n",
              "      <th>credit_history</th>\n",
              "      <th>purpose</th>\n",
              "      <th>savings_account</th>\n",
              "      <th>employment_st</th>\n",
              "      <th>poi</th>\n",
              "      <th>personal_status</th>\n",
              "      <th>gurantors</th>\n",
              "      <th>...</th>\n",
              "      <th>property_type</th>\n",
              "      <th>age</th>\n",
              "      <th>installment_type</th>\n",
              "      <th>housing_type</th>\n",
              "      <th>credits_no</th>\n",
              "      <th>job_type</th>\n",
              "      <th>liables</th>\n",
              "      <th>telephone</th>\n",
              "      <th>foreigner</th>\n",
              "      <th>Group_no</th>\n",
              "    </tr>\n",
              "  </thead>\n",
              "  <tbody>\n",
              "    <tr>\n",
              "      <th>0</th>\n",
              "      <td>1.0</td>\n",
              "      <td>A11</td>\n",
              "      <td>6.0</td>\n",
              "      <td>A34</td>\n",
              "      <td>A43</td>\n",
              "      <td>A65</td>\n",
              "      <td>A75</td>\n",
              "      <td>4.0</td>\n",
              "      <td>A93</td>\n",
              "      <td>A101</td>\n",
              "      <td>...</td>\n",
              "      <td>A121</td>\n",
              "      <td>67.0</td>\n",
              "      <td>A143</td>\n",
              "      <td>A152</td>\n",
              "      <td>2.0</td>\n",
              "      <td>A173</td>\n",
              "      <td>1.0</td>\n",
              "      <td>A192</td>\n",
              "      <td>A201</td>\n",
              "      <td>3.0</td>\n",
              "    </tr>\n",
              "    <tr>\n",
              "      <th>1</th>\n",
              "      <td>2.0</td>\n",
              "      <td>A12</td>\n",
              "      <td>48.0</td>\n",
              "      <td>A32</td>\n",
              "      <td>A43</td>\n",
              "      <td>A61</td>\n",
              "      <td>A73</td>\n",
              "      <td>2.0</td>\n",
              "      <td>A92</td>\n",
              "      <td>A101</td>\n",
              "      <td>...</td>\n",
              "      <td>A121</td>\n",
              "      <td>22.0</td>\n",
              "      <td>A143</td>\n",
              "      <td>A152</td>\n",
              "      <td>1.0</td>\n",
              "      <td>A173</td>\n",
              "      <td>1.0</td>\n",
              "      <td>A191</td>\n",
              "      <td>A201</td>\n",
              "      <td>1.0</td>\n",
              "    </tr>\n",
              "    <tr>\n",
              "      <th>2</th>\n",
              "      <td>3.0</td>\n",
              "      <td>A14</td>\n",
              "      <td>12.0</td>\n",
              "      <td>A34</td>\n",
              "      <td>A46</td>\n",
              "      <td>A61</td>\n",
              "      <td>A74</td>\n",
              "      <td>2.0</td>\n",
              "      <td>A93</td>\n",
              "      <td>A101</td>\n",
              "      <td>...</td>\n",
              "      <td>A121</td>\n",
              "      <td>49.0</td>\n",
              "      <td>A143</td>\n",
              "      <td>A152</td>\n",
              "      <td>1.0</td>\n",
              "      <td>A172</td>\n",
              "      <td>2.0</td>\n",
              "      <td>A191</td>\n",
              "      <td>A201</td>\n",
              "      <td>2.0</td>\n",
              "    </tr>\n",
              "    <tr>\n",
              "      <th>3</th>\n",
              "      <td>4.0</td>\n",
              "      <td>A11</td>\n",
              "      <td>42.0</td>\n",
              "      <td>A32</td>\n",
              "      <td>A42</td>\n",
              "      <td>A61</td>\n",
              "      <td>A74</td>\n",
              "      <td>2.0</td>\n",
              "      <td>A93</td>\n",
              "      <td>A103</td>\n",
              "      <td>...</td>\n",
              "      <td>A122</td>\n",
              "      <td>45.0</td>\n",
              "      <td>A143</td>\n",
              "      <td>A153</td>\n",
              "      <td>1.0</td>\n",
              "      <td>A173</td>\n",
              "      <td>2.0</td>\n",
              "      <td>A191</td>\n",
              "      <td>A201</td>\n",
              "      <td>1.0</td>\n",
              "    </tr>\n",
              "    <tr>\n",
              "      <th>4</th>\n",
              "      <td>5.0</td>\n",
              "      <td>A11</td>\n",
              "      <td>24.0</td>\n",
              "      <td>A33</td>\n",
              "      <td>A40</td>\n",
              "      <td>A61</td>\n",
              "      <td>A73</td>\n",
              "      <td>3.0</td>\n",
              "      <td>A93</td>\n",
              "      <td>A101</td>\n",
              "      <td>...</td>\n",
              "      <td>A124</td>\n",
              "      <td>53.0</td>\n",
              "      <td>A143</td>\n",
              "      <td>A153</td>\n",
              "      <td>2.0</td>\n",
              "      <td>A173</td>\n",
              "      <td>2.0</td>\n",
              "      <td>A191</td>\n",
              "      <td>A201</td>\n",
              "      <td>1.0</td>\n",
              "    </tr>\n",
              "    <tr>\n",
              "      <th>...</th>\n",
              "      <td>...</td>\n",
              "      <td>...</td>\n",
              "      <td>...</td>\n",
              "      <td>...</td>\n",
              "      <td>...</td>\n",
              "      <td>...</td>\n",
              "      <td>...</td>\n",
              "      <td>...</td>\n",
              "      <td>...</td>\n",
              "      <td>...</td>\n",
              "      <td>...</td>\n",
              "      <td>...</td>\n",
              "      <td>...</td>\n",
              "      <td>...</td>\n",
              "      <td>...</td>\n",
              "      <td>...</td>\n",
              "      <td>...</td>\n",
              "      <td>...</td>\n",
              "      <td>...</td>\n",
              "      <td>...</td>\n",
              "      <td>...</td>\n",
              "    </tr>\n",
              "    <tr>\n",
              "      <th>795</th>\n",
              "      <td>796.0</td>\n",
              "      <td>A14</td>\n",
              "      <td>9.0</td>\n",
              "      <td>A32</td>\n",
              "      <td>A42</td>\n",
              "      <td>A62</td>\n",
              "      <td>A72</td>\n",
              "      <td>2.0</td>\n",
              "      <td>A92</td>\n",
              "      <td>A101</td>\n",
              "      <td>...</td>\n",
              "      <td>A122</td>\n",
              "      <td>22.0</td>\n",
              "      <td>A143</td>\n",
              "      <td>A151</td>\n",
              "      <td>1.0</td>\n",
              "      <td>A173</td>\n",
              "      <td>1.0</td>\n",
              "      <td>A191</td>\n",
              "      <td>A201</td>\n",
              "      <td>2.0</td>\n",
              "    </tr>\n",
              "    <tr>\n",
              "      <th>796</th>\n",
              "      <td>797.0</td>\n",
              "      <td>A11</td>\n",
              "      <td>18.0</td>\n",
              "      <td>A32</td>\n",
              "      <td>A41</td>\n",
              "      <td>A65</td>\n",
              "      <td>A75</td>\n",
              "      <td>1.0</td>\n",
              "      <td>A93</td>\n",
              "      <td>A101</td>\n",
              "      <td>...</td>\n",
              "      <td>A122</td>\n",
              "      <td>51.0</td>\n",
              "      <td>A143</td>\n",
              "      <td>A153</td>\n",
              "      <td>1.0</td>\n",
              "      <td>A173</td>\n",
              "      <td>2.0</td>\n",
              "      <td>A192</td>\n",
              "      <td>A201</td>\n",
              "      <td>1.0</td>\n",
              "    </tr>\n",
              "    <tr>\n",
              "      <th>797</th>\n",
              "      <td>798.0</td>\n",
              "      <td>A14</td>\n",
              "      <td>12.0</td>\n",
              "      <td>A34</td>\n",
              "      <td>A42</td>\n",
              "      <td>A61</td>\n",
              "      <td>A72</td>\n",
              "      <td>2.0</td>\n",
              "      <td>A92</td>\n",
              "      <td>A101</td>\n",
              "      <td>...</td>\n",
              "      <td>A122</td>\n",
              "      <td>22.0</td>\n",
              "      <td>A143</td>\n",
              "      <td>A151</td>\n",
              "      <td>2.0</td>\n",
              "      <td>A172</td>\n",
              "      <td>1.0</td>\n",
              "      <td>A191</td>\n",
              "      <td>A201</td>\n",
              "      <td>3.0</td>\n",
              "    </tr>\n",
              "    <tr>\n",
              "      <th>798</th>\n",
              "      <td>799.0</td>\n",
              "      <td>A14</td>\n",
              "      <td>24.0</td>\n",
              "      <td>A33</td>\n",
              "      <td>A40</td>\n",
              "      <td>A65</td>\n",
              "      <td>A75</td>\n",
              "      <td>4.0</td>\n",
              "      <td>A94</td>\n",
              "      <td>A101</td>\n",
              "      <td>...</td>\n",
              "      <td>A123</td>\n",
              "      <td>54.0</td>\n",
              "      <td>A143</td>\n",
              "      <td>A152</td>\n",
              "      <td>2.0</td>\n",
              "      <td>A173</td>\n",
              "      <td>1.0</td>\n",
              "      <td>A192</td>\n",
              "      <td>A201</td>\n",
              "      <td>3.0</td>\n",
              "    </tr>\n",
              "    <tr>\n",
              "      <th>799</th>\n",
              "      <td>800.0</td>\n",
              "      <td>A12</td>\n",
              "      <td>9.0</td>\n",
              "      <td>A32</td>\n",
              "      <td>A40</td>\n",
              "      <td>A65</td>\n",
              "      <td>A72</td>\n",
              "      <td>4.0</td>\n",
              "      <td>A93</td>\n",
              "      <td>A101</td>\n",
              "      <td>...</td>\n",
              "      <td>A121</td>\n",
              "      <td>35.0</td>\n",
              "      <td>A143</td>\n",
              "      <td>A152</td>\n",
              "      <td>1.0</td>\n",
              "      <td>A171</td>\n",
              "      <td>1.0</td>\n",
              "      <td>A191</td>\n",
              "      <td>A201</td>\n",
              "      <td>2.0</td>\n",
              "    </tr>\n",
              "  </tbody>\n",
              "</table>\n",
              "<p>800 rows × 21 columns</p>\n",
              "</div>\n",
              "      <button class=\"colab-df-convert\" onclick=\"convertToInteractive('df-8f87b5c3-c78c-440a-a3e5-9e3f26d3d200')\"\n",
              "              title=\"Convert this dataframe to an interactive table.\"\n",
              "              style=\"display:none;\">\n",
              "        \n",
              "  <svg xmlns=\"http://www.w3.org/2000/svg\" height=\"24px\"viewBox=\"0 0 24 24\"\n",
              "       width=\"24px\">\n",
              "    <path d=\"M0 0h24v24H0V0z\" fill=\"none\"/>\n",
              "    <path d=\"M18.56 5.44l.94 2.06.94-2.06 2.06-.94-2.06-.94-.94-2.06-.94 2.06-2.06.94zm-11 1L8.5 8.5l.94-2.06 2.06-.94-2.06-.94L8.5 2.5l-.94 2.06-2.06.94zm10 10l.94 2.06.94-2.06 2.06-.94-2.06-.94-.94-2.06-.94 2.06-2.06.94z\"/><path d=\"M17.41 7.96l-1.37-1.37c-.4-.4-.92-.59-1.43-.59-.52 0-1.04.2-1.43.59L10.3 9.45l-7.72 7.72c-.78.78-.78 2.05 0 2.83L4 21.41c.39.39.9.59 1.41.59.51 0 1.02-.2 1.41-.59l7.78-7.78 2.81-2.81c.8-.78.8-2.07 0-2.86zM5.41 20L4 18.59l7.72-7.72 1.47 1.35L5.41 20z\"/>\n",
              "  </svg>\n",
              "      </button>\n",
              "      \n",
              "  <style>\n",
              "    .colab-df-container {\n",
              "      display:flex;\n",
              "      flex-wrap:wrap;\n",
              "      gap: 12px;\n",
              "    }\n",
              "\n",
              "    .colab-df-convert {\n",
              "      background-color: #E8F0FE;\n",
              "      border: none;\n",
              "      border-radius: 50%;\n",
              "      cursor: pointer;\n",
              "      display: none;\n",
              "      fill: #1967D2;\n",
              "      height: 32px;\n",
              "      padding: 0 0 0 0;\n",
              "      width: 32px;\n",
              "    }\n",
              "\n",
              "    .colab-df-convert:hover {\n",
              "      background-color: #E2EBFA;\n",
              "      box-shadow: 0px 1px 2px rgba(60, 64, 67, 0.3), 0px 1px 3px 1px rgba(60, 64, 67, 0.15);\n",
              "      fill: #174EA6;\n",
              "    }\n",
              "\n",
              "    [theme=dark] .colab-df-convert {\n",
              "      background-color: #3B4455;\n",
              "      fill: #D2E3FC;\n",
              "    }\n",
              "\n",
              "    [theme=dark] .colab-df-convert:hover {\n",
              "      background-color: #434B5C;\n",
              "      box-shadow: 0px 1px 3px 1px rgba(0, 0, 0, 0.15);\n",
              "      filter: drop-shadow(0px 1px 2px rgba(0, 0, 0, 0.3));\n",
              "      fill: #FFFFFF;\n",
              "    }\n",
              "  </style>\n",
              "\n",
              "      <script>\n",
              "        const buttonEl =\n",
              "          document.querySelector('#df-8f87b5c3-c78c-440a-a3e5-9e3f26d3d200 button.colab-df-convert');\n",
              "        buttonEl.style.display =\n",
              "          google.colab.kernel.accessAllowed ? 'block' : 'none';\n",
              "\n",
              "        async function convertToInteractive(key) {\n",
              "          const element = document.querySelector('#df-8f87b5c3-c78c-440a-a3e5-9e3f26d3d200');\n",
              "          const dataTable =\n",
              "            await google.colab.kernel.invokeFunction('convertToInteractive',\n",
              "                                                     [key], {});\n",
              "          if (!dataTable) return;\n",
              "\n",
              "          const docLinkHtml = 'Like what you see? Visit the ' +\n",
              "            '<a target=\"_blank\" href=https://colab.research.google.com/notebooks/data_table.ipynb>data table notebook</a>'\n",
              "            + ' to learn more about interactive tables.';\n",
              "          element.innerHTML = '';\n",
              "          dataTable['output_type'] = 'display_data';\n",
              "          await google.colab.output.renderOutput(dataTable, element);\n",
              "          const docLink = document.createElement('div');\n",
              "          docLink.innerHTML = docLinkHtml;\n",
              "          element.appendChild(docLink);\n",
              "        }\n",
              "      </script>\n",
              "    </div>\n",
              "  </div>\n",
              "  "
            ]
          },
          "metadata": {},
          "execution_count": 10
        }
      ],
      "source": [
        "fill_na(train)"
      ]
    },
    {
      "cell_type": "code",
      "execution_count": null,
      "metadata": {
        "colab": {
          "base_uri": "https://localhost:8080/"
        },
        "id": "VzGNgwkGms53",
        "outputId": "4975f42f-05dd-4a99-bed8-0988cab87b56"
      },
      "outputs": [
        {
          "output_type": "execute_result",
          "data": {
            "text/plain": [
              "serial number       0\n",
              "account_info        0\n",
              "duration_month      0\n",
              "credit_history      0\n",
              "purpose             0\n",
              "savings_account     0\n",
              "employment_st       0\n",
              "poi                 0\n",
              "personal_status     0\n",
              "gurantors           0\n",
              "resident_since      0\n",
              "property_type       0\n",
              "age                 0\n",
              "installment_type    0\n",
              "housing_type        0\n",
              "credits_no          0\n",
              "job_type            0\n",
              "liables             0\n",
              "telephone           0\n",
              "foreigner           0\n",
              "Group_no            0\n",
              "dtype: int64"
            ]
          },
          "metadata": {},
          "execution_count": 11
        }
      ],
      "source": [
        "train.isna().sum()"
      ]
    },
    {
      "cell_type": "code",
      "execution_count": null,
      "metadata": {
        "colab": {
          "base_uri": "https://localhost:8080/"
        },
        "id": "Xek_LCYyrEQo",
        "outputId": "a994dc8b-09df-46a8-bdd0-be3ce0c8d348"
      },
      "outputs": [
        {
          "output_type": "stream",
          "name": "stdout",
          "text": [
            "<class 'pandas.core.frame.DataFrame'>\n",
            "RangeIndex: 800 entries, 0 to 799\n",
            "Data columns (total 21 columns):\n",
            " #   Column            Non-Null Count  Dtype  \n",
            "---  ------            --------------  -----  \n",
            " 0   serial number     800 non-null    float64\n",
            " 1   account_info      800 non-null    object \n",
            " 2   duration_month    800 non-null    float64\n",
            " 3   credit_history    800 non-null    object \n",
            " 4   purpose           800 non-null    object \n",
            " 5   savings_account   800 non-null    object \n",
            " 6   employment_st     800 non-null    object \n",
            " 7   poi               800 non-null    float64\n",
            " 8   personal_status   800 non-null    object \n",
            " 9   gurantors         800 non-null    object \n",
            " 10  resident_since    800 non-null    float64\n",
            " 11  property_type     800 non-null    object \n",
            " 12  age               800 non-null    float64\n",
            " 13  installment_type  800 non-null    object \n",
            " 14  housing_type      800 non-null    object \n",
            " 15  credits_no        800 non-null    float64\n",
            " 16  job_type          800 non-null    object \n",
            " 17  liables           800 non-null    float64\n",
            " 18  telephone         800 non-null    object \n",
            " 19  foreigner         800 non-null    object \n",
            " 20  Group_no          800 non-null    float64\n",
            "dtypes: float64(8), object(13)\n",
            "memory usage: 131.4+ KB\n"
          ]
        }
      ],
      "source": [
        "train.info()"
      ]
    },
    {
      "cell_type": "markdown",
      "metadata": {
        "id": "YAk-wJDjDnjL"
      },
      "source": [
        "#### DROPPING UNNECESSARY COLUMNS"
      ]
    },
    {
      "cell_type": "code",
      "execution_count": null,
      "metadata": {
        "id": "b1RWctj8rSB8"
      },
      "outputs": [],
      "source": [
        "train.drop(\"serial number\",axis=1,inplace=True)"
      ]
    },
    {
      "cell_type": "code",
      "execution_count": null,
      "metadata": {
        "colab": {
          "base_uri": "https://localhost:8080/"
        },
        "id": "LTKAhqKdsMwc",
        "outputId": "7e0ca1ef-35f8-440b-de91-7ae8e721ddfc"
      },
      "outputs": [
        {
          "output_type": "stream",
          "name": "stdout",
          "text": [
            "<class 'pandas.core.frame.DataFrame'>\n",
            "RangeIndex: 800 entries, 0 to 799\n",
            "Data columns (total 20 columns):\n",
            " #   Column            Non-Null Count  Dtype  \n",
            "---  ------            --------------  -----  \n",
            " 0   account_info      800 non-null    object \n",
            " 1   duration_month    800 non-null    float64\n",
            " 2   credit_history    800 non-null    object \n",
            " 3   purpose           800 non-null    object \n",
            " 4   savings_account   800 non-null    object \n",
            " 5   employment_st     800 non-null    object \n",
            " 6   poi               800 non-null    float64\n",
            " 7   personal_status   800 non-null    object \n",
            " 8   gurantors         800 non-null    object \n",
            " 9   resident_since    800 non-null    float64\n",
            " 10  property_type     800 non-null    object \n",
            " 11  age               800 non-null    float64\n",
            " 12  installment_type  800 non-null    object \n",
            " 13  housing_type      800 non-null    object \n",
            " 14  credits_no        800 non-null    float64\n",
            " 15  job_type          800 non-null    object \n",
            " 16  liables           800 non-null    float64\n",
            " 17  telephone         800 non-null    object \n",
            " 18  foreigner         800 non-null    object \n",
            " 19  Group_no          800 non-null    float64\n",
            "dtypes: float64(7), object(13)\n",
            "memory usage: 125.1+ KB\n"
          ]
        }
      ],
      "source": [
        "train.info()"
      ]
    },
    {
      "cell_type": "markdown",
      "metadata": {
        "id": "uAoxN55RDxd7"
      },
      "source": [
        "#### DATA VISUALIZATION"
      ]
    },
    {
      "cell_type": "code",
      "execution_count": null,
      "metadata": {
        "colab": {
          "base_uri": "https://localhost:8080/",
          "height": 1000
        },
        "id": "SgBfkVbIn4Gh",
        "outputId": "aa111004-c987-4979-8942-0612f2b4a724"
      },
      "outputs": [
        {
          "output_type": "execute_result",
          "data": {
            "text/plain": [
              "array([[<Axes: title={'center': 'duration_month'}>,\n",
              "        <Axes: title={'center': 'poi'}>,\n",
              "        <Axes: title={'center': 'resident_since'}>],\n",
              "       [<Axes: title={'center': 'age'}>,\n",
              "        <Axes: title={'center': 'credits_no'}>,\n",
              "        <Axes: title={'center': 'liables'}>],\n",
              "       [<Axes: title={'center': 'Group_no'}>, <Axes: >, <Axes: >]],\n",
              "      dtype=object)"
            ]
          },
          "metadata": {},
          "execution_count": 15
        },
        {
          "output_type": "display_data",
          "data": {
            "text/plain": [
              "<Figure size 2400x2400 with 9 Axes>"
            ],
            "image/png": "[encoded data removed]"
          },
          "metadata": {}
        }
      ],
      "source": [
        "train.hist(figsize=(24,24))"
      ]
    },
    {
      "cell_type": "code",
      "execution_count": null,
      "metadata": {
        "colab": {
          "base_uri": "https://localhost:8080/",
          "height": 461
        },
        "id": "gq9SRi5ixSh4",
        "outputId": "b1751213-a73d-4cbd-ad9c-85168b167817"
      },
      "outputs": [
        {
          "output_type": "execute_result",
          "data": {
            "text/plain": [
              "<Axes: >"
            ]
          },
          "metadata": {},
          "execution_count": 16
        },
        {
          "output_type": "display_data",
          "data": {
            "text/plain": [
              "<Figure size 640x480 with 1 Axes>"
            ],
            "image/png": "[encoded data removed]"
          },
          "metadata": {}
        }
      ],
      "source": [
        "train[\"account_info\"].value_counts().plot(kind=\"bar\")"
      ]
    },
    {
      "cell_type": "markdown",
      "metadata": {
        "id": "L391Pps1EJDB"
      },
      "source": [
        "1.   A11 signifies 0 (excluding 0) or lesser amount credited to current checking account. (Amounts are in units of certain currency)\n",
        "2.   A12 signifies greater than 0 (including 0) and lesser than 200 (excluding 200) units of currency\n",
        "3.   A13 signifies amount greater than 200 (including 200) being recorded in the account\n",
        "4.   A14 signifies no account details provided\n",
        "\n",
        "\n",
        "\n"
      ]
    },
    {
      "cell_type": "markdown",
      "metadata": {
        "id": "3h6baadzD5wj"
      },
      "source": [
        "**ACCOUNT A14 HAS THE HIGHEST COUNTS.**"
      ]
    },
    {
      "cell_type": "code",
      "execution_count": null,
      "metadata": {
        "colab": {
          "base_uri": "https://localhost:8080/",
          "height": 424
        },
        "id": "SodXu2mdxi0U",
        "outputId": "19c3df6d-bf6b-4c64-e8b6-088f83da5561"
      },
      "outputs": [
        {
          "output_type": "execute_result",
          "data": {
            "text/plain": [
              "<Axes: ylabel='employment_st'>"
            ]
          },
          "metadata": {},
          "execution_count": 17
        },
        {
          "output_type": "display_data",
          "data": {
            "text/plain": [
              "<Figure size 640x480 with 1 Axes>"
            ],
            "image/png": "[encoded data removed]"
          },
          "metadata": {}
        }
      ],
      "source": [
        "train[\"employment_st\"].value_counts().plot(kind=\"pie\",autopct='%1.1f%%')\n"
      ]
    },
    {
      "cell_type": "markdown",
      "metadata": {
        "id": "fE6VOsg3EbS1"
      },
      "source": [
        "\n",
        "*  A71 signifies that the individual is unemployed\n",
        "\n",
        "*   A72 signifies that the individual has been employed for less than a year\n",
        "*   A73 signifies that the individual has been employed for more than a year but less than four years\n",
        "\n",
        "\n",
        "* A74 signifies that the individual has been employed more than four years but less than seven years\n",
        "\n",
        "\n",
        "*  A75 signifies that the individual has been employed for more than seven years\n",
        "\n",
        "\n",
        "\n",
        "\n"
      ]
    },
    {
      "cell_type": "markdown",
      "metadata": {
        "id": "sb3aDRwwE9RV"
      },
      "source": [
        "**A73 HAS THE HIGHEST COUNT AMOUNG ALL OTHER STATUSES.**"
      ]
    },
    {
      "cell_type": "code",
      "execution_count": null,
      "metadata": {
        "colab": {
          "base_uri": "https://localhost:8080/",
          "height": 448
        },
        "id": "z3te2vNcypOA",
        "outputId": "a5079c3f-3539-41f9-cc04-e592d222278e"
      },
      "outputs": [
        {
          "output_type": "execute_result",
          "data": {
            "text/plain": [
              "<Axes: ylabel='duration_month'>"
            ]
          },
          "metadata": {},
          "execution_count": 18
        },
        {
          "output_type": "display_data",
          "data": {
            "text/plain": [
              "<Figure size 640x480 with 1 Axes>"
            ],
            "image/png": "[encoded data removed]"
          },
          "metadata": {}
        }
      ],
      "source": [
        "sns.scatterplot(train[\"duration_month\"])"
      ]
    },
    {
      "cell_type": "code",
      "execution_count": null,
      "metadata": {
        "colab": {
          "base_uri": "https://localhost:8080/",
          "height": 461
        },
        "id": "2__3kwmQyUOD",
        "outputId": "1e0a3382-82dc-41cd-facf-393a6ee92b51"
      },
      "outputs": [
        {
          "output_type": "execute_result",
          "data": {
            "text/plain": [
              "<Axes: >"
            ]
          },
          "metadata": {},
          "execution_count": 19
        },
        {
          "output_type": "display_data",
          "data": {
            "text/plain": [
              "<Figure size 640x480 with 1 Axes>"
            ],
            "image/png": "[encoded data removed]"
          },
          "metadata": {}
        }
      ],
      "source": [
        "train[\"credit_history\"].value_counts().plot(kind=\"bar\")"
      ]
    },
    {
      "cell_type": "markdown",
      "metadata": {
        "id": "VBdw-cyKFFtD"
      },
      "source": [
        "\n",
        "\n",
        "\n",
        "\n",
        "\n",
        "\n",
        "\n",
        "\n",
        "*   A30 signifies that no previous loans has been taken or all loans taken have been payed back.\n",
        "\n",
        "*   A31 signifies that all loans from the current bank has been payed off. Loan information of other banks are not available.\n",
        "\n",
        "*   A32 signifies loan exists but till now regular installments have been payed back in full amount.\n",
        "*   A33  signifies that significant delays have been seen in repayment of loan installments.\n",
        "\n",
        "\n",
        "*  A34 signifies other loans exist at the same bank. Irregular behaviour in repayment.\n",
        "\n",
        "\n",
        "\n",
        "\n"
      ]
    },
    {
      "cell_type": "markdown",
      "metadata": {
        "id": "pvfdwKPlFSkO"
      },
      "source": [
        "**A32 HAS THE HIGHEST VALUE COUNTS WHILE THEA30 HAS THE LOWEST VALUE COUNTS.**"
      ]
    },
    {
      "cell_type": "code",
      "execution_count": null,
      "metadata": {
        "colab": {
          "base_uri": "https://localhost:8080/",
          "height": 461
        },
        "id": "Eo5tqHyOzsVq",
        "outputId": "daba0677-d819-4b97-f7e1-e0bdeb437e9a"
      },
      "outputs": [
        {
          "output_type": "execute_result",
          "data": {
            "text/plain": [
              "<Axes: >"
            ]
          },
          "metadata": {},
          "execution_count": 20
        },
        {
          "output_type": "display_data",
          "data": {
            "text/plain": [
              "<Figure size 640x480 with 1 Axes>"
            ],
            "image/png": "[encoded data removed]"
          },
          "metadata": {}
        }
      ],
      "source": [
        "train[\"personal_status\"].value_counts().plot(kind=\"bar\")"
      ]
    },
    {
      "cell_type": "markdown",
      "metadata": {
        "id": "pKLFbfmuFiCj"
      },
      "source": [
        "\n",
        "\n",
        "\n",
        "\n",
        "\n",
        "\n",
        "*  A91 signifies that the individual is a separated or divorced male\n",
        "\n",
        "*   A92 signifies female individuals who are separated or divorced\n",
        "*   A93 signifies unmarried males\n",
        "\n",
        "\n",
        "*   A94 signifies married or widowed males\n",
        "\n",
        "* A95 signifies single females\n",
        "\n",
        "\n",
        "\n",
        "\n"
      ]
    },
    {
      "cell_type": "markdown",
      "metadata": {
        "id": "KET1wJj9FyxL"
      },
      "source": [
        "**DIVORCED MALES ARE THE HIGHEST NUMBER OF ACCOUNT HOLDERS IN THE BANK.**"
      ]
    },
    {
      "cell_type": "code",
      "execution_count": null,
      "metadata": {
        "colab": {
          "base_uri": "https://localhost:8080/",
          "height": 470
        },
        "id": "zq4BplGy0pAm",
        "outputId": "d6621b43-aedb-4e5a-b4f9-20505d4a4870"
      },
      "outputs": [
        {
          "output_type": "execute_result",
          "data": {
            "text/plain": [
              "<Axes: >"
            ]
          },
          "metadata": {},
          "execution_count": 21
        },
        {
          "output_type": "display_data",
          "data": {
            "text/plain": [
              "<Figure size 640x480 with 1 Axes>"
            ],
            "image/png": "[encoded data removed]"
          },
          "metadata": {}
        }
      ],
      "source": [
        "train[\"foreigner\"].value_counts().plot(kind='bar')"
      ]
    },
    {
      "cell_type": "code",
      "execution_count": null,
      "metadata": {
        "colab": {
          "base_uri": "https://localhost:8080/",
          "height": 456
        },
        "id": "Xh1jjOm72Kf8",
        "outputId": "d47e561e-d250-41e4-ac50-cc1c3195fcde"
      },
      "outputs": [
        {
          "output_type": "execute_result",
          "data": {
            "text/plain": [
              "<Axes: >"
            ]
          },
          "metadata": {},
          "execution_count": 22
        },
        {
          "output_type": "display_data",
          "data": {
            "text/plain": [
              "<Figure size 640x480 with 1 Axes>"
            ],
            "image/png": "[encoded data removed]"
          },
          "metadata": {}
        }
      ],
      "source": [
        "train[\"Group_no\"].value_counts().plot(kind='bar')"
      ]
    },
    {
      "cell_type": "code",
      "execution_count": null,
      "metadata": {
        "colab": {
          "base_uri": "https://localhost:8080/",
          "height": 467
        },
        "id": "Crv0UV3d1wTy",
        "outputId": "ed8db2e3-1b6f-4b9b-c6f4-727ca403d04e"
      },
      "outputs": [
        {
          "output_type": "execute_result",
          "data": {
            "text/plain": [
              "<Axes: xlabel='age', ylabel='poi'>"
            ]
          },
          "metadata": {},
          "execution_count": 23
        },
        {
          "output_type": "display_data",
          "data": {
            "text/plain": [
              "<Figure size 640x480 with 1 Axes>"
            ],
            "image/png": "[encoded data removed]"
          },
          "metadata": {}
        }
      ],
      "source": [
        "sns.scatterplot(x=train[\"age\"],y=train[\"poi\"],hue=train[\"Group_no\"],data=train)"
      ]
    },
    {
      "cell_type": "code",
      "execution_count": null,
      "metadata": {
        "colab": {
          "base_uri": "https://localhost:8080/",
          "height": 468
        },
        "id": "IFNTbyq2GWbW",
        "outputId": "ab6e8fdc-3166-443e-99bd-3dc89ebe79d7"
      },
      "outputs": [
        {
          "output_type": "execute_result",
          "data": {
            "text/plain": [
              "<Axes: xlabel='credit_history', ylabel='Group_no'>"
            ]
          },
          "metadata": {},
          "execution_count": 24
        },
        {
          "output_type": "display_data",
          "data": {
            "text/plain": [
              "<Figure size 640x480 with 1 Axes>"
            ],
            "image/png": "[encoded data removed]"
          },
          "metadata": {}
        }
      ],
      "source": [
        "sns.barplot(x=train[\"credit_history\"],y=train[\"Group_no\"])"
      ]
    },
    {
      "cell_type": "code",
      "execution_count": null,
      "metadata": {
        "colab": {
          "base_uri": "https://localhost:8080/",
          "height": 467
        },
        "id": "h4WsGeon4-f5",
        "outputId": "3abb04a1-cfc2-4cf9-c285-a4c5dddb55a8"
      },
      "outputs": [
        {
          "output_type": "execute_result",
          "data": {
            "text/plain": [
              "<Axes: xlabel='poi', ylabel='Group_no'>"
            ]
          },
          "metadata": {},
          "execution_count": 25
        },
        {
          "output_type": "display_data",
          "data": {
            "text/plain": [
              "<Figure size 640x480 with 1 Axes>"
            ],
            "image/png": "[encoded data removed]"
          },
          "metadata": {}
        }
      ],
      "source": [
        "sns.histplot(x=train[\"poi\"],y=train[\"Group_no\"])"
      ]
    },
    {
      "cell_type": "code",
      "execution_count": null,
      "metadata": {
        "colab": {
          "base_uri": "https://localhost:8080/",
          "height": 606
        },
        "id": "97bRNPNbq6HQ",
        "outputId": "cfde5263-6bf6-4516-d06d-1fae241c69b3"
      },
      "outputs": [
        {
          "output_type": "stream",
          "name": "stderr",
          "text": [
            "<ipython-input-26-8ae1bc75c7f8>:1: FutureWarning: The default value of numeric_only in DataFrame.corr is deprecated. In a future version, it will default to False. Select only valid columns or specify the value of numeric_only to silence this warning.\n",
            "  sns.heatmap(train.corr(),annot=True)\n"
          ]
        },
        {
          "output_type": "execute_result",
          "data": {
            "text/plain": [
              "<Axes: >"
            ]
          },
          "metadata": {},
          "execution_count": 26
        },
        {
          "output_type": "display_data",
          "data": {
            "text/plain": [
              "<Figure size 640x480 with 2 Axes>"
            ],
            "image/png": "[encoded data removed]"
          },
          "metadata": {}
        }
      ],
      "source": [
        "sns.heatmap(train.corr(),annot=True)"
      ]
    },
    {
      "cell_type": "markdown",
      "metadata": {
        "id": "9QsCgH4dGlG6"
      },
      "source": [
        "#### ENCODING"
      ]
    },
    {
      "cell_type": "code",
      "execution_count": null,
      "metadata": {
        "id": "vOlSKwAlw9NF"
      },
      "outputs": [],
      "source": [
        "a=train.select_dtypes(object).columns\n",
        "train_enc=pd.get_dummies(train,columns=a)"
      ]
    },
    {
      "cell_type": "code",
      "execution_count": null,
      "metadata": {
        "colab": {
          "base_uri": "https://localhost:8080/"
        },
        "id": "zR3x78Jt9aTu",
        "outputId": "85da6a70-31cd-4f1a-d2dc-6417cd441f2f"
      },
      "outputs": [
        {
          "output_type": "stream",
          "name": "stdout",
          "text": [
            "<class 'pandas.core.frame.DataFrame'>\n",
            "RangeIndex: 800 entries, 0 to 799\n",
            "Data columns (total 61 columns):\n",
            " #   Column                 Non-Null Count  Dtype  \n",
            "---  ------                 --------------  -----  \n",
            " 0   duration_month         800 non-null    float64\n",
            " 1   poi                    800 non-null    float64\n",
            " 2   resident_since         800 non-null    float64\n",
            " 3   age                    800 non-null    float64\n",
            " 4   credits_no             800 non-null    float64\n",
            " 5   liables                800 non-null    float64\n",
            " 6   Group_no               800 non-null    float64\n",
            " 7   account_info_A11       800 non-null    uint8  \n",
            " 8   account_info_A12       800 non-null    uint8  \n",
            " 9   account_info_A13       800 non-null    uint8  \n",
            " 10  account_info_A14       800 non-null    uint8  \n",
            " 11  credit_history_A30     800 non-null    uint8  \n",
            " 12  credit_history_A31     800 non-null    uint8  \n",
            " 13  credit_history_A32     800 non-null    uint8  \n",
            " 14  credit_history_A33     800 non-null    uint8  \n",
            " 15  credit_history_A34     800 non-null    uint8  \n",
            " 16  purpose_A40            800 non-null    uint8  \n",
            " 17  purpose_A41            800 non-null    uint8  \n",
            " 18  purpose_A410           800 non-null    uint8  \n",
            " 19  purpose_A42            800 non-null    uint8  \n",
            " 20  purpose_A43            800 non-null    uint8  \n",
            " 21  purpose_A44            800 non-null    uint8  \n",
            " 22  purpose_A45            800 non-null    uint8  \n",
            " 23  purpose_A46            800 non-null    uint8  \n",
            " 24  purpose_A48            800 non-null    uint8  \n",
            " 25  purpose_A49            800 non-null    uint8  \n",
            " 26  savings_account_A61    800 non-null    uint8  \n",
            " 27  savings_account_A62    800 non-null    uint8  \n",
            " 28  savings_account_A63    800 non-null    uint8  \n",
            " 29  savings_account_A64    800 non-null    uint8  \n",
            " 30  savings_account_A65    800 non-null    uint8  \n",
            " 31  employment_st_A71      800 non-null    uint8  \n",
            " 32  employment_st_A72      800 non-null    uint8  \n",
            " 33  employment_st_A73      800 non-null    uint8  \n",
            " 34  employment_st_A74      800 non-null    uint8  \n",
            " 35  employment_st_A75      800 non-null    uint8  \n",
            " 36  personal_status_A91    800 non-null    uint8  \n",
            " 37  personal_status_A92    800 non-null    uint8  \n",
            " 38  personal_status_A93    800 non-null    uint8  \n",
            " 39  personal_status_A94    800 non-null    uint8  \n",
            " 40  gurantors_A101         800 non-null    uint8  \n",
            " 41  gurantors_A102         800 non-null    uint8  \n",
            " 42  gurantors_A103         800 non-null    uint8  \n",
            " 43  property_type_A121     800 non-null    uint8  \n",
            " 44  property_type_A122     800 non-null    uint8  \n",
            " 45  property_type_A123     800 non-null    uint8  \n",
            " 46  property_type_A124     800 non-null    uint8  \n",
            " 47  installment_type_A141  800 non-null    uint8  \n",
            " 48  installment_type_A142  800 non-null    uint8  \n",
            " 49  installment_type_A143  800 non-null    uint8  \n",
            " 50  housing_type_A151      800 non-null    uint8  \n",
            " 51  housing_type_A152      800 non-null    uint8  \n",
            " 52  housing_type_A153      800 non-null    uint8  \n",
            " 53  job_type_A171          800 non-null    uint8  \n",
            " 54  job_type_A172          800 non-null    uint8  \n",
            " 55  job_type_A173          800 non-null    uint8  \n",
            " 56  job_type_A174          800 non-null    uint8  \n",
            " 57  telephone_A191         800 non-null    uint8  \n",
            " 58  telephone_A192         800 non-null    uint8  \n",
            " 59  foreigner_A201         800 non-null    uint8  \n",
            " 60  foreigner_A202         800 non-null    uint8  \n",
            "dtypes: float64(7), uint8(54)\n",
            "memory usage: 86.1 KB\n"
          ]
        }
      ],
      "source": [
        "train_enc.info()"
      ]
    },
    {
      "cell_type": "markdown",
      "metadata": {
        "id": "PUYZ8xzaGvAa"
      },
      "source": [
        "## SPLITTING THE DATASET"
      ]
    },
    {
      "cell_type": "code",
      "execution_count": null,
      "metadata": {
        "id": "8bFy2ddI8ta5"
      },
      "outputs": [],
      "source": [
        "x=train_enc.drop(\"Group_no\",axis=1)"
      ]
    },
    {
      "cell_type": "code",
      "execution_count": null,
      "metadata": {
        "id": "t0Qto3ez-Jbg"
      },
      "outputs": [],
      "source": [
        "y=train_enc.loc[:,\"Group_no\"]"
      ]
    },
    {
      "cell_type": "markdown",
      "metadata": {
        "id": "4o_CCXnNG26S"
      },
      "source": [
        "#### SPLITTING THE DATA INTO TRAIN AND TEST SETS"
      ]
    },
    {
      "cell_type": "code",
      "execution_count": null,
      "metadata": {
        "id": "NjCtmZKm_V2s"
      },
      "outputs": [],
      "source": [
        "from sklearn.model_selection import train_test_split\n",
        "x_train,x_test,y_train,y_test=train_test_split(x,y,test_size=0.3,random_state=5)"
      ]
    },
    {
      "cell_type": "markdown",
      "metadata": {
        "id": "Y_TGyDbqHdfl"
      },
      "source": [
        "#### FEATURE SCALING"
      ]
    },
    {
      "cell_type": "code",
      "execution_count": null,
      "metadata": {
        "id": "JBkwQw5k_ye0"
      },
      "outputs": [],
      "source": [
        "# from sklearn.preprocessing import StandardScaler\n",
        "# ss=StandardScaler()\n",
        "# x_train=ss.fit_transform(x_train)\n",
        "# x_test=ss.transform(x_test)"
      ]
    },
    {
      "cell_type": "markdown",
      "metadata": {
        "id": "1SOy0tpKHiRF"
      },
      "source": [
        "#### ACCURACY RESULT"
      ]
    },
    {
      "cell_type": "code",
      "execution_count": null,
      "metadata": {
        "id": "rPYcu_j_HoG1"
      },
      "outputs": [],
      "source": [
        "from sklearn.metrics import accuracy_score,classification_report,confusion_matrix\n",
        "\n",
        "def report(x,y):\n",
        "  print(\"Accuracy Score : \",accuracy_score(x,y))\n",
        "  print(\"Confusion Matrix : \",confusion_matrix(x,y))\n",
        "  print(\"CLassification Report : \",classification_report(x,y))"
      ]
    },
    {
      "cell_type": "markdown",
      "metadata": {
        "id": "we6xu982IfRu"
      },
      "source": [
        "## APPLYING LOGISTIC REGRESSION"
      ]
    },
    {
      "cell_type": "code",
      "execution_count": null,
      "metadata": {
        "colab": {
          "base_uri": "https://localhost:8080/",
          "height": 239
        },
        "id": "PTgZn5OVBfvb",
        "outputId": "8fc2ac2a-f0eb-4cce-a0b3-21055fcbb45e"
      },
      "outputs": [
        {
          "output_type": "stream",
          "name": "stderr",
          "text": [
            "/usr/local/lib/python3.10/dist-packages/sklearn/linear_model/_logistic.py:458: ConvergenceWarning: lbfgs failed to converge (status=1):\n",
            "STOP: TOTAL NO. of ITERATIONS REACHED LIMIT.\n",
            "\n",
            "Increase the number of iterations (max_iter) or scale the data as shown in:\n",
            "    https://scikit-learn.org/stable/modules/preprocessing.html\n",
            "Please also refer to the documentation for alternative solver options:\n",
            "    https://scikit-learn.org/stable/modules/linear_model.html#logistic-regression\n",
            "  n_iter_i = _check_optimize_result(\n"
          ]
        },
        {
          "output_type": "execute_result",
          "data": {
            "text/plain": [
              "LogisticRegression()"
            ],
            "text/html": [
              "<style>#sk-container-id-1 {color: black;background-color: white;}#sk-container-id-1 pre{padding: 0;}#sk-container-id-1 div.sk-toggleable {background-color: white;}#sk-container-id-1 label.sk-toggleable__label {cursor: pointer;display: block;width: 100%;margin-bottom: 0;padding: 0.3em;box-sizing: border-box;text-align: center;}#sk-container-id-1 label.sk-toggleable__label-arrow:before {content: \"▸\";float: left;margin-right: 0.25em;color: #696969;}#sk-container-id-1 label.sk-toggleable__label-arrow:hover:before {color: black;}#sk-container-id-1 div.sk-estimator:hover label.sk-toggleable__label-arrow:before {color: black;}#sk-container-id-1 div.sk-toggleable__content {max-height: 0;max-width: 0;overflow: hidden;text-align: left;background-color: #f0f8ff;}#sk-container-id-1 div.sk-toggleable__content pre {margin: 0.2em;color: black;border-radius: 0.25em;background-color: #f0f8ff;}#sk-container-id-1 input.sk-toggleable__control:checked~div.sk-toggleable__content {max-height: 200px;max-width: 100%;overflow: auto;}#sk-container-id-1 input.sk-toggleable__control:checked~label.sk-toggleable__label-arrow:before {content: \"▾\";}#sk-container-id-1 div.sk-estimator input.sk-toggleable__control:checked~label.sk-toggleable__label {background-color: #d4ebff;}#sk-container-id-1 div.sk-label input.sk-toggleable__control:checked~label.sk-toggleable__label {background-color: #d4ebff;}#sk-container-id-1 input.sk-hidden--visually {border: 0;clip: rect(1px 1px 1px 1px);clip: rect(1px, 1px, 1px, 1px);height: 1px;margin: -1px;overflow: hidden;padding: 0;position: absolute;width: 1px;}#sk-container-id-1 div.sk-estimator {font-family: monospace;background-color: #f0f8ff;border: 1px dotted black;border-radius: 0.25em;box-sizing: border-box;margin-bottom: 0.5em;}#sk-container-id-1 div.sk-estimator:hover {background-color: #d4ebff;}#sk-container-id-1 div.sk-parallel-item::after {content: \"\";width: 100%;border-bottom: 1px solid gray;flex-grow: 1;}#sk-container-id-1 div.sk-label:hover label.sk-toggleable__label {background-color: #d4ebff;}#sk-container-id-1 div.sk-serial::before {content: \"\";position: absolute;border-left: 1px solid gray;box-sizing: border-box;top: 0;bottom: 0;left: 50%;z-index: 0;}#sk-container-id-1 div.sk-serial {display: flex;flex-direction: column;align-items: center;background-color: white;padding-right: 0.2em;padding-left: 0.2em;position: relative;}#sk-container-id-1 div.sk-item {position: relative;z-index: 1;}#sk-container-id-1 div.sk-parallel {display: flex;align-items: stretch;justify-content: center;background-color: white;position: relative;}#sk-container-id-1 div.sk-item::before, #sk-container-id-1 div.sk-parallel-item::before {content: \"\";position: absolute;border-left: 1px solid gray;box-sizing: border-box;top: 0;bottom: 0;left: 50%;z-index: -1;}#sk-container-id-1 div.sk-parallel-item {display: flex;flex-direction: column;z-index: 1;position: relative;background-color: white;}#sk-container-id-1 div.sk-parallel-item:first-child::after {align-self: flex-end;width: 50%;}#sk-container-id-1 div.sk-parallel-item:last-child::after {align-self: flex-start;width: 50%;}#sk-container-id-1 div.sk-parallel-item:only-child::after {width: 0;}#sk-container-id-1 div.sk-dashed-wrapped {border: 1px dashed gray;margin: 0 0.4em 0.5em 0.4em;box-sizing: border-box;padding-bottom: 0.4em;background-color: white;}#sk-container-id-1 div.sk-label label {font-family: monospace;font-weight: bold;display: inline-block;line-height: 1.2em;}#sk-container-id-1 div.sk-label-container {text-align: center;}#sk-container-id-1 div.sk-container {/* jupyter's `normalize.less` sets `[hidden] { display: none; }` but bootstrap.min.css set `[hidden] { display: none !important; }` so we also need the `!important` here to be able to override the default hidden behavior on the sphinx rendered scikit-learn.org. See: https://github.com/scikit-learn/scikit-learn/issues/21755 */display: inline-block !important;position: relative;}#sk-container-id-1 div.sk-text-repr-fallback {display: none;}</style><div id=\"sk-container-id-1\" class=\"sk-top-container\"><div class=\"sk-text-repr-fallback\"><pre>LogisticRegression()</pre><b>In a Jupyter environment, please rerun this cell to show the HTML representation or trust the notebook. <br />On GitHub, the HTML representation is unable to render, please try loading this page with nbviewer.org.</b></div><div class=\"sk-container\" hidden><div class=\"sk-item\"><div class=\"sk-estimator sk-toggleable\"><input class=\"sk-toggleable__control sk-hidden--visually\" id=\"sk-estimator-id-1\" type=\"checkbox\" checked><label for=\"sk-estimator-id-1\" class=\"sk-toggleable__label sk-toggleable__label-arrow\">LogisticRegression</label><div class=\"sk-toggleable__content\"><pre>LogisticRegression()</pre></div></div></div></div></div>"
            ]
          },
          "metadata": {},
          "execution_count": 34
        }
      ],
      "source": [
        "from sklearn.linear_model import LogisticRegression\n",
        "lr=LogisticRegression()\n",
        "lr.fit(x_train,y_train)\n"
      ]
    },
    {
      "cell_type": "code",
      "execution_count": null,
      "metadata": {
        "id": "NLuybP4WCx-h"
      },
      "outputs": [],
      "source": [
        "ypred_train_lr=lr.predict(x_train)\n",
        "ypred_test_lr=lr.predict(x_test)"
      ]
    },
    {
      "cell_type": "markdown",
      "metadata": {
        "id": "sZ-HiIVCIl3m"
      },
      "source": [
        "#### ACCURACY SCORE"
      ]
    },
    {
      "cell_type": "code",
      "execution_count": null,
      "metadata": {
        "colab": {
          "base_uri": "https://localhost:8080/"
        },
        "id": "uzfOR2IxHX-t",
        "outputId": "d1801d53-3ad5-4641-a27e-1151b8974b90"
      },
      "outputs": [
        {
          "output_type": "stream",
          "name": "stdout",
          "text": [
            "Accuracy Score :  0.7410714285714286\n",
            "Confusion Matrix :  [[100  33   2]\n",
            " [ 24 179  43]\n",
            " [  1  42 136]]\n",
            "CLassification Report :                precision    recall  f1-score   support\n",
            "\n",
            "         1.0       0.80      0.74      0.77       135\n",
            "         2.0       0.70      0.73      0.72       246\n",
            "         3.0       0.75      0.76      0.76       179\n",
            "\n",
            "    accuracy                           0.74       560\n",
            "   macro avg       0.75      0.74      0.75       560\n",
            "weighted avg       0.74      0.74      0.74       560\n",
            "\n"
          ]
        }
      ],
      "source": [
        "report(y_train,ypred_train_lr)"
      ]
    },
    {
      "cell_type": "code",
      "execution_count": null,
      "metadata": {
        "colab": {
          "base_uri": "https://localhost:8080/"
        },
        "id": "cLsCk265IIaq",
        "outputId": "f7867366-6a98-481c-bd23-dcdadafff6b2"
      },
      "outputs": [
        {
          "output_type": "stream",
          "name": "stdout",
          "text": [
            "Accuracy Score :  0.6666666666666666\n",
            "Confusion Matrix :  [[36 21  1]\n",
            " [14 68 25]\n",
            " [ 1 18 56]]\n",
            "CLassification Report :                precision    recall  f1-score   support\n",
            "\n",
            "         1.0       0.71      0.62      0.66        58\n",
            "         2.0       0.64      0.64      0.64       107\n",
            "         3.0       0.68      0.75      0.71        75\n",
            "\n",
            "    accuracy                           0.67       240\n",
            "   macro avg       0.67      0.67      0.67       240\n",
            "weighted avg       0.67      0.67      0.67       240\n",
            "\n"
          ]
        }
      ],
      "source": [
        "report(y_test,ypred_test_lr)"
      ]
    },
    {
      "cell_type": "markdown",
      "metadata": {
        "id": "YQzf_TwbIrg5"
      },
      "source": [
        "## APPLYING DECISION TREE"
      ]
    },
    {
      "cell_type": "markdown",
      "metadata": {
        "id": "l6hHpKFhJgA_"
      },
      "source": [
        "### RANDOMIZED SEARCH CV"
      ]
    },
    {
      "cell_type": "code",
      "execution_count": null,
      "metadata": {
        "colab": {
          "base_uri": "https://localhost:8080/"
        },
        "id": "qRVSLqtOIb6Q",
        "outputId": "2e55bdf7-3efa-47f0-9079-82323338dd58"
      },
      "outputs": [
        {
          "output_type": "stream",
          "name": "stdout",
          "text": [
            "{'splitter': ['best', 'random'], 'max_features': ['auto', 'sqrt', 'log2'], 'max_depth': [100, 200, 300, 400, 500, 600, 700, 800, 900, 1000], 'min_samples_split': [2, 5, 10, 14], 'min_samples_leaf': [1, 2, 4, 6, 8], 'criterion': ['gini', 'entropy']}\n"
          ]
        }
      ],
      "source": [
        "from sklearn.model_selection import RandomizedSearchCV\n",
        "from sklearn.tree import DecisionTreeClassifier\n",
        "dtc=DecisionTreeClassifier()\n",
        "splitter=['best', 'random']\n",
        "max_features=['auto','sqrt','log2']\n",
        "max_depth=[int(x) for x in np.linspace(100,1000,10)]\n",
        "min_samples_split=[2,5,10,14]\n",
        "min_samples_leaf=[1,2,4,6,8]\n",
        "criterion=['gini','entropy']\n",
        "\n",
        "random_grid_dtc={'splitter':splitter,\n",
        "             'max_features':max_features,\n",
        "             'max_depth':max_depth,\n",
        "             'min_samples_split':min_samples_split,\n",
        "             'min_samples_leaf':min_samples_leaf,\n",
        "             'criterion':criterion\n",
        "}\n",
        "print(random_grid_dtc)"
      ]
    },
    {
      "cell_type": "code",
      "execution_count": null,
      "metadata": {
        "colab": {
          "base_uri": "https://localhost:8080/",
          "height": 134
        },
        "id": "Rov0FHNE6VEX",
        "outputId": "5b249b45-4b93-4ff6-fd8d-baefa9ab50d4"
      },
      "outputs": [
        {
          "output_type": "stream",
          "name": "stdout",
          "text": [
            "Fitting 3 folds for each of 100 candidates, totalling 300 fits\n"
          ]
        },
        {
          "output_type": "execute_result",
          "data": {
            "text/plain": [
              "RandomizedSearchCV(cv=3, estimator=DecisionTreeClassifier(), n_iter=100,\n",
              "                   n_jobs=-1,\n",
              "                   param_distributions={'criterion': ['gini', 'entropy'],\n",
              "                                        'max_depth': [100, 200, 300, 400, 500,\n",
              "                                                      600, 700, 800, 900,\n",
              "                                                      1000],\n",
              "                                        'max_features': ['auto', 'sqrt',\n",
              "                                                         'log2'],\n",
              "                                        'min_samples_leaf': [1, 2, 4, 6, 8],\n",
              "                                        'min_samples_split': [2, 5, 10, 14],\n",
              "                                        'splitter': ['best', 'random']},\n",
              "                   random_state=100, verbose=2)"
            ],
            "text/html": [
              "<style>#sk-container-id-2 {color: black;background-color: white;}#sk-container-id-2 pre{padding: 0;}#sk-container-id-2 div.sk-toggleable {background-color: white;}#sk-container-id-2 label.sk-toggleable__label {cursor: pointer;display: block;width: 100%;margin-bottom: 0;padding: 0.3em;box-sizing: border-box;text-align: center;}#sk-container-id-2 label.sk-toggleable__label-arrow:before {content: \"▸\";float: left;margin-right: 0.25em;color: #696969;}#sk-container-id-2 label.sk-toggleable__label-arrow:hover:before {color: black;}#sk-container-id-2 div.sk-estimator:hover label.sk-toggleable__label-arrow:before {color: black;}#sk-container-id-2 div.sk-toggleable__content {max-height: 0;max-width: 0;overflow: hidden;text-align: left;background-color: #f0f8ff;}#sk-container-id-2 div.sk-toggleable__content pre {margin: 0.2em;color: black;border-radius: 0.25em;background-color: #f0f8ff;}#sk-container-id-2 input.sk-toggleable__control:checked~div.sk-toggleable__content {max-height: 200px;max-width: 100%;overflow: auto;}#sk-container-id-2 input.sk-toggleable__control:checked~label.sk-toggleable__label-arrow:before {content: \"▾\";}#sk-container-id-2 div.sk-estimator input.sk-toggleable__control:checked~label.sk-toggleable__label {background-color: #d4ebff;}#sk-container-id-2 div.sk-label input.sk-toggleable__control:checked~label.sk-toggleable__label {background-color: #d4ebff;}#sk-container-id-2 input.sk-hidden--visually {border: 0;clip: rect(1px 1px 1px 1px);clip: rect(1px, 1px, 1px, 1px);height: 1px;margin: -1px;overflow: hidden;padding: 0;position: absolute;width: 1px;}#sk-container-id-2 div.sk-estimator {font-family: monospace;background-color: #f0f8ff;border: 1px dotted black;border-radius: 0.25em;box-sizing: border-box;margin-bottom: 0.5em;}#sk-container-id-2 div.sk-estimator:hover {background-color: #d4ebff;}#sk-container-id-2 div.sk-parallel-item::after {content: \"\";width: 100%;border-bottom: 1px solid gray;flex-grow: 1;}#sk-container-id-2 div.sk-label:hover label.sk-toggleable__label {background-color: #d4ebff;}#sk-container-id-2 div.sk-serial::before {content: \"\";position: absolute;border-left: 1px solid gray;box-sizing: border-box;top: 0;bottom: 0;left: 50%;z-index: 0;}#sk-container-id-2 div.sk-serial {display: flex;flex-direction: column;align-items: center;background-color: white;padding-right: 0.2em;padding-left: 0.2em;position: relative;}#sk-container-id-2 div.sk-item {position: relative;z-index: 1;}#sk-container-id-2 div.sk-parallel {display: flex;align-items: stretch;justify-content: center;background-color: white;position: relative;}#sk-container-id-2 div.sk-item::before, #sk-container-id-2 div.sk-parallel-item::before {content: \"\";position: absolute;border-left: 1px solid gray;box-sizing: border-box;top: 0;bottom: 0;left: 50%;z-index: -1;}#sk-container-id-2 div.sk-parallel-item {display: flex;flex-direction: column;z-index: 1;position: relative;background-color: white;}#sk-container-id-2 div.sk-parallel-item:first-child::after {align-self: flex-end;width: 50%;}#sk-container-id-2 div.sk-parallel-item:last-child::after {align-self: flex-start;width: 50%;}#sk-container-id-2 div.sk-parallel-item:only-child::after {width: 0;}#sk-container-id-2 div.sk-dashed-wrapped {border: 1px dashed gray;margin: 0 0.4em 0.5em 0.4em;box-sizing: border-box;padding-bottom: 0.4em;background-color: white;}#sk-container-id-2 div.sk-label label {font-family: monospace;font-weight: bold;display: inline-block;line-height: 1.2em;}#sk-container-id-2 div.sk-label-container {text-align: center;}#sk-container-id-2 div.sk-container {/* jupyter's `normalize.less` sets `[hidden] { display: none; }` but bootstrap.min.css set `[hidden] { display: none !important; }` so we also need the `!important` here to be able to override the default hidden behavior on the sphinx rendered scikit-learn.org. See: https://github.com/scikit-learn/scikit-learn/issues/21755 */display: inline-block !important;position: relative;}#sk-container-id-2 div.sk-text-repr-fallback {display: none;}</style><div id=\"sk-container-id-2\" class=\"sk-top-container\"><div class=\"sk-text-repr-fallback\"><pre>RandomizedSearchCV(cv=3, estimator=DecisionTreeClassifier(), n_iter=100,\n",
              "                   n_jobs=-1,\n",
              "                   param_distributions={&#x27;criterion&#x27;: [&#x27;gini&#x27;, &#x27;entropy&#x27;],\n",
              "                                        &#x27;max_depth&#x27;: [100, 200, 300, 400, 500,\n",
              "                                                      600, 700, 800, 900,\n",
              "                                                      1000],\n",
              "                                        &#x27;max_features&#x27;: [&#x27;auto&#x27;, &#x27;sqrt&#x27;,\n",
              "                                                         &#x27;log2&#x27;],\n",
              "                                        &#x27;min_samples_leaf&#x27;: [1, 2, 4, 6, 8],\n",
              "                                        &#x27;min_samples_split&#x27;: [2, 5, 10, 14],\n",
              "                                        &#x27;splitter&#x27;: [&#x27;best&#x27;, &#x27;random&#x27;]},\n",
              "                   random_state=100, verbose=2)</pre><b>In a Jupyter environment, please rerun this cell to show the HTML representation or trust the notebook. <br />On GitHub, the HTML representation is unable to render, please try loading this page with nbviewer.org.</b></div><div class=\"sk-container\" hidden><div class=\"sk-item sk-dashed-wrapped\"><div class=\"sk-label-container\"><div class=\"sk-label sk-toggleable\"><input class=\"sk-toggleable__control sk-hidden--visually\" id=\"sk-estimator-id-2\" type=\"checkbox\" ><label for=\"sk-estimator-id-2\" class=\"sk-toggleable__label sk-toggleable__label-arrow\">RandomizedSearchCV</label><div class=\"sk-toggleable__content\"><pre>RandomizedSearchCV(cv=3, estimator=DecisionTreeClassifier(), n_iter=100,\n",
              "                   n_jobs=-1,\n",
              "                   param_distributions={&#x27;criterion&#x27;: [&#x27;gini&#x27;, &#x27;entropy&#x27;],\n",
              "                                        &#x27;max_depth&#x27;: [100, 200, 300, 400, 500,\n",
              "                                                      600, 700, 800, 900,\n",
              "                                                      1000],\n",
              "                                        &#x27;max_features&#x27;: [&#x27;auto&#x27;, &#x27;sqrt&#x27;,\n",
              "                                                         &#x27;log2&#x27;],\n",
              "                                        &#x27;min_samples_leaf&#x27;: [1, 2, 4, 6, 8],\n",
              "                                        &#x27;min_samples_split&#x27;: [2, 5, 10, 14],\n",
              "                                        &#x27;splitter&#x27;: [&#x27;best&#x27;, &#x27;random&#x27;]},\n",
              "                   random_state=100, verbose=2)</pre></div></div></div><div class=\"sk-parallel\"><div class=\"sk-parallel-item\"><div class=\"sk-item\"><div class=\"sk-label-container\"><div class=\"sk-label sk-toggleable\"><input class=\"sk-toggleable__control sk-hidden--visually\" id=\"sk-estimator-id-3\" type=\"checkbox\" ><label for=\"sk-estimator-id-3\" class=\"sk-toggleable__label sk-toggleable__label-arrow\">estimator: DecisionTreeClassifier</label><div class=\"sk-toggleable__content\"><pre>DecisionTreeClassifier()</pre></div></div></div><div class=\"sk-serial\"><div class=\"sk-item\"><div class=\"sk-estimator sk-toggleable\"><input class=\"sk-toggleable__control sk-hidden--visually\" id=\"sk-estimator-id-4\" type=\"checkbox\" ><label for=\"sk-estimator-id-4\" class=\"sk-toggleable__label sk-toggleable__label-arrow\">DecisionTreeClassifier</label><div class=\"sk-toggleable__content\"><pre>DecisionTreeClassifier()</pre></div></div></div></div></div></div></div></div></div></div>"
            ]
          },
          "metadata": {},
          "execution_count": 39
        }
      ],
      "source": [
        "random_dtc=RandomizedSearchCV(estimator=dtc,param_distributions=random_grid_dtc,n_iter=100,cv=3,verbose=2,random_state=100,n_jobs=-1)\n",
        "random_dtc.fit(x_train,y_train)"
      ]
    },
    {
      "cell_type": "code",
      "execution_count": null,
      "metadata": {
        "id": "JaTZ_fU57m64"
      },
      "outputs": [],
      "source": [
        "best_grid_dtc=random_dtc.best_estimator_"
      ]
    },
    {
      "cell_type": "code",
      "execution_count": null,
      "metadata": {
        "id": "dI-RbOzq7qZT"
      },
      "outputs": [],
      "source": [
        "ypred_train_dtc=best_grid_dtc.predict(x_train)\n",
        "ypred_test_dtc=best_grid_dtc.predict(x_test)"
      ]
    },
    {
      "cell_type": "markdown",
      "metadata": {
        "id": "252Mx8SPJq-d"
      },
      "source": [
        "### GRID SEARCH CV"
      ]
    },
    {
      "cell_type": "code",
      "source": [
        "from sklearn.model_selection import GridSearchCV"
      ],
      "metadata": {
        "id": "SArzD8DPpHxl"
      },
      "execution_count": null,
      "outputs": []
    },
    {
      "cell_type": "code",
      "execution_count": null,
      "metadata": {
        "id": "GqB2nysVJp0r"
      },
      "outputs": [],
      "source": [
        "param_grid_dtc = {\n",
        "    'splitter':[random_dtc.best_params_[\"splitter\"]],\n",
        "    'criterion': [random_dtc.best_params_['criterion']],\n",
        "    'max_depth': [random_dtc.best_params_['max_depth']],\n",
        "    'max_features': [random_dtc.best_params_['max_features']],\n",
        "    'min_samples_leaf': [random_dtc.best_params_['min_samples_leaf'], \n",
        "                         random_dtc.best_params_['min_samples_leaf']+2, \n",
        "                         random_dtc.best_params_['min_samples_leaf'] + 4],\n",
        "    'min_samples_split': [random_dtc.best_params_['min_samples_split'] - 2,\n",
        "                          random_dtc.best_params_['min_samples_split'] - 1,\n",
        "                          random_dtc.best_params_['min_samples_split'], \n",
        "                          random_dtc.best_params_['min_samples_split'] +1,\n",
        "                          random_dtc.best_params_['min_samples_split'] + 2],\n",
        "}\n"
      ]
    },
    {
      "cell_type": "code",
      "execution_count": null,
      "metadata": {
        "colab": {
          "base_uri": "https://localhost:8080/",
          "height": 895
        },
        "id": "LcYNftCYKSYk",
        "outputId": "39e1b582-115a-4d91-e5e9-7c23cbce10f9"
      },
      "outputs": [
        {
          "output_type": "stream",
          "name": "stdout",
          "text": [
            "Fitting 10 folds for each of 15 candidates, totalling 150 fits\n"
          ]
        },
        {
          "output_type": "stream",
          "name": "stderr",
          "text": [
            "/usr/local/lib/python3.10/dist-packages/sklearn/model_selection/_validation.py:378: FitFailedWarning: \n",
            "60 fits failed out of a total of 150.\n",
            "The score on these train-test partitions for these parameters will be set to nan.\n",
            "If these failures are not expected, you can try to debug them by setting error_score='raise'.\n",
            "\n",
            "Below are more details about the failures:\n",
            "--------------------------------------------------------------------------------\n",
            "30 fits failed with the following error:\n",
            "Traceback (most recent call last):\n",
            "  File \"/usr/local/lib/python3.10/dist-packages/sklearn/model_selection/_validation.py\", line 686, in _fit_and_score\n",
            "    estimator.fit(X_train, y_train, **fit_params)\n",
            "  File \"/usr/local/lib/python3.10/dist-packages/sklearn/tree/_classes.py\", line 889, in fit\n",
            "    super().fit(\n",
            "  File \"/usr/local/lib/python3.10/dist-packages/sklearn/tree/_classes.py\", line 177, in fit\n",
            "    self._validate_params()\n",
            "  File \"/usr/local/lib/python3.10/dist-packages/sklearn/base.py\", line 600, in _validate_params\n",
            "    validate_parameter_constraints(\n",
            "  File \"/usr/local/lib/python3.10/dist-packages/sklearn/utils/_param_validation.py\", line 97, in validate_parameter_constraints\n",
            "    raise InvalidParameterError(\n",
            "sklearn.utils._param_validation.InvalidParameterError: The 'min_samples_split' parameter of DecisionTreeClassifier must be an int in the range [2, inf) or a float in the range (0.0, 1.0]. Got 0 instead.\n",
            "\n",
            "--------------------------------------------------------------------------------\n",
            "30 fits failed with the following error:\n",
            "Traceback (most recent call last):\n",
            "  File \"/usr/local/lib/python3.10/dist-packages/sklearn/model_selection/_validation.py\", line 686, in _fit_and_score\n",
            "    estimator.fit(X_train, y_train, **fit_params)\n",
            "  File \"/usr/local/lib/python3.10/dist-packages/sklearn/tree/_classes.py\", line 889, in fit\n",
            "    super().fit(\n",
            "  File \"/usr/local/lib/python3.10/dist-packages/sklearn/tree/_classes.py\", line 177, in fit\n",
            "    self._validate_params()\n",
            "  File \"/usr/local/lib/python3.10/dist-packages/sklearn/base.py\", line 600, in _validate_params\n",
            "    validate_parameter_constraints(\n",
            "  File \"/usr/local/lib/python3.10/dist-packages/sklearn/utils/_param_validation.py\", line 97, in validate_parameter_constraints\n",
            "    raise InvalidParameterError(\n",
            "sklearn.utils._param_validation.InvalidParameterError: The 'min_samples_split' parameter of DecisionTreeClassifier must be an int in the range [2, inf) or a float in the range (0.0, 1.0]. Got 1 instead.\n",
            "\n",
            "  warnings.warn(some_fits_failed_message, FitFailedWarning)\n",
            "/usr/local/lib/python3.10/dist-packages/sklearn/model_selection/_search.py:952: UserWarning: One or more of the test scores are non-finite: [       nan        nan 0.51428571 0.52857143 0.48214286        nan\n",
            "        nan 0.49821429 0.55892857 0.54285714        nan        nan\n",
            " 0.52321429 0.50357143 0.56428571]\n",
            "  warnings.warn(\n"
          ]
        },
        {
          "output_type": "execute_result",
          "data": {
            "text/plain": [
              "GridSearchCV(cv=10, estimator=DecisionTreeClassifier(), n_jobs=-1,\n",
              "             param_grid={'criterion': ['entropy'], 'max_depth': [700],\n",
              "                         'max_features': ['sqrt'],\n",
              "                         'min_samples_leaf': [4, 6, 8],\n",
              "                         'min_samples_split': [0, 1, 2, 3, 4],\n",
              "                         'splitter': ['best']},\n",
              "             verbose=2)"
            ],
            "text/html": [
              "<style>#sk-container-id-3 {color: black;background-color: white;}#sk-container-id-3 pre{padding: 0;}#sk-container-id-3 div.sk-toggleable {background-color: white;}#sk-container-id-3 label.sk-toggleable__label {cursor: pointer;display: block;width: 100%;margin-bottom: 0;padding: 0.3em;box-sizing: border-box;text-align: center;}#sk-container-id-3 label.sk-toggleable__label-arrow:before {content: \"▸\";float: left;margin-right: 0.25em;color: #696969;}#sk-container-id-3 label.sk-toggleable__label-arrow:hover:before {color: black;}#sk-container-id-3 div.sk-estimator:hover label.sk-toggleable__label-arrow:before {color: black;}#sk-container-id-3 div.sk-toggleable__content {max-height: 0;max-width: 0;overflow: hidden;text-align: left;background-color: #f0f8ff;}#sk-container-id-3 div.sk-toggleable__content pre {margin: 0.2em;color: black;border-radius: 0.25em;background-color: #f0f8ff;}#sk-container-id-3 input.sk-toggleable__control:checked~div.sk-toggleable__content {max-height: 200px;max-width: 100%;overflow: auto;}#sk-container-id-3 input.sk-toggleable__control:checked~label.sk-toggleable__label-arrow:before {content: \"▾\";}#sk-container-id-3 div.sk-estimator input.sk-toggleable__control:checked~label.sk-toggleable__label {background-color: #d4ebff;}#sk-container-id-3 div.sk-label input.sk-toggleable__control:checked~label.sk-toggleable__label {background-color: #d4ebff;}#sk-container-id-3 input.sk-hidden--visually {border: 0;clip: rect(1px 1px 1px 1px);clip: rect(1px, 1px, 1px, 1px);height: 1px;margin: -1px;overflow: hidden;padding: 0;position: absolute;width: 1px;}#sk-container-id-3 div.sk-estimator {font-family: monospace;background-color: #f0f8ff;border: 1px dotted black;border-radius: 0.25em;box-sizing: border-box;margin-bottom: 0.5em;}#sk-container-id-3 div.sk-estimator:hover {background-color: #d4ebff;}#sk-container-id-3 div.sk-parallel-item::after {content: \"\";width: 100%;border-bottom: 1px solid gray;flex-grow: 1;}#sk-container-id-3 div.sk-label:hover label.sk-toggleable__label {background-color: #d4ebff;}#sk-container-id-3 div.sk-serial::before {content: \"\";position: absolute;border-left: 1px solid gray;box-sizing: border-box;top: 0;bottom: 0;left: 50%;z-index: 0;}#sk-container-id-3 div.sk-serial {display: flex;flex-direction: column;align-items: center;background-color: white;padding-right: 0.2em;padding-left: 0.2em;position: relative;}#sk-container-id-3 div.sk-item {position: relative;z-index: 1;}#sk-container-id-3 div.sk-parallel {display: flex;align-items: stretch;justify-content: center;background-color: white;position: relative;}#sk-container-id-3 div.sk-item::before, #sk-container-id-3 div.sk-parallel-item::before {content: \"\";position: absolute;border-left: 1px solid gray;box-sizing: border-box;top: 0;bottom: 0;left: 50%;z-index: -1;}#sk-container-id-3 div.sk-parallel-item {display: flex;flex-direction: column;z-index: 1;position: relative;background-color: white;}#sk-container-id-3 div.sk-parallel-item:first-child::after {align-self: flex-end;width: 50%;}#sk-container-id-3 div.sk-parallel-item:last-child::after {align-self: flex-start;width: 50%;}#sk-container-id-3 div.sk-parallel-item:only-child::after {width: 0;}#sk-container-id-3 div.sk-dashed-wrapped {border: 1px dashed gray;margin: 0 0.4em 0.5em 0.4em;box-sizing: border-box;padding-bottom: 0.4em;background-color: white;}#sk-container-id-3 div.sk-label label {font-family: monospace;font-weight: bold;display: inline-block;line-height: 1.2em;}#sk-container-id-3 div.sk-label-container {text-align: center;}#sk-container-id-3 div.sk-container {/* jupyter's `normalize.less` sets `[hidden] { display: none; }` but bootstrap.min.css set `[hidden] { display: none !important; }` so we also need the `!important` here to be able to override the default hidden behavior on the sphinx rendered scikit-learn.org. See: https://github.com/scikit-learn/scikit-learn/issues/21755 */display: inline-block !important;position: relative;}#sk-container-id-3 div.sk-text-repr-fallback {display: none;}</style><div id=\"sk-container-id-3\" class=\"sk-top-container\"><div class=\"sk-text-repr-fallback\"><pre>GridSearchCV(cv=10, estimator=DecisionTreeClassifier(), n_jobs=-1,\n",
              "             param_grid={&#x27;criterion&#x27;: [&#x27;entropy&#x27;], &#x27;max_depth&#x27;: [700],\n",
              "                         &#x27;max_features&#x27;: [&#x27;sqrt&#x27;],\n",
              "                         &#x27;min_samples_leaf&#x27;: [4, 6, 8],\n",
              "                         &#x27;min_samples_split&#x27;: [0, 1, 2, 3, 4],\n",
              "                         &#x27;splitter&#x27;: [&#x27;best&#x27;]},\n",
              "             verbose=2)</pre><b>In a Jupyter environment, please rerun this cell to show the HTML representation or trust the notebook. <br />On GitHub, the HTML representation is unable to render, please try loading this page with nbviewer.org.</b></div><div class=\"sk-container\" hidden><div class=\"sk-item sk-dashed-wrapped\"><div class=\"sk-label-container\"><div class=\"sk-label sk-toggleable\"><input class=\"sk-toggleable__control sk-hidden--visually\" id=\"sk-estimator-id-5\" type=\"checkbox\" ><label for=\"sk-estimator-id-5\" class=\"sk-toggleable__label sk-toggleable__label-arrow\">GridSearchCV</label><div class=\"sk-toggleable__content\"><pre>GridSearchCV(cv=10, estimator=DecisionTreeClassifier(), n_jobs=-1,\n",
              "             param_grid={&#x27;criterion&#x27;: [&#x27;entropy&#x27;], &#x27;max_depth&#x27;: [700],\n",
              "                         &#x27;max_features&#x27;: [&#x27;sqrt&#x27;],\n",
              "                         &#x27;min_samples_leaf&#x27;: [4, 6, 8],\n",
              "                         &#x27;min_samples_split&#x27;: [0, 1, 2, 3, 4],\n",
              "                         &#x27;splitter&#x27;: [&#x27;best&#x27;]},\n",
              "             verbose=2)</pre></div></div></div><div class=\"sk-parallel\"><div class=\"sk-parallel-item\"><div class=\"sk-item\"><div class=\"sk-label-container\"><div class=\"sk-label sk-toggleable\"><input class=\"sk-toggleable__control sk-hidden--visually\" id=\"sk-estimator-id-6\" type=\"checkbox\" ><label for=\"sk-estimator-id-6\" class=\"sk-toggleable__label sk-toggleable__label-arrow\">estimator: DecisionTreeClassifier</label><div class=\"sk-toggleable__content\"><pre>DecisionTreeClassifier()</pre></div></div></div><div class=\"sk-serial\"><div class=\"sk-item\"><div class=\"sk-estimator sk-toggleable\"><input class=\"sk-toggleable__control sk-hidden--visually\" id=\"sk-estimator-id-7\" type=\"checkbox\" ><label for=\"sk-estimator-id-7\" class=\"sk-toggleable__label sk-toggleable__label-arrow\">DecisionTreeClassifier</label><div class=\"sk-toggleable__content\"><pre>DecisionTreeClassifier()</pre></div></div></div></div></div></div></div></div></div></div>"
            ]
          },
          "metadata": {},
          "execution_count": 44
        }
      ],
      "source": [
        "grid_search_dtc=GridSearchCV(estimator=dtc,param_grid=param_grid_dtc,cv=10,n_jobs=-1,verbose=2)\n",
        "grid_search_dtc.fit(x_train,y_train)"
      ]
    },
    {
      "cell_type": "code",
      "execution_count": null,
      "metadata": {
        "id": "heAh5gSFKhdK"
      },
      "outputs": [],
      "source": [
        "best_grid_dtc=grid_search_dtc.best_estimator_"
      ]
    },
    {
      "cell_type": "code",
      "execution_count": null,
      "metadata": {
        "id": "xccbI3dTKnXB"
      },
      "outputs": [],
      "source": [
        "ypred_train_dfc=best_grid_dtc.predict(x_train)\n",
        "ypred_test_dfc=best_grid_dtc.predict(x_test)"
      ]
    },
    {
      "cell_type": "markdown",
      "metadata": {
        "id": "XLdmwIUvJVtb"
      },
      "source": [
        "### ACCURACY SCORE"
      ]
    },
    {
      "cell_type": "code",
      "execution_count": null,
      "metadata": {
        "colab": {
          "base_uri": "https://localhost:8080/"
        },
        "id": "znzklZs1JAD5",
        "outputId": "fba0b4a8-9454-4737-88be-9e475d4d31ed"
      },
      "outputs": [
        {
          "output_type": "stream",
          "name": "stdout",
          "text": [
            "Accuracy Score :  0.6589285714285714\n",
            "Confusion Matrix :  [[ 85  38  12]\n",
            " [ 30 180  36]\n",
            " [ 15  60 104]]\n",
            "CLassification Report :                precision    recall  f1-score   support\n",
            "\n",
            "         1.0       0.65      0.63      0.64       135\n",
            "         2.0       0.65      0.73      0.69       246\n",
            "         3.0       0.68      0.58      0.63       179\n",
            "\n",
            "    accuracy                           0.66       560\n",
            "   macro avg       0.66      0.65      0.65       560\n",
            "weighted avg       0.66      0.66      0.66       560\n",
            "\n"
          ]
        }
      ],
      "source": [
        "report(y_train,ypred_train_dfc)"
      ]
    },
    {
      "cell_type": "code",
      "execution_count": null,
      "metadata": {
        "colab": {
          "base_uri": "https://localhost:8080/"
        },
        "id": "C-ylhIgmJF0U",
        "outputId": "184de933-7158-49b7-9882-b23438964054"
      },
      "outputs": [
        {
          "output_type": "stream",
          "name": "stdout",
          "text": [
            "Accuracy Score :  0.5458333333333333\n",
            "Confusion Matrix :  [[28 24  6]\n",
            " [25 67 15]\n",
            " [ 6 33 36]]\n",
            "CLassification Report :                precision    recall  f1-score   support\n",
            "\n",
            "         1.0       0.47      0.48      0.48        58\n",
            "         2.0       0.54      0.63      0.58       107\n",
            "         3.0       0.63      0.48      0.55        75\n",
            "\n",
            "    accuracy                           0.55       240\n",
            "   macro avg       0.55      0.53      0.53       240\n",
            "weighted avg       0.55      0.55      0.54       240\n",
            "\n"
          ]
        }
      ],
      "source": [
        "report(y_test,ypred_test_dfc)"
      ]
    },
    {
      "cell_type": "markdown",
      "metadata": {
        "id": "fan6rjtKJU2p"
      },
      "source": [
        "## APPLYING RANDOM FOREST"
      ]
    },
    {
      "cell_type": "markdown",
      "metadata": {
        "id": "JG8ZZB0h49a-"
      },
      "source": [
        "#### RANDOMIZED SEARCH CV"
      ]
    },
    {
      "cell_type": "code",
      "execution_count": null,
      "metadata": {
        "colab": {
          "base_uri": "https://localhost:8080/"
        },
        "id": "w0SwK6Kil_PD",
        "outputId": "39a8f5ce-802a-48ce-ac41-7e296b214486"
      },
      "outputs": [
        {
          "output_type": "stream",
          "name": "stdout",
          "text": [
            "{'n_estimators': [200, 218, 236, 254, 272, 290, 309, 327, 345, 363, 381, 400, 418, 436, 454, 472, 490, 509, 527, 545, 563, 581, 600, 618, 636, 654, 672, 690, 709, 727, 745, 763, 781, 800, 818, 836, 854, 872, 890, 909, 927, 945, 963, 981, 1000, 1018, 1036, 1054, 1072, 1090, 1109, 1127, 1145, 1163, 1181, 1200, 1218, 1236, 1254, 1272, 1290, 1309, 1327, 1345, 1363, 1381, 1400, 1418, 1436, 1454, 1472, 1490, 1509, 1527, 1545, 1563, 1581, 1600, 1618, 1636, 1654, 1672, 1690, 1709, 1727, 1745, 1763, 1781, 1800, 1818, 1836, 1854, 1872, 1890, 1909, 1927, 1945, 1963, 1981, 2000], 'max_features': ['auto', 'sqrt', 'log2'], 'max_depth': [100, 200, 300, 400, 500, 600, 700, 800, 900, 1000], 'min_samples_split': [2, 5, 10, 14], 'min_samples_leaf': [1, 2, 4, 6, 8], 'criterion': ['gini', 'entropy']}\n"
          ]
        }
      ],
      "source": [
        "from sklearn.ensemble import RandomForestClassifier\n",
        "rfc=RandomForestClassifier()\n",
        "\n",
        "n_estimators=[int(x) for x in np.linspace(200,2000,100)]\n",
        "max_features=['auto','sqrt','log2']\n",
        "max_depth=[int(x) for x in np.linspace(100,1000,10)]\n",
        "min_samples_split=[2,5,10,14]\n",
        "min_samples_leaf=[1,2,4,6,8]\n",
        "criterion=['gini','entropy']\n",
        "\n",
        "random_grid={'n_estimators':n_estimators,\n",
        "             'max_features':max_features,\n",
        "             'max_depth':max_depth,\n",
        "             'min_samples_split':min_samples_split,\n",
        "             'min_samples_leaf':min_samples_leaf,\n",
        "             'criterion':criterion\n",
        "}\n",
        "print(random_grid)"
      ]
    },
    {
      "cell_type": "code",
      "execution_count": null,
      "metadata": {
        "colab": {
          "base_uri": "https://localhost:8080/"
        },
        "id": "Zgn2boydnxvx",
        "outputId": "be726bd2-6beb-47bb-f882-1fa3a2e56e30"
      },
      "outputs": [
        {
          "output_type": "stream",
          "name": "stdout",
          "text": [
            "Fitting 3 folds for each of 100 candidates, totalling 300 fits\n"
          ]
        },
        {
          "output_type": "execute_result",
          "data": {
            "text/plain": [
              "RandomizedSearchCV(cv=3, estimator=RandomForestClassifier(), n_iter=100,\n",
              "                   n_jobs=-1,\n",
              "                   param_distributions={'criterion': ['gini', 'entropy'],\n",
              "                                        'max_depth': [100, 200, 300, 400, 500,\n",
              "                                                      600, 700, 800, 900,\n",
              "                                                      1000],\n",
              "                                        'max_features': ['auto', 'sqrt',\n",
              "                                                         'log2'],\n",
              "                                        'min_samples_leaf': [1, 2, 4, 6, 8],\n",
              "                                        'min_samples_split': [2, 5, 10, 14],\n",
              "                                        'n_estimators': [200, 218, 236, 254,\n",
              "                                                         272, 290, 309, 327,\n",
              "                                                         345, 363, 381, 400,\n",
              "                                                         418, 436, 454, 472,\n",
              "                                                         490, 509, 527, 545,\n",
              "                                                         563, 581, 600, 618,\n",
              "                                                         636, 654, 672, 690,\n",
              "                                                         709, 727, ...]},\n",
              "                   random_state=100, verbose=2)"
            ],
            "text/html": [
              "<style>#sk-container-id-12 {color: black;background-color: white;}#sk-container-id-12 pre{padding: 0;}#sk-container-id-12 div.sk-toggleable {background-color: white;}#sk-container-id-12 label.sk-toggleable__label {cursor: pointer;display: block;width: 100%;margin-bottom: 0;padding: 0.3em;box-sizing: border-box;text-align: center;}#sk-container-id-12 label.sk-toggleable__label-arrow:before {content: \"▸\";float: left;margin-right: 0.25em;color: #696969;}#sk-container-id-12 label.sk-toggleable__label-arrow:hover:before {color: black;}#sk-container-id-12 div.sk-estimator:hover label.sk-toggleable__label-arrow:before {color: black;}#sk-container-id-12 div.sk-toggleable__content {max-height: 0;max-width: 0;overflow: hidden;text-align: left;background-color: #f0f8ff;}#sk-container-id-12 div.sk-toggleable__content pre {margin: 0.2em;color: black;border-radius: 0.25em;background-color: #f0f8ff;}#sk-container-id-12 input.sk-toggleable__control:checked~div.sk-toggleable__content {max-height: 200px;max-width: 100%;overflow: auto;}#sk-container-id-12 input.sk-toggleable__control:checked~label.sk-toggleable__label-arrow:before {content: \"▾\";}#sk-container-id-12 div.sk-estimator input.sk-toggleable__control:checked~label.sk-toggleable__label {background-color: #d4ebff;}#sk-container-id-12 div.sk-label input.sk-toggleable__control:checked~label.sk-toggleable__label {background-color: #d4ebff;}#sk-container-id-12 input.sk-hidden--visually {border: 0;clip: rect(1px 1px 1px 1px);clip: rect(1px, 1px, 1px, 1px);height: 1px;margin: -1px;overflow: hidden;padding: 0;position: absolute;width: 1px;}#sk-container-id-12 div.sk-estimator {font-family: monospace;background-color: #f0f8ff;border: 1px dotted black;border-radius: 0.25em;box-sizing: border-box;margin-bottom: 0.5em;}#sk-container-id-12 div.sk-estimator:hover {background-color: #d4ebff;}#sk-container-id-12 div.sk-parallel-item::after {content: \"\";width: 100%;border-bottom: 1px solid gray;flex-grow: 1;}#sk-container-id-12 div.sk-label:hover label.sk-toggleable__label {background-color: #d4ebff;}#sk-container-id-12 div.sk-serial::before {content: \"\";position: absolute;border-left: 1px solid gray;box-sizing: border-box;top: 0;bottom: 0;left: 50%;z-index: 0;}#sk-container-id-12 div.sk-serial {display: flex;flex-direction: column;align-items: center;background-color: white;padding-right: 0.2em;padding-left: 0.2em;position: relative;}#sk-container-id-12 div.sk-item {position: relative;z-index: 1;}#sk-container-id-12 div.sk-parallel {display: flex;align-items: stretch;justify-content: center;background-color: white;position: relative;}#sk-container-id-12 div.sk-item::before, #sk-container-id-12 div.sk-parallel-item::before {content: \"\";position: absolute;border-left: 1px solid gray;box-sizing: border-box;top: 0;bottom: 0;left: 50%;z-index: -1;}#sk-container-id-12 div.sk-parallel-item {display: flex;flex-direction: column;z-index: 1;position: relative;background-color: white;}#sk-container-id-12 div.sk-parallel-item:first-child::after {align-self: flex-end;width: 50%;}#sk-container-id-12 div.sk-parallel-item:last-child::after {align-self: flex-start;width: 50%;}#sk-container-id-12 div.sk-parallel-item:only-child::after {width: 0;}#sk-container-id-12 div.sk-dashed-wrapped {border: 1px dashed gray;margin: 0 0.4em 0.5em 0.4em;box-sizing: border-box;padding-bottom: 0.4em;background-color: white;}#sk-container-id-12 div.sk-label label {font-family: monospace;font-weight: bold;display: inline-block;line-height: 1.2em;}#sk-container-id-12 div.sk-label-container {text-align: center;}#sk-container-id-12 div.sk-container {/* jupyter's `normalize.less` sets `[hidden] { display: none; }` but bootstrap.min.css set `[hidden] { display: none !important; }` so we also need the `!important` here to be able to override the default hidden behavior on the sphinx rendered scikit-learn.org. See: https://github.com/scikit-learn/scikit-learn/issues/21755 */display: inline-block !important;position: relative;}#sk-container-id-12 div.sk-text-repr-fallback {display: none;}</style><div id=\"sk-container-id-12\" class=\"sk-top-container\"><div class=\"sk-text-repr-fallback\"><pre>RandomizedSearchCV(cv=3, estimator=RandomForestClassifier(), n_iter=100,\n",
              "                   n_jobs=-1,\n",
              "                   param_distributions={&#x27;criterion&#x27;: [&#x27;gini&#x27;, &#x27;entropy&#x27;],\n",
              "                                        &#x27;max_depth&#x27;: [100, 200, 300, 400, 500,\n",
              "                                                      600, 700, 800, 900,\n",
              "                                                      1000],\n",
              "                                        &#x27;max_features&#x27;: [&#x27;auto&#x27;, &#x27;sqrt&#x27;,\n",
              "                                                         &#x27;log2&#x27;],\n",
              "                                        &#x27;min_samples_leaf&#x27;: [1, 2, 4, 6, 8],\n",
              "                                        &#x27;min_samples_split&#x27;: [2, 5, 10, 14],\n",
              "                                        &#x27;n_estimators&#x27;: [200, 218, 236, 254,\n",
              "                                                         272, 290, 309, 327,\n",
              "                                                         345, 363, 381, 400,\n",
              "                                                         418, 436, 454, 472,\n",
              "                                                         490, 509, 527, 545,\n",
              "                                                         563, 581, 600, 618,\n",
              "                                                         636, 654, 672, 690,\n",
              "                                                         709, 727, ...]},\n",
              "                   random_state=100, verbose=2)</pre><b>In a Jupyter environment, please rerun this cell to show the HTML representation or trust the notebook. <br />On GitHub, the HTML representation is unable to render, please try loading this page with nbviewer.org.</b></div><div class=\"sk-container\" hidden><div class=\"sk-item sk-dashed-wrapped\"><div class=\"sk-label-container\"><div class=\"sk-label sk-toggleable\"><input class=\"sk-toggleable__control sk-hidden--visually\" id=\"sk-estimator-id-20\" type=\"checkbox\" ><label for=\"sk-estimator-id-20\" class=\"sk-toggleable__label sk-toggleable__label-arrow\">RandomizedSearchCV</label><div class=\"sk-toggleable__content\"><pre>RandomizedSearchCV(cv=3, estimator=RandomForestClassifier(), n_iter=100,\n",
              "                   n_jobs=-1,\n",
              "                   param_distributions={&#x27;criterion&#x27;: [&#x27;gini&#x27;, &#x27;entropy&#x27;],\n",
              "                                        &#x27;max_depth&#x27;: [100, 200, 300, 400, 500,\n",
              "                                                      600, 700, 800, 900,\n",
              "                                                      1000],\n",
              "                                        &#x27;max_features&#x27;: [&#x27;auto&#x27;, &#x27;sqrt&#x27;,\n",
              "                                                         &#x27;log2&#x27;],\n",
              "                                        &#x27;min_samples_leaf&#x27;: [1, 2, 4, 6, 8],\n",
              "                                        &#x27;min_samples_split&#x27;: [2, 5, 10, 14],\n",
              "                                        &#x27;n_estimators&#x27;: [200, 218, 236, 254,\n",
              "                                                         272, 290, 309, 327,\n",
              "                                                         345, 363, 381, 400,\n",
              "                                                         418, 436, 454, 472,\n",
              "                                                         490, 509, 527, 545,\n",
              "                                                         563, 581, 600, 618,\n",
              "                                                         636, 654, 672, 690,\n",
              "                                                         709, 727, ...]},\n",
              "                   random_state=100, verbose=2)</pre></div></div></div><div class=\"sk-parallel\"><div class=\"sk-parallel-item\"><div class=\"sk-item\"><div class=\"sk-label-container\"><div class=\"sk-label sk-toggleable\"><input class=\"sk-toggleable__control sk-hidden--visually\" id=\"sk-estimator-id-21\" type=\"checkbox\" ><label for=\"sk-estimator-id-21\" class=\"sk-toggleable__label sk-toggleable__label-arrow\">estimator: RandomForestClassifier</label><div class=\"sk-toggleable__content\"><pre>RandomForestClassifier()</pre></div></div></div><div class=\"sk-serial\"><div class=\"sk-item\"><div class=\"sk-estimator sk-toggleable\"><input class=\"sk-toggleable__control sk-hidden--visually\" id=\"sk-estimator-id-22\" type=\"checkbox\" ><label for=\"sk-estimator-id-22\" class=\"sk-toggleable__label sk-toggleable__label-arrow\">RandomForestClassifier</label><div class=\"sk-toggleable__content\"><pre>RandomForestClassifier()</pre></div></div></div></div></div></div></div></div></div></div>"
            ]
          },
          "metadata": {},
          "execution_count": 107
        }
      ],
      "source": [
        "random_rfc=RandomizedSearchCV(estimator=rfc,param_distributions=random_grid,n_iter=100,cv=3,verbose=2,random_state=100,n_jobs=-1)\n",
        "random_rfc.fit(x_train,y_train)"
      ]
    },
    {
      "cell_type": "code",
      "execution_count": null,
      "metadata": {
        "id": "WyCuolKiphhL",
        "colab": {
          "base_uri": "https://localhost:8080/"
        },
        "outputId": "4f81e810-9b8d-40ff-edda-9e6095fe392c"
      },
      "outputs": [
        {
          "output_type": "execute_result",
          "data": {
            "text/plain": [
              "{'n_estimators': 654,\n",
              " 'min_samples_split': 14,\n",
              " 'min_samples_leaf': 6,\n",
              " 'max_features': 'sqrt',\n",
              " 'max_depth': 800,\n",
              " 'criterion': 'entropy'}"
            ]
          },
          "metadata": {},
          "execution_count": 108
        }
      ],
      "source": [
        "random_rfc.best_params_"
      ]
    },
    {
      "cell_type": "markdown",
      "metadata": {
        "id": "v31c2-ol5E6h"
      },
      "source": [
        "#### GRID SEARCH CV"
      ]
    },
    {
      "cell_type": "code",
      "execution_count": null,
      "metadata": {
        "id": "NvE4qcZvsd8B"
      },
      "outputs": [],
      "source": [
        "best_random_grid=random_rfc.best_estimator_"
      ]
    },
    {
      "cell_type": "code",
      "execution_count": null,
      "metadata": {
        "id": "XBRlPOAStDgJ",
        "colab": {
          "base_uri": "https://localhost:8080/"
        },
        "outputId": "b70ecbfc-b636-42c9-a30c-e75542426206"
      },
      "outputs": [
        {
          "output_type": "stream",
          "name": "stdout",
          "text": [
            "{'criterion': ['entropy'], 'max_depth': [800], 'max_features': ['sqrt'], 'min_samples_leaf': [6, 8, 10], 'min_samples_split': [12, 13, 14, 15, 16], 'n_estimators': [454, 554, 654, 754, 854]}\n"
          ]
        }
      ],
      "source": [
        "param_grid = {\n",
        "    'criterion': [random_rfc.best_params_['criterion']],\n",
        "    'max_depth': [random_rfc.best_params_['max_depth']],\n",
        "    'max_features': [random_rfc.best_params_['max_features']],\n",
        "    'min_samples_leaf': [random_rfc.best_params_['min_samples_leaf'], \n",
        "                         random_rfc.best_params_['min_samples_leaf']+2, \n",
        "                         random_rfc.best_params_['min_samples_leaf'] + 4],\n",
        "    'min_samples_split': [random_rfc.best_params_['min_samples_split'] - 2,\n",
        "                          random_rfc.best_params_['min_samples_split'] - 1,\n",
        "                          random_rfc.best_params_['min_samples_split'], \n",
        "                          random_rfc.best_params_['min_samples_split'] +1,\n",
        "                          random_rfc.best_params_['min_samples_split'] + 2],\n",
        "    'n_estimators': [random_rfc.best_params_['n_estimators'] - 200, random_rfc.best_params_['n_estimators'] - 100, \n",
        "                     random_rfc.best_params_['n_estimators'], \n",
        "                     random_rfc.best_params_['n_estimators'] + 100, random_rfc.best_params_['n_estimators'] + 200]\n",
        "}\n",
        "\n",
        "print(param_grid)"
      ]
    },
    {
      "cell_type": "code",
      "execution_count": null,
      "metadata": {
        "id": "k6Iklo2xtrjn",
        "colab": {
          "base_uri": "https://localhost:8080/",
          "height": 134
        },
        "outputId": "b1b97867-4126-400d-9011-2eca408e89e4"
      },
      "outputs": [
        {
          "output_type": "stream",
          "name": "stdout",
          "text": [
            "Fitting 10 folds for each of 75 candidates, totalling 750 fits\n"
          ]
        },
        {
          "output_type": "execute_result",
          "data": {
            "text/plain": [
              "GridSearchCV(cv=10, estimator=RandomForestClassifier(), n_jobs=-1,\n",
              "             param_grid={'criterion': ['entropy'], 'max_depth': [800],\n",
              "                         'max_features': ['sqrt'],\n",
              "                         'min_samples_leaf': [6, 8, 10],\n",
              "                         'min_samples_split': [12, 13, 14, 15, 16],\n",
              "                         'n_estimators': [454, 554, 654, 754, 854]},\n",
              "             verbose=2)"
            ],
            "text/html": [
              "<style>#sk-container-id-13 {color: black;background-color: white;}#sk-container-id-13 pre{padding: 0;}#sk-container-id-13 div.sk-toggleable {background-color: white;}#sk-container-id-13 label.sk-toggleable__label {cursor: pointer;display: block;width: 100%;margin-bottom: 0;padding: 0.3em;box-sizing: border-box;text-align: center;}#sk-container-id-13 label.sk-toggleable__label-arrow:before {content: \"▸\";float: left;margin-right: 0.25em;color: #696969;}#sk-container-id-13 label.sk-toggleable__label-arrow:hover:before {color: black;}#sk-container-id-13 div.sk-estimator:hover label.sk-toggleable__label-arrow:before {color: black;}#sk-container-id-13 div.sk-toggleable__content {max-height: 0;max-width: 0;overflow: hidden;text-align: left;background-color: #f0f8ff;}#sk-container-id-13 div.sk-toggleable__content pre {margin: 0.2em;color: black;border-radius: 0.25em;background-color: #f0f8ff;}#sk-container-id-13 input.sk-toggleable__control:checked~div.sk-toggleable__content {max-height: 200px;max-width: 100%;overflow: auto;}#sk-container-id-13 input.sk-toggleable__control:checked~label.sk-toggleable__label-arrow:before {content: \"▾\";}#sk-container-id-13 div.sk-estimator input.sk-toggleable__control:checked~label.sk-toggleable__label {background-color: #d4ebff;}#sk-container-id-13 div.sk-label input.sk-toggleable__control:checked~label.sk-toggleable__label {background-color: #d4ebff;}#sk-container-id-13 input.sk-hidden--visually {border: 0;clip: rect(1px 1px 1px 1px);clip: rect(1px, 1px, 1px, 1px);height: 1px;margin: -1px;overflow: hidden;padding: 0;position: absolute;width: 1px;}#sk-container-id-13 div.sk-estimator {font-family: monospace;background-color: #f0f8ff;border: 1px dotted black;border-radius: 0.25em;box-sizing: border-box;margin-bottom: 0.5em;}#sk-container-id-13 div.sk-estimator:hover {background-color: #d4ebff;}#sk-container-id-13 div.sk-parallel-item::after {content: \"\";width: 100%;border-bottom: 1px solid gray;flex-grow: 1;}#sk-container-id-13 div.sk-label:hover label.sk-toggleable__label {background-color: #d4ebff;}#sk-container-id-13 div.sk-serial::before {content: \"\";position: absolute;border-left: 1px solid gray;box-sizing: border-box;top: 0;bottom: 0;left: 50%;z-index: 0;}#sk-container-id-13 div.sk-serial {display: flex;flex-direction: column;align-items: center;background-color: white;padding-right: 0.2em;padding-left: 0.2em;position: relative;}#sk-container-id-13 div.sk-item {position: relative;z-index: 1;}#sk-container-id-13 div.sk-parallel {display: flex;align-items: stretch;justify-content: center;background-color: white;position: relative;}#sk-container-id-13 div.sk-item::before, #sk-container-id-13 div.sk-parallel-item::before {content: \"\";position: absolute;border-left: 1px solid gray;box-sizing: border-box;top: 0;bottom: 0;left: 50%;z-index: -1;}#sk-container-id-13 div.sk-parallel-item {display: flex;flex-direction: column;z-index: 1;position: relative;background-color: white;}#sk-container-id-13 div.sk-parallel-item:first-child::after {align-self: flex-end;width: 50%;}#sk-container-id-13 div.sk-parallel-item:last-child::after {align-self: flex-start;width: 50%;}#sk-container-id-13 div.sk-parallel-item:only-child::after {width: 0;}#sk-container-id-13 div.sk-dashed-wrapped {border: 1px dashed gray;margin: 0 0.4em 0.5em 0.4em;box-sizing: border-box;padding-bottom: 0.4em;background-color: white;}#sk-container-id-13 div.sk-label label {font-family: monospace;font-weight: bold;display: inline-block;line-height: 1.2em;}#sk-container-id-13 div.sk-label-container {text-align: center;}#sk-container-id-13 div.sk-container {/* jupyter's `normalize.less` sets `[hidden] { display: none; }` but bootstrap.min.css set `[hidden] { display: none !important; }` so we also need the `!important` here to be able to override the default hidden behavior on the sphinx rendered scikit-learn.org. See: https://github.com/scikit-learn/scikit-learn/issues/21755 */display: inline-block !important;position: relative;}#sk-container-id-13 div.sk-text-repr-fallback {display: none;}</style><div id=\"sk-container-id-13\" class=\"sk-top-container\"><div class=\"sk-text-repr-fallback\"><pre>GridSearchCV(cv=10, estimator=RandomForestClassifier(), n_jobs=-1,\n",
              "             param_grid={&#x27;criterion&#x27;: [&#x27;entropy&#x27;], &#x27;max_depth&#x27;: [800],\n",
              "                         &#x27;max_features&#x27;: [&#x27;sqrt&#x27;],\n",
              "                         &#x27;min_samples_leaf&#x27;: [6, 8, 10],\n",
              "                         &#x27;min_samples_split&#x27;: [12, 13, 14, 15, 16],\n",
              "                         &#x27;n_estimators&#x27;: [454, 554, 654, 754, 854]},\n",
              "             verbose=2)</pre><b>In a Jupyter environment, please rerun this cell to show the HTML representation or trust the notebook. <br />On GitHub, the HTML representation is unable to render, please try loading this page with nbviewer.org.</b></div><div class=\"sk-container\" hidden><div class=\"sk-item sk-dashed-wrapped\"><div class=\"sk-label-container\"><div class=\"sk-label sk-toggleable\"><input class=\"sk-toggleable__control sk-hidden--visually\" id=\"sk-estimator-id-23\" type=\"checkbox\" ><label for=\"sk-estimator-id-23\" class=\"sk-toggleable__label sk-toggleable__label-arrow\">GridSearchCV</label><div class=\"sk-toggleable__content\"><pre>GridSearchCV(cv=10, estimator=RandomForestClassifier(), n_jobs=-1,\n",
              "             param_grid={&#x27;criterion&#x27;: [&#x27;entropy&#x27;], &#x27;max_depth&#x27;: [800],\n",
              "                         &#x27;max_features&#x27;: [&#x27;sqrt&#x27;],\n",
              "                         &#x27;min_samples_leaf&#x27;: [6, 8, 10],\n",
              "                         &#x27;min_samples_split&#x27;: [12, 13, 14, 15, 16],\n",
              "                         &#x27;n_estimators&#x27;: [454, 554, 654, 754, 854]},\n",
              "             verbose=2)</pre></div></div></div><div class=\"sk-parallel\"><div class=\"sk-parallel-item\"><div class=\"sk-item\"><div class=\"sk-label-container\"><div class=\"sk-label sk-toggleable\"><input class=\"sk-toggleable__control sk-hidden--visually\" id=\"sk-estimator-id-24\" type=\"checkbox\" ><label for=\"sk-estimator-id-24\" class=\"sk-toggleable__label sk-toggleable__label-arrow\">estimator: RandomForestClassifier</label><div class=\"sk-toggleable__content\"><pre>RandomForestClassifier()</pre></div></div></div><div class=\"sk-serial\"><div class=\"sk-item\"><div class=\"sk-estimator sk-toggleable\"><input class=\"sk-toggleable__control sk-hidden--visually\" id=\"sk-estimator-id-25\" type=\"checkbox\" ><label for=\"sk-estimator-id-25\" class=\"sk-toggleable__label sk-toggleable__label-arrow\">RandomForestClassifier</label><div class=\"sk-toggleable__content\"><pre>RandomForestClassifier()</pre></div></div></div></div></div></div></div></div></div></div>"
            ]
          },
          "metadata": {},
          "execution_count": 111
        }
      ],
      "source": [
        "grid_search=GridSearchCV(estimator=rfc,param_grid=param_grid,cv=10,n_jobs=-1,verbose=2)\n",
        "grid_search.fit(x_train,y_train)"
      ]
    },
    {
      "cell_type": "code",
      "execution_count": null,
      "metadata": {
        "id": "ZncIyHRq3_mU"
      },
      "outputs": [],
      "source": [
        "best_grid=grid_search.best_estimator_"
      ]
    },
    {
      "cell_type": "code",
      "execution_count": null,
      "metadata": {
        "id": "V0H_KugI4DlI"
      },
      "outputs": [],
      "source": [
        "ypred_train_rfc=best_grid.predict(x_train)\n",
        "ypred_test_rfc=best_grid.predict(x_test)"
      ]
    },
    {
      "cell_type": "markdown",
      "metadata": {
        "id": "bIQXKZ9RJ_ZB"
      },
      "source": [
        "#### ACCURACY SCORE"
      ]
    },
    {
      "cell_type": "code",
      "execution_count": null,
      "metadata": {
        "id": "2euHq-uLJv8e",
        "colab": {
          "base_uri": "https://localhost:8080/"
        },
        "outputId": "3991d1a6-74bb-47f8-be50-9fee75c08c84"
      },
      "outputs": [
        {
          "output_type": "stream",
          "name": "stdout",
          "text": [
            "Accuracy Score :  0.7785714285714286\n",
            "Confusion Matrix :  [[ 93  42   0]\n",
            " [ 11 216  19]\n",
            " [  0  52 127]]\n",
            "CLassification Report :                precision    recall  f1-score   support\n",
            "\n",
            "         1.0       0.89      0.69      0.78       135\n",
            "         2.0       0.70      0.88      0.78       246\n",
            "         3.0       0.87      0.71      0.78       179\n",
            "\n",
            "    accuracy                           0.78       560\n",
            "   macro avg       0.82      0.76      0.78       560\n",
            "weighted avg       0.80      0.78      0.78       560\n",
            "\n"
          ]
        }
      ],
      "source": [
        "report(y_train,ypred_train_rfc)"
      ]
    },
    {
      "cell_type": "code",
      "execution_count": null,
      "metadata": {
        "id": "rGjHAHd6J0bX",
        "colab": {
          "base_uri": "https://localhost:8080/"
        },
        "outputId": "ac707a96-7ece-4699-d9bc-c85422399132"
      },
      "outputs": [
        {
          "output_type": "stream",
          "name": "stdout",
          "text": [
            "Accuracy Score :  0.6041666666666666\n",
            "Confusion Matrix :  [[22 35  1]\n",
            " [ 7 81 19]\n",
            " [ 3 30 42]]\n",
            "CLassification Report :                precision    recall  f1-score   support\n",
            "\n",
            "         1.0       0.69      0.38      0.49        58\n",
            "         2.0       0.55      0.76      0.64       107\n",
            "         3.0       0.68      0.56      0.61        75\n",
            "\n",
            "    accuracy                           0.60       240\n",
            "   macro avg       0.64      0.57      0.58       240\n",
            "weighted avg       0.63      0.60      0.60       240\n",
            "\n"
          ]
        }
      ],
      "source": [
        "report(y_test,ypred_test_rfc)"
      ]
    },
    {
      "cell_type": "markdown",
      "metadata": {
        "id": "Nfc83aTtKyia"
      },
      "source": [
        "## APPLYING KNN"
      ]
    },
    {
      "cell_type": "code",
      "execution_count": null,
      "metadata": {
        "colab": {
          "base_uri": "https://localhost:8080/",
          "height": 74
        },
        "id": "E5-7hhnSJ38z",
        "outputId": "9c61e604-a5ff-4544-ab40-4b6dc6e09424"
      },
      "outputs": [
        {
          "output_type": "execute_result",
          "data": {
            "text/plain": [
              "KNeighborsClassifier(n_neighbors=41)"
            ],
            "text/html": [
              "<style>#sk-container-id-4 {color: black;background-color: white;}#sk-container-id-4 pre{padding: 0;}#sk-container-id-4 div.sk-toggleable {background-color: white;}#sk-container-id-4 label.sk-toggleable__label {cursor: pointer;display: block;width: 100%;margin-bottom: 0;padding: 0.3em;box-sizing: border-box;text-align: center;}#sk-container-id-4 label.sk-toggleable__label-arrow:before {content: \"▸\";float: left;margin-right: 0.25em;color: #696969;}#sk-container-id-4 label.sk-toggleable__label-arrow:hover:before {color: black;}#sk-container-id-4 div.sk-estimator:hover label.sk-toggleable__label-arrow:before {color: black;}#sk-container-id-4 div.sk-toggleable__content {max-height: 0;max-width: 0;overflow: hidden;text-align: left;background-color: #f0f8ff;}#sk-container-id-4 div.sk-toggleable__content pre {margin: 0.2em;color: black;border-radius: 0.25em;background-color: #f0f8ff;}#sk-container-id-4 input.sk-toggleable__control:checked~div.sk-toggleable__content {max-height: 200px;max-width: 100%;overflow: auto;}#sk-container-id-4 input.sk-toggleable__control:checked~label.sk-toggleable__label-arrow:before {content: \"▾\";}#sk-container-id-4 div.sk-estimator input.sk-toggleable__control:checked~label.sk-toggleable__label {background-color: #d4ebff;}#sk-container-id-4 div.sk-label input.sk-toggleable__control:checked~label.sk-toggleable__label {background-color: #d4ebff;}#sk-container-id-4 input.sk-hidden--visually {border: 0;clip: rect(1px 1px 1px 1px);clip: rect(1px, 1px, 1px, 1px);height: 1px;margin: -1px;overflow: hidden;padding: 0;position: absolute;width: 1px;}#sk-container-id-4 div.sk-estimator {font-family: monospace;background-color: #f0f8ff;border: 1px dotted black;border-radius: 0.25em;box-sizing: border-box;margin-bottom: 0.5em;}#sk-container-id-4 div.sk-estimator:hover {background-color: #d4ebff;}#sk-container-id-4 div.sk-parallel-item::after {content: \"\";width: 100%;border-bottom: 1px solid gray;flex-grow: 1;}#sk-container-id-4 div.sk-label:hover label.sk-toggleable__label {background-color: #d4ebff;}#sk-container-id-4 div.sk-serial::before {content: \"\";position: absolute;border-left: 1px solid gray;box-sizing: border-box;top: 0;bottom: 0;left: 50%;z-index: 0;}#sk-container-id-4 div.sk-serial {display: flex;flex-direction: column;align-items: center;background-color: white;padding-right: 0.2em;padding-left: 0.2em;position: relative;}#sk-container-id-4 div.sk-item {position: relative;z-index: 1;}#sk-container-id-4 div.sk-parallel {display: flex;align-items: stretch;justify-content: center;background-color: white;position: relative;}#sk-container-id-4 div.sk-item::before, #sk-container-id-4 div.sk-parallel-item::before {content: \"\";position: absolute;border-left: 1px solid gray;box-sizing: border-box;top: 0;bottom: 0;left: 50%;z-index: -1;}#sk-container-id-4 div.sk-parallel-item {display: flex;flex-direction: column;z-index: 1;position: relative;background-color: white;}#sk-container-id-4 div.sk-parallel-item:first-child::after {align-self: flex-end;width: 50%;}#sk-container-id-4 div.sk-parallel-item:last-child::after {align-self: flex-start;width: 50%;}#sk-container-id-4 div.sk-parallel-item:only-child::after {width: 0;}#sk-container-id-4 div.sk-dashed-wrapped {border: 1px dashed gray;margin: 0 0.4em 0.5em 0.4em;box-sizing: border-box;padding-bottom: 0.4em;background-color: white;}#sk-container-id-4 div.sk-label label {font-family: monospace;font-weight: bold;display: inline-block;line-height: 1.2em;}#sk-container-id-4 div.sk-label-container {text-align: center;}#sk-container-id-4 div.sk-container {/* jupyter's `normalize.less` sets `[hidden] { display: none; }` but bootstrap.min.css set `[hidden] { display: none !important; }` so we also need the `!important` here to be able to override the default hidden behavior on the sphinx rendered scikit-learn.org. See: https://github.com/scikit-learn/scikit-learn/issues/21755 */display: inline-block !important;position: relative;}#sk-container-id-4 div.sk-text-repr-fallback {display: none;}</style><div id=\"sk-container-id-4\" class=\"sk-top-container\"><div class=\"sk-text-repr-fallback\"><pre>KNeighborsClassifier(n_neighbors=41)</pre><b>In a Jupyter environment, please rerun this cell to show the HTML representation or trust the notebook. <br />On GitHub, the HTML representation is unable to render, please try loading this page with nbviewer.org.</b></div><div class=\"sk-container\" hidden><div class=\"sk-item\"><div class=\"sk-estimator sk-toggleable\"><input class=\"sk-toggleable__control sk-hidden--visually\" id=\"sk-estimator-id-8\" type=\"checkbox\" checked><label for=\"sk-estimator-id-8\" class=\"sk-toggleable__label sk-toggleable__label-arrow\">KNeighborsClassifier</label><div class=\"sk-toggleable__content\"><pre>KNeighborsClassifier(n_neighbors=41)</pre></div></div></div></div></div>"
            ]
          },
          "metadata": {},
          "execution_count": 60
        }
      ],
      "source": [
        "from sklearn.neighbors import KNeighborsClassifier\n",
        "knn=KNeighborsClassifier(n_neighbors=41)\n",
        "knn.fit(x_train,y_train)\n"
      ]
    },
    {
      "cell_type": "code",
      "execution_count": null,
      "metadata": {
        "id": "emcWq_nlKXRi"
      },
      "outputs": [],
      "source": [
        "ypred_knn_train=knn.predict(x_train)\n",
        "ypred_knn_test=knn.predict(x_test)"
      ]
    },
    {
      "cell_type": "markdown",
      "metadata": {
        "id": "RzjDD-B5KuT8"
      },
      "source": [
        "#### ACCURACY SCORE"
      ]
    },
    {
      "cell_type": "code",
      "execution_count": null,
      "metadata": {
        "colab": {
          "base_uri": "https://localhost:8080/"
        },
        "id": "YKG4Ra36Kk5d",
        "outputId": "0cbe2372-c4f5-44cf-abab-eb31539b34e5"
      },
      "outputs": [
        {
          "output_type": "stream",
          "name": "stdout",
          "text": [
            "Accuracy Score :  0.6160714285714286\n",
            "Confusion Matrix :  [[ 70  57   8]\n",
            " [ 27 142  77]\n",
            " [  1  45 133]]\n",
            "CLassification Report :                precision    recall  f1-score   support\n",
            "\n",
            "         1.0       0.71      0.52      0.60       135\n",
            "         2.0       0.58      0.58      0.58       246\n",
            "         3.0       0.61      0.74      0.67       179\n",
            "\n",
            "    accuracy                           0.62       560\n",
            "   macro avg       0.64      0.61      0.62       560\n",
            "weighted avg       0.62      0.62      0.61       560\n",
            "\n"
          ]
        }
      ],
      "source": [
        "report(y_train,ypred_knn_train)"
      ]
    },
    {
      "cell_type": "code",
      "execution_count": null,
      "metadata": {
        "colab": {
          "base_uri": "https://localhost:8080/"
        },
        "id": "q8dDMIexKoPR",
        "outputId": "8d56e5cd-5d31-43b2-c5fa-70aa46cc41fc"
      },
      "outputs": [
        {
          "output_type": "stream",
          "name": "stdout",
          "text": [
            "Accuracy Score :  0.5541666666666667\n",
            "Confusion Matrix :  [[22 29  7]\n",
            " [ 8 60 39]\n",
            " [ 0 24 51]]\n",
            "CLassification Report :                precision    recall  f1-score   support\n",
            "\n",
            "         1.0       0.73      0.38      0.50        58\n",
            "         2.0       0.53      0.56      0.55       107\n",
            "         3.0       0.53      0.68      0.59        75\n",
            "\n",
            "    accuracy                           0.55       240\n",
            "   macro avg       0.60      0.54      0.55       240\n",
            "weighted avg       0.58      0.55      0.55       240\n",
            "\n"
          ]
        }
      ],
      "source": [
        "report(y_test,ypred_knn_test)"
      ]
    },
    {
      "cell_type": "markdown",
      "metadata": {
        "id": "4LY7pEWDeYIP"
      },
      "source": [
        "##SVC"
      ]
    },
    {
      "cell_type": "code",
      "execution_count": null,
      "metadata": {
        "colab": {
          "base_uri": "https://localhost:8080/",
          "height": 74
        },
        "id": "vTTexQXvKst_",
        "outputId": "2b0e3e81-afb2-4b66-8d8c-f5e4106098ae"
      },
      "outputs": [
        {
          "output_type": "execute_result",
          "data": {
            "text/plain": [
              "SVC(C=1)"
            ],
            "text/html": [
              "<style>#sk-container-id-5 {color: black;background-color: white;}#sk-container-id-5 pre{padding: 0;}#sk-container-id-5 div.sk-toggleable {background-color: white;}#sk-container-id-5 label.sk-toggleable__label {cursor: pointer;display: block;width: 100%;margin-bottom: 0;padding: 0.3em;box-sizing: border-box;text-align: center;}#sk-container-id-5 label.sk-toggleable__label-arrow:before {content: \"▸\";float: left;margin-right: 0.25em;color: #696969;}#sk-container-id-5 label.sk-toggleable__label-arrow:hover:before {color: black;}#sk-container-id-5 div.sk-estimator:hover label.sk-toggleable__label-arrow:before {color: black;}#sk-container-id-5 div.sk-toggleable__content {max-height: 0;max-width: 0;overflow: hidden;text-align: left;background-color: #f0f8ff;}#sk-container-id-5 div.sk-toggleable__content pre {margin: 0.2em;color: black;border-radius: 0.25em;background-color: #f0f8ff;}#sk-container-id-5 input.sk-toggleable__control:checked~div.sk-toggleable__content {max-height: 200px;max-width: 100%;overflow: auto;}#sk-container-id-5 input.sk-toggleable__control:checked~label.sk-toggleable__label-arrow:before {content: \"▾\";}#sk-container-id-5 div.sk-estimator input.sk-toggleable__control:checked~label.sk-toggleable__label {background-color: #d4ebff;}#sk-container-id-5 div.sk-label input.sk-toggleable__control:checked~label.sk-toggleable__label {background-color: #d4ebff;}#sk-container-id-5 input.sk-hidden--visually {border: 0;clip: rect(1px 1px 1px 1px);clip: rect(1px, 1px, 1px, 1px);height: 1px;margin: -1px;overflow: hidden;padding: 0;position: absolute;width: 1px;}#sk-container-id-5 div.sk-estimator {font-family: monospace;background-color: #f0f8ff;border: 1px dotted black;border-radius: 0.25em;box-sizing: border-box;margin-bottom: 0.5em;}#sk-container-id-5 div.sk-estimator:hover {background-color: #d4ebff;}#sk-container-id-5 div.sk-parallel-item::after {content: \"\";width: 100%;border-bottom: 1px solid gray;flex-grow: 1;}#sk-container-id-5 div.sk-label:hover label.sk-toggleable__label {background-color: #d4ebff;}#sk-container-id-5 div.sk-serial::before {content: \"\";position: absolute;border-left: 1px solid gray;box-sizing: border-box;top: 0;bottom: 0;left: 50%;z-index: 0;}#sk-container-id-5 div.sk-serial {display: flex;flex-direction: column;align-items: center;background-color: white;padding-right: 0.2em;padding-left: 0.2em;position: relative;}#sk-container-id-5 div.sk-item {position: relative;z-index: 1;}#sk-container-id-5 div.sk-parallel {display: flex;align-items: stretch;justify-content: center;background-color: white;position: relative;}#sk-container-id-5 div.sk-item::before, #sk-container-id-5 div.sk-parallel-item::before {content: \"\";position: absolute;border-left: 1px solid gray;box-sizing: border-box;top: 0;bottom: 0;left: 50%;z-index: -1;}#sk-container-id-5 div.sk-parallel-item {display: flex;flex-direction: column;z-index: 1;position: relative;background-color: white;}#sk-container-id-5 div.sk-parallel-item:first-child::after {align-self: flex-end;width: 50%;}#sk-container-id-5 div.sk-parallel-item:last-child::after {align-self: flex-start;width: 50%;}#sk-container-id-5 div.sk-parallel-item:only-child::after {width: 0;}#sk-container-id-5 div.sk-dashed-wrapped {border: 1px dashed gray;margin: 0 0.4em 0.5em 0.4em;box-sizing: border-box;padding-bottom: 0.4em;background-color: white;}#sk-container-id-5 div.sk-label label {font-family: monospace;font-weight: bold;display: inline-block;line-height: 1.2em;}#sk-container-id-5 div.sk-label-container {text-align: center;}#sk-container-id-5 div.sk-container {/* jupyter's `normalize.less` sets `[hidden] { display: none; }` but bootstrap.min.css set `[hidden] { display: none !important; }` so we also need the `!important` here to be able to override the default hidden behavior on the sphinx rendered scikit-learn.org. See: https://github.com/scikit-learn/scikit-learn/issues/21755 */display: inline-block !important;position: relative;}#sk-container-id-5 div.sk-text-repr-fallback {display: none;}</style><div id=\"sk-container-id-5\" class=\"sk-top-container\"><div class=\"sk-text-repr-fallback\"><pre>SVC(C=1)</pre><b>In a Jupyter environment, please rerun this cell to show the HTML representation or trust the notebook. <br />On GitHub, the HTML representation is unable to render, please try loading this page with nbviewer.org.</b></div><div class=\"sk-container\" hidden><div class=\"sk-item\"><div class=\"sk-estimator sk-toggleable\"><input class=\"sk-toggleable__control sk-hidden--visually\" id=\"sk-estimator-id-9\" type=\"checkbox\" checked><label for=\"sk-estimator-id-9\" class=\"sk-toggleable__label sk-toggleable__label-arrow\">SVC</label><div class=\"sk-toggleable__content\"><pre>SVC(C=1)</pre></div></div></div></div></div>"
            ]
          },
          "metadata": {},
          "execution_count": 64
        }
      ],
      "source": [
        "from sklearn.svm import SVC\n",
        "svc=SVC(kernel='rbf',C=1)\n",
        "svc.fit(x_train,y_train)"
      ]
    },
    {
      "cell_type": "code",
      "execution_count": null,
      "metadata": {
        "id": "mFGP8gJaei_I"
      },
      "outputs": [],
      "source": [
        "ypred_train_svc=svc.predict(x_train)\n",
        "ypred_test_svc=svc.predict(x_test)"
      ]
    },
    {
      "cell_type": "markdown",
      "metadata": {
        "id": "KEVyyQi1fBNf"
      },
      "source": [
        "#### ACCURACY SCORE"
      ]
    },
    {
      "cell_type": "code",
      "execution_count": null,
      "metadata": {
        "colab": {
          "base_uri": "https://localhost:8080/"
        },
        "id": "MuYle5eHey63",
        "outputId": "ff52c7a6-017d-45cc-e065-7477a91fbd4f"
      },
      "outputs": [
        {
          "output_type": "stream",
          "name": "stdout",
          "text": [
            "Accuracy Score :  0.6178571428571429\n",
            "Confusion Matrix :  [[ 55  72   8]\n",
            " [ 12 151  83]\n",
            " [  0  39 140]]\n",
            "CLassification Report :                precision    recall  f1-score   support\n",
            "\n",
            "         1.0       0.82      0.41      0.54       135\n",
            "         2.0       0.58      0.61      0.59       246\n",
            "         3.0       0.61      0.78      0.68       179\n",
            "\n",
            "    accuracy                           0.62       560\n",
            "   macro avg       0.67      0.60      0.61       560\n",
            "weighted avg       0.64      0.62      0.61       560\n",
            "\n"
          ]
        }
      ],
      "source": [
        "report(y_train,ypred_train_svc)"
      ]
    },
    {
      "cell_type": "code",
      "execution_count": null,
      "metadata": {
        "colab": {
          "base_uri": "https://localhost:8080/"
        },
        "id": "F4iwuF8Le6Qg",
        "outputId": "12bafb56-71d8-4921-95b0-fa37823f4716"
      },
      "outputs": [
        {
          "output_type": "stream",
          "name": "stdout",
          "text": [
            "Accuracy Score :  0.5625\n",
            "Confusion Matrix :  [[19 32  7]\n",
            " [ 2 61 44]\n",
            " [ 0 20 55]]\n",
            "CLassification Report :                precision    recall  f1-score   support\n",
            "\n",
            "         1.0       0.90      0.33      0.48        58\n",
            "         2.0       0.54      0.57      0.55       107\n",
            "         3.0       0.52      0.73      0.61        75\n",
            "\n",
            "    accuracy                           0.56       240\n",
            "   macro avg       0.65      0.54      0.55       240\n",
            "weighted avg       0.62      0.56      0.55       240\n",
            "\n"
          ]
        }
      ],
      "source": [
        "report(y_test,ypred_test_svc)"
      ]
    },
    {
      "cell_type": "markdown",
      "metadata": {
        "id": "it9PB4WqkOAw"
      },
      "source": [
        "##NAIVE BAYES\n"
      ]
    },
    {
      "cell_type": "code",
      "execution_count": null,
      "metadata": {
        "colab": {
          "base_uri": "https://localhost:8080/",
          "height": 74
        },
        "id": "6HB8CXXAkbvU",
        "outputId": "ec101ca9-481a-422c-873c-4dbdd689dd38"
      },
      "outputs": [
        {
          "output_type": "execute_result",
          "data": {
            "text/plain": [
              "GaussianNB()"
            ],
            "text/html": [
              "<style>#sk-container-id-6 {color: black;background-color: white;}#sk-container-id-6 pre{padding: 0;}#sk-container-id-6 div.sk-toggleable {background-color: white;}#sk-container-id-6 label.sk-toggleable__label {cursor: pointer;display: block;width: 100%;margin-bottom: 0;padding: 0.3em;box-sizing: border-box;text-align: center;}#sk-container-id-6 label.sk-toggleable__label-arrow:before {content: \"▸\";float: left;margin-right: 0.25em;color: #696969;}#sk-container-id-6 label.sk-toggleable__label-arrow:hover:before {color: black;}#sk-container-id-6 div.sk-estimator:hover label.sk-toggleable__label-arrow:before {color: black;}#sk-container-id-6 div.sk-toggleable__content {max-height: 0;max-width: 0;overflow: hidden;text-align: left;background-color: #f0f8ff;}#sk-container-id-6 div.sk-toggleable__content pre {margin: 0.2em;color: black;border-radius: 0.25em;background-color: #f0f8ff;}#sk-container-id-6 input.sk-toggleable__control:checked~div.sk-toggleable__content {max-height: 200px;max-width: 100%;overflow: auto;}#sk-container-id-6 input.sk-toggleable__control:checked~label.sk-toggleable__label-arrow:before {content: \"▾\";}#sk-container-id-6 div.sk-estimator input.sk-toggleable__control:checked~label.sk-toggleable__label {background-color: #d4ebff;}#sk-container-id-6 div.sk-label input.sk-toggleable__control:checked~label.sk-toggleable__label {background-color: #d4ebff;}#sk-container-id-6 input.sk-hidden--visually {border: 0;clip: rect(1px 1px 1px 1px);clip: rect(1px, 1px, 1px, 1px);height: 1px;margin: -1px;overflow: hidden;padding: 0;position: absolute;width: 1px;}#sk-container-id-6 div.sk-estimator {font-family: monospace;background-color: #f0f8ff;border: 1px dotted black;border-radius: 0.25em;box-sizing: border-box;margin-bottom: 0.5em;}#sk-container-id-6 div.sk-estimator:hover {background-color: #d4ebff;}#sk-container-id-6 div.sk-parallel-item::after {content: \"\";width: 100%;border-bottom: 1px solid gray;flex-grow: 1;}#sk-container-id-6 div.sk-label:hover label.sk-toggleable__label {background-color: #d4ebff;}#sk-container-id-6 div.sk-serial::before {content: \"\";position: absolute;border-left: 1px solid gray;box-sizing: border-box;top: 0;bottom: 0;left: 50%;z-index: 0;}#sk-container-id-6 div.sk-serial {display: flex;flex-direction: column;align-items: center;background-color: white;padding-right: 0.2em;padding-left: 0.2em;position: relative;}#sk-container-id-6 div.sk-item {position: relative;z-index: 1;}#sk-container-id-6 div.sk-parallel {display: flex;align-items: stretch;justify-content: center;background-color: white;position: relative;}#sk-container-id-6 div.sk-item::before, #sk-container-id-6 div.sk-parallel-item::before {content: \"\";position: absolute;border-left: 1px solid gray;box-sizing: border-box;top: 0;bottom: 0;left: 50%;z-index: -1;}#sk-container-id-6 div.sk-parallel-item {display: flex;flex-direction: column;z-index: 1;position: relative;background-color: white;}#sk-container-id-6 div.sk-parallel-item:first-child::after {align-self: flex-end;width: 50%;}#sk-container-id-6 div.sk-parallel-item:last-child::after {align-self: flex-start;width: 50%;}#sk-container-id-6 div.sk-parallel-item:only-child::after {width: 0;}#sk-container-id-6 div.sk-dashed-wrapped {border: 1px dashed gray;margin: 0 0.4em 0.5em 0.4em;box-sizing: border-box;padding-bottom: 0.4em;background-color: white;}#sk-container-id-6 div.sk-label label {font-family: monospace;font-weight: bold;display: inline-block;line-height: 1.2em;}#sk-container-id-6 div.sk-label-container {text-align: center;}#sk-container-id-6 div.sk-container {/* jupyter's `normalize.less` sets `[hidden] { display: none; }` but bootstrap.min.css set `[hidden] { display: none !important; }` so we also need the `!important` here to be able to override the default hidden behavior on the sphinx rendered scikit-learn.org. See: https://github.com/scikit-learn/scikit-learn/issues/21755 */display: inline-block !important;position: relative;}#sk-container-id-6 div.sk-text-repr-fallback {display: none;}</style><div id=\"sk-container-id-6\" class=\"sk-top-container\"><div class=\"sk-text-repr-fallback\"><pre>GaussianNB()</pre><b>In a Jupyter environment, please rerun this cell to show the HTML representation or trust the notebook. <br />On GitHub, the HTML representation is unable to render, please try loading this page with nbviewer.org.</b></div><div class=\"sk-container\" hidden><div class=\"sk-item\"><div class=\"sk-estimator sk-toggleable\"><input class=\"sk-toggleable__control sk-hidden--visually\" id=\"sk-estimator-id-10\" type=\"checkbox\" checked><label for=\"sk-estimator-id-10\" class=\"sk-toggleable__label sk-toggleable__label-arrow\">GaussianNB</label><div class=\"sk-toggleable__content\"><pre>GaussianNB()</pre></div></div></div></div></div>"
            ]
          },
          "metadata": {},
          "execution_count": 68
        }
      ],
      "source": [
        "from sklearn.naive_bayes import GaussianNB\n",
        "nb=GaussianNB()\n",
        "nb.fit(x_train,y_train)"
      ]
    },
    {
      "cell_type": "code",
      "execution_count": null,
      "metadata": {
        "id": "Q0MsZd_AklTd"
      },
      "outputs": [],
      "source": [
        "ypred_train_nb=nb.predict(x_train)\n",
        "ypred_test_nb=nb.predict(x_test)"
      ]
    },
    {
      "cell_type": "markdown",
      "metadata": {
        "id": "F-_ERgyRJNDF"
      },
      "source": [
        "### ACCURACY SCORE\n"
      ]
    },
    {
      "cell_type": "code",
      "execution_count": null,
      "metadata": {
        "colab": {
          "base_uri": "https://localhost:8080/"
        },
        "id": "pItdKUG7ktup",
        "outputId": "8bb72447-e48a-4370-b6bd-26a59f3fc973"
      },
      "outputs": [
        {
          "output_type": "stream",
          "name": "stdout",
          "text": [
            "Accuracy Score :  0.4375\n",
            "Confusion Matrix :  [[128   6   1]\n",
            " [174  53  19]\n",
            " [ 93  22  64]]\n",
            "CLassification Report :                precision    recall  f1-score   support\n",
            "\n",
            "         1.0       0.32      0.95      0.48       135\n",
            "         2.0       0.65      0.22      0.32       246\n",
            "         3.0       0.76      0.36      0.49       179\n",
            "\n",
            "    accuracy                           0.44       560\n",
            "   macro avg       0.58      0.51      0.43       560\n",
            "weighted avg       0.61      0.44      0.41       560\n",
            "\n"
          ]
        }
      ],
      "source": [
        "report(y_train,ypred_train_nb)"
      ]
    },
    {
      "cell_type": "code",
      "execution_count": null,
      "metadata": {
        "colab": {
          "base_uri": "https://localhost:8080/"
        },
        "id": "jS_cO40zkx9z",
        "outputId": "2d666dea-3cbd-41f8-bdb1-6b93ef28d573"
      },
      "outputs": [
        {
          "output_type": "stream",
          "name": "stdout",
          "text": [
            "Accuracy Score :  0.375\n",
            "Confusion Matrix :  [[49  7  2]\n",
            " [73 15 19]\n",
            " [38 11 26]]\n",
            "CLassification Report :                precision    recall  f1-score   support\n",
            "\n",
            "         1.0       0.31      0.84      0.45        58\n",
            "         2.0       0.45      0.14      0.21       107\n",
            "         3.0       0.55      0.35      0.43        75\n",
            "\n",
            "    accuracy                           0.38       240\n",
            "   macro avg       0.44      0.44      0.36       240\n",
            "weighted avg       0.45      0.38      0.34       240\n",
            "\n"
          ]
        }
      ],
      "source": [
        "report(y_test,ypred_test_nb)"
      ]
    },
    {
      "cell_type": "markdown",
      "source": [
        "## APPLYING SMOTE"
      ],
      "metadata": {
        "id": "7gv3eMr-qiip"
      }
    },
    {
      "cell_type": "code",
      "execution_count": null,
      "metadata": {
        "id": "tIiqcIZCbGJ9"
      },
      "outputs": [],
      "source": [
        "from imblearn.over_sampling import SMOTE\n",
        "smp=SMOTE()\n"
      ]
    },
    {
      "cell_type": "code",
      "execution_count": null,
      "metadata": {
        "id": "DscsqDoSbJnA"
      },
      "outputs": [],
      "source": [
        "x_smote,y_smote=smp.fit_resample(x,y)"
      ]
    },
    {
      "cell_type": "code",
      "execution_count": null,
      "metadata": {
        "id": "-M8SUF2DbM8V"
      },
      "outputs": [],
      "source": [
        "x_sm_train,x_sm_test,y_sm_train,y_sm_test=train_test_split(x_smote,y_smote,test_size=0.2,random_state=2)"
      ]
    },
    {
      "cell_type": "markdown",
      "source": [
        "### LOGISTIC REGRESSION"
      ],
      "metadata": {
        "id": "UxZ5plxyqqzW"
      }
    },
    {
      "cell_type": "code",
      "execution_count": null,
      "metadata": {
        "colab": {
          "base_uri": "https://localhost:8080/",
          "height": 239
        },
        "id": "brqG8sFvbQ_d",
        "outputId": "a9f25411-7b72-4086-960f-b32c23f8b157"
      },
      "outputs": [
        {
          "output_type": "stream",
          "name": "stderr",
          "text": [
            "/usr/local/lib/python3.10/dist-packages/sklearn/linear_model/_logistic.py:458: ConvergenceWarning: lbfgs failed to converge (status=1):\n",
            "STOP: TOTAL NO. of ITERATIONS REACHED LIMIT.\n",
            "\n",
            "Increase the number of iterations (max_iter) or scale the data as shown in:\n",
            "    https://scikit-learn.org/stable/modules/preprocessing.html\n",
            "Please also refer to the documentation for alternative solver options:\n",
            "    https://scikit-learn.org/stable/modules/linear_model.html#logistic-regression\n",
            "  n_iter_i = _check_optimize_result(\n"
          ]
        },
        {
          "output_type": "execute_result",
          "data": {
            "text/plain": [
              "LogisticRegression()"
            ],
            "text/html": [
              "<style>#sk-container-id-7 {color: black;background-color: white;}#sk-container-id-7 pre{padding: 0;}#sk-container-id-7 div.sk-toggleable {background-color: white;}#sk-container-id-7 label.sk-toggleable__label {cursor: pointer;display: block;width: 100%;margin-bottom: 0;padding: 0.3em;box-sizing: border-box;text-align: center;}#sk-container-id-7 label.sk-toggleable__label-arrow:before {content: \"▸\";float: left;margin-right: 0.25em;color: #696969;}#sk-container-id-7 label.sk-toggleable__label-arrow:hover:before {color: black;}#sk-container-id-7 div.sk-estimator:hover label.sk-toggleable__label-arrow:before {color: black;}#sk-container-id-7 div.sk-toggleable__content {max-height: 0;max-width: 0;overflow: hidden;text-align: left;background-color: #f0f8ff;}#sk-container-id-7 div.sk-toggleable__content pre {margin: 0.2em;color: black;border-radius: 0.25em;background-color: #f0f8ff;}#sk-container-id-7 input.sk-toggleable__control:checked~div.sk-toggleable__content {max-height: 200px;max-width: 100%;overflow: auto;}#sk-container-id-7 input.sk-toggleable__control:checked~label.sk-toggleable__label-arrow:before {content: \"▾\";}#sk-container-id-7 div.sk-estimator input.sk-toggleable__control:checked~label.sk-toggleable__label {background-color: #d4ebff;}#sk-container-id-7 div.sk-label input.sk-toggleable__control:checked~label.sk-toggleable__label {background-color: #d4ebff;}#sk-container-id-7 input.sk-hidden--visually {border: 0;clip: rect(1px 1px 1px 1px);clip: rect(1px, 1px, 1px, 1px);height: 1px;margin: -1px;overflow: hidden;padding: 0;position: absolute;width: 1px;}#sk-container-id-7 div.sk-estimator {font-family: monospace;background-color: #f0f8ff;border: 1px dotted black;border-radius: 0.25em;box-sizing: border-box;margin-bottom: 0.5em;}#sk-container-id-7 div.sk-estimator:hover {background-color: #d4ebff;}#sk-container-id-7 div.sk-parallel-item::after {content: \"\";width: 100%;border-bottom: 1px solid gray;flex-grow: 1;}#sk-container-id-7 div.sk-label:hover label.sk-toggleable__label {background-color: #d4ebff;}#sk-container-id-7 div.sk-serial::before {content: \"\";position: absolute;border-left: 1px solid gray;box-sizing: border-box;top: 0;bottom: 0;left: 50%;z-index: 0;}#sk-container-id-7 div.sk-serial {display: flex;flex-direction: column;align-items: center;background-color: white;padding-right: 0.2em;padding-left: 0.2em;position: relative;}#sk-container-id-7 div.sk-item {position: relative;z-index: 1;}#sk-container-id-7 div.sk-parallel {display: flex;align-items: stretch;justify-content: center;background-color: white;position: relative;}#sk-container-id-7 div.sk-item::before, #sk-container-id-7 div.sk-parallel-item::before {content: \"\";position: absolute;border-left: 1px solid gray;box-sizing: border-box;top: 0;bottom: 0;left: 50%;z-index: -1;}#sk-container-id-7 div.sk-parallel-item {display: flex;flex-direction: column;z-index: 1;position: relative;background-color: white;}#sk-container-id-7 div.sk-parallel-item:first-child::after {align-self: flex-end;width: 50%;}#sk-container-id-7 div.sk-parallel-item:last-child::after {align-self: flex-start;width: 50%;}#sk-container-id-7 div.sk-parallel-item:only-child::after {width: 0;}#sk-container-id-7 div.sk-dashed-wrapped {border: 1px dashed gray;margin: 0 0.4em 0.5em 0.4em;box-sizing: border-box;padding-bottom: 0.4em;background-color: white;}#sk-container-id-7 div.sk-label label {font-family: monospace;font-weight: bold;display: inline-block;line-height: 1.2em;}#sk-container-id-7 div.sk-label-container {text-align: center;}#sk-container-id-7 div.sk-container {/* jupyter's `normalize.less` sets `[hidden] { display: none; }` but bootstrap.min.css set `[hidden] { display: none !important; }` so we also need the `!important` here to be able to override the default hidden behavior on the sphinx rendered scikit-learn.org. See: https://github.com/scikit-learn/scikit-learn/issues/21755 */display: inline-block !important;position: relative;}#sk-container-id-7 div.sk-text-repr-fallback {display: none;}</style><div id=\"sk-container-id-7\" class=\"sk-top-container\"><div class=\"sk-text-repr-fallback\"><pre>LogisticRegression()</pre><b>In a Jupyter environment, please rerun this cell to show the HTML representation or trust the notebook. <br />On GitHub, the HTML representation is unable to render, please try loading this page with nbviewer.org.</b></div><div class=\"sk-container\" hidden><div class=\"sk-item\"><div class=\"sk-estimator sk-toggleable\"><input class=\"sk-toggleable__control sk-hidden--visually\" id=\"sk-estimator-id-11\" type=\"checkbox\" checked><label for=\"sk-estimator-id-11\" class=\"sk-toggleable__label sk-toggleable__label-arrow\">LogisticRegression</label><div class=\"sk-toggleable__content\"><pre>LogisticRegression()</pre></div></div></div></div></div>"
            ]
          },
          "metadata": {},
          "execution_count": 75
        }
      ],
      "source": [
        "lr.fit(x_sm_train,y_sm_train) "
      ]
    },
    {
      "cell_type": "code",
      "execution_count": null,
      "metadata": {
        "id": "ZdATBVNNbUOB"
      },
      "outputs": [],
      "source": [
        "y_pred_lr_train_sm=lr.predict(x_sm_train)\n",
        "y_pred_lr_test_sm=lr.predict(x_sm_test)"
      ]
    },
    {
      "cell_type": "code",
      "execution_count": null,
      "metadata": {
        "colab": {
          "base_uri": "https://localhost:8080/"
        },
        "id": "_oOH0pKkbVP-",
        "outputId": "523fb8f6-786b-4289-b3a9-c773dd8f8bbd"
      },
      "outputs": [
        {
          "output_type": "stream",
          "name": "stdout",
          "text": [
            "Accuracy Score :  0.7863046044864227\n",
            "Confusion Matrix :  [[236  38   6]\n",
            " [ 30 206  48]\n",
            " [  5  54 224]]\n",
            "CLassification Report :                precision    recall  f1-score   support\n",
            "\n",
            "         1.0       0.87      0.84      0.86       280\n",
            "         2.0       0.69      0.73      0.71       284\n",
            "         3.0       0.81      0.79      0.80       283\n",
            "\n",
            "    accuracy                           0.79       847\n",
            "   macro avg       0.79      0.79      0.79       847\n",
            "weighted avg       0.79      0.79      0.79       847\n",
            "\n"
          ]
        }
      ],
      "source": [
        "report(y_sm_train,y_pred_lr_train_sm)"
      ]
    },
    {
      "cell_type": "code",
      "execution_count": null,
      "metadata": {
        "colab": {
          "base_uri": "https://localhost:8080/"
        },
        "id": "bnWUUahibiz6",
        "outputId": "3339811d-f7df-4b1e-95ca-f9f5c0c2b7ab"
      },
      "outputs": [
        {
          "output_type": "stream",
          "name": "stdout",
          "text": [
            "Accuracy Score :  0.7358490566037735\n",
            "Confusion Matrix :  [[57 12  4]\n",
            " [17 41 11]\n",
            " [ 1 11 58]]\n",
            "CLassification Report :                precision    recall  f1-score   support\n",
            "\n",
            "         1.0       0.76      0.78      0.77        73\n",
            "         2.0       0.64      0.59      0.62        69\n",
            "         3.0       0.79      0.83      0.81        70\n",
            "\n",
            "    accuracy                           0.74       212\n",
            "   macro avg       0.73      0.73      0.73       212\n",
            "weighted avg       0.73      0.74      0.73       212\n",
            "\n"
          ]
        }
      ],
      "source": [
        "report(y_sm_test,y_pred_lr_test_sm)"
      ]
    },
    {
      "cell_type": "markdown",
      "source": [
        "### DECISION TREE"
      ],
      "metadata": {
        "id": "0MTgdF6eqw4u"
      }
    },
    {
      "cell_type": "code",
      "execution_count": null,
      "metadata": {
        "colab": {
          "base_uri": "https://localhost:8080/",
          "height": 895
        },
        "id": "563bCbwEbs0k",
        "outputId": "64cdc4b2-d94e-432e-bb3e-1c8b5bb3a3e3"
      },
      "outputs": [
        {
          "output_type": "stream",
          "name": "stdout",
          "text": [
            "Fitting 10 folds for each of 15 candidates, totalling 150 fits\n"
          ]
        },
        {
          "output_type": "stream",
          "name": "stderr",
          "text": [
            "/usr/local/lib/python3.10/dist-packages/sklearn/model_selection/_validation.py:378: FitFailedWarning: \n",
            "60 fits failed out of a total of 150.\n",
            "The score on these train-test partitions for these parameters will be set to nan.\n",
            "If these failures are not expected, you can try to debug them by setting error_score='raise'.\n",
            "\n",
            "Below are more details about the failures:\n",
            "--------------------------------------------------------------------------------\n",
            "30 fits failed with the following error:\n",
            "Traceback (most recent call last):\n",
            "  File \"/usr/local/lib/python3.10/dist-packages/sklearn/model_selection/_validation.py\", line 686, in _fit_and_score\n",
            "    estimator.fit(X_train, y_train, **fit_params)\n",
            "  File \"/usr/local/lib/python3.10/dist-packages/sklearn/tree/_classes.py\", line 889, in fit\n",
            "    super().fit(\n",
            "  File \"/usr/local/lib/python3.10/dist-packages/sklearn/tree/_classes.py\", line 177, in fit\n",
            "    self._validate_params()\n",
            "  File \"/usr/local/lib/python3.10/dist-packages/sklearn/base.py\", line 600, in _validate_params\n",
            "    validate_parameter_constraints(\n",
            "  File \"/usr/local/lib/python3.10/dist-packages/sklearn/utils/_param_validation.py\", line 97, in validate_parameter_constraints\n",
            "    raise InvalidParameterError(\n",
            "sklearn.utils._param_validation.InvalidParameterError: The 'min_samples_split' parameter of DecisionTreeClassifier must be an int in the range [2, inf) or a float in the range (0.0, 1.0]. Got 0 instead.\n",
            "\n",
            "--------------------------------------------------------------------------------\n",
            "30 fits failed with the following error:\n",
            "Traceback (most recent call last):\n",
            "  File \"/usr/local/lib/python3.10/dist-packages/sklearn/model_selection/_validation.py\", line 686, in _fit_and_score\n",
            "    estimator.fit(X_train, y_train, **fit_params)\n",
            "  File \"/usr/local/lib/python3.10/dist-packages/sklearn/tree/_classes.py\", line 889, in fit\n",
            "    super().fit(\n",
            "  File \"/usr/local/lib/python3.10/dist-packages/sklearn/tree/_classes.py\", line 177, in fit\n",
            "    self._validate_params()\n",
            "  File \"/usr/local/lib/python3.10/dist-packages/sklearn/base.py\", line 600, in _validate_params\n",
            "    validate_parameter_constraints(\n",
            "  File \"/usr/local/lib/python3.10/dist-packages/sklearn/utils/_param_validation.py\", line 97, in validate_parameter_constraints\n",
            "    raise InvalidParameterError(\n",
            "sklearn.utils._param_validation.InvalidParameterError: The 'min_samples_split' parameter of DecisionTreeClassifier must be an int in the range [2, inf) or a float in the range (0.0, 1.0]. Got 1 instead.\n",
            "\n",
            "  warnings.warn(some_fits_failed_message, FitFailedWarning)\n",
            "/usr/local/lib/python3.10/dist-packages/sklearn/model_selection/_search.py:952: UserWarning: One or more of the test scores are non-finite: [       nan        nan 0.57747899 0.5217507  0.55137255        nan\n",
            "        nan 0.60338936 0.56673669 0.55967787        nan        nan\n",
            " 0.57833333 0.56453782 0.56088235]\n",
            "  warnings.warn(\n"
          ]
        },
        {
          "output_type": "execute_result",
          "data": {
            "text/plain": [
              "GridSearchCV(cv=10, estimator=DecisionTreeClassifier(), n_jobs=-1,\n",
              "             param_grid={'criterion': ['entropy'], 'max_depth': [700],\n",
              "                         'max_features': ['sqrt'],\n",
              "                         'min_samples_leaf': [4, 6, 8],\n",
              "                         'min_samples_split': [0, 1, 2, 3, 4],\n",
              "                         'splitter': ['best']},\n",
              "             verbose=2)"
            ],
            "text/html": [
              "<style>#sk-container-id-8 {color: black;background-color: white;}#sk-container-id-8 pre{padding: 0;}#sk-container-id-8 div.sk-toggleable {background-color: white;}#sk-container-id-8 label.sk-toggleable__label {cursor: pointer;display: block;width: 100%;margin-bottom: 0;padding: 0.3em;box-sizing: border-box;text-align: center;}#sk-container-id-8 label.sk-toggleable__label-arrow:before {content: \"▸\";float: left;margin-right: 0.25em;color: #696969;}#sk-container-id-8 label.sk-toggleable__label-arrow:hover:before {color: black;}#sk-container-id-8 div.sk-estimator:hover label.sk-toggleable__label-arrow:before {color: black;}#sk-container-id-8 div.sk-toggleable__content {max-height: 0;max-width: 0;overflow: hidden;text-align: left;background-color: #f0f8ff;}#sk-container-id-8 div.sk-toggleable__content pre {margin: 0.2em;color: black;border-radius: 0.25em;background-color: #f0f8ff;}#sk-container-id-8 input.sk-toggleable__control:checked~div.sk-toggleable__content {max-height: 200px;max-width: 100%;overflow: auto;}#sk-container-id-8 input.sk-toggleable__control:checked~label.sk-toggleable__label-arrow:before {content: \"▾\";}#sk-container-id-8 div.sk-estimator input.sk-toggleable__control:checked~label.sk-toggleable__label {background-color: #d4ebff;}#sk-container-id-8 div.sk-label input.sk-toggleable__control:checked~label.sk-toggleable__label {background-color: #d4ebff;}#sk-container-id-8 input.sk-hidden--visually {border: 0;clip: rect(1px 1px 1px 1px);clip: rect(1px, 1px, 1px, 1px);height: 1px;margin: -1px;overflow: hidden;padding: 0;position: absolute;width: 1px;}#sk-container-id-8 div.sk-estimator {font-family: monospace;background-color: #f0f8ff;border: 1px dotted black;border-radius: 0.25em;box-sizing: border-box;margin-bottom: 0.5em;}#sk-container-id-8 div.sk-estimator:hover {background-color: #d4ebff;}#sk-container-id-8 div.sk-parallel-item::after {content: \"\";width: 100%;border-bottom: 1px solid gray;flex-grow: 1;}#sk-container-id-8 div.sk-label:hover label.sk-toggleable__label {background-color: #d4ebff;}#sk-container-id-8 div.sk-serial::before {content: \"\";position: absolute;border-left: 1px solid gray;box-sizing: border-box;top: 0;bottom: 0;left: 50%;z-index: 0;}#sk-container-id-8 div.sk-serial {display: flex;flex-direction: column;align-items: center;background-color: white;padding-right: 0.2em;padding-left: 0.2em;position: relative;}#sk-container-id-8 div.sk-item {position: relative;z-index: 1;}#sk-container-id-8 div.sk-parallel {display: flex;align-items: stretch;justify-content: center;background-color: white;position: relative;}#sk-container-id-8 div.sk-item::before, #sk-container-id-8 div.sk-parallel-item::before {content: \"\";position: absolute;border-left: 1px solid gray;box-sizing: border-box;top: 0;bottom: 0;left: 50%;z-index: -1;}#sk-container-id-8 div.sk-parallel-item {display: flex;flex-direction: column;z-index: 1;position: relative;background-color: white;}#sk-container-id-8 div.sk-parallel-item:first-child::after {align-self: flex-end;width: 50%;}#sk-container-id-8 div.sk-parallel-item:last-child::after {align-self: flex-start;width: 50%;}#sk-container-id-8 div.sk-parallel-item:only-child::after {width: 0;}#sk-container-id-8 div.sk-dashed-wrapped {border: 1px dashed gray;margin: 0 0.4em 0.5em 0.4em;box-sizing: border-box;padding-bottom: 0.4em;background-color: white;}#sk-container-id-8 div.sk-label label {font-family: monospace;font-weight: bold;display: inline-block;line-height: 1.2em;}#sk-container-id-8 div.sk-label-container {text-align: center;}#sk-container-id-8 div.sk-container {/* jupyter's `normalize.less` sets `[hidden] { display: none; }` but bootstrap.min.css set `[hidden] { display: none !important; }` so we also need the `!important` here to be able to override the default hidden behavior on the sphinx rendered scikit-learn.org. See: https://github.com/scikit-learn/scikit-learn/issues/21755 */display: inline-block !important;position: relative;}#sk-container-id-8 div.sk-text-repr-fallback {display: none;}</style><div id=\"sk-container-id-8\" class=\"sk-top-container\"><div class=\"sk-text-repr-fallback\"><pre>GridSearchCV(cv=10, estimator=DecisionTreeClassifier(), n_jobs=-1,\n",
              "             param_grid={&#x27;criterion&#x27;: [&#x27;entropy&#x27;], &#x27;max_depth&#x27;: [700],\n",
              "                         &#x27;max_features&#x27;: [&#x27;sqrt&#x27;],\n",
              "                         &#x27;min_samples_leaf&#x27;: [4, 6, 8],\n",
              "                         &#x27;min_samples_split&#x27;: [0, 1, 2, 3, 4],\n",
              "                         &#x27;splitter&#x27;: [&#x27;best&#x27;]},\n",
              "             verbose=2)</pre><b>In a Jupyter environment, please rerun this cell to show the HTML representation or trust the notebook. <br />On GitHub, the HTML representation is unable to render, please try loading this page with nbviewer.org.</b></div><div class=\"sk-container\" hidden><div class=\"sk-item sk-dashed-wrapped\"><div class=\"sk-label-container\"><div class=\"sk-label sk-toggleable\"><input class=\"sk-toggleable__control sk-hidden--visually\" id=\"sk-estimator-id-12\" type=\"checkbox\" ><label for=\"sk-estimator-id-12\" class=\"sk-toggleable__label sk-toggleable__label-arrow\">GridSearchCV</label><div class=\"sk-toggleable__content\"><pre>GridSearchCV(cv=10, estimator=DecisionTreeClassifier(), n_jobs=-1,\n",
              "             param_grid={&#x27;criterion&#x27;: [&#x27;entropy&#x27;], &#x27;max_depth&#x27;: [700],\n",
              "                         &#x27;max_features&#x27;: [&#x27;sqrt&#x27;],\n",
              "                         &#x27;min_samples_leaf&#x27;: [4, 6, 8],\n",
              "                         &#x27;min_samples_split&#x27;: [0, 1, 2, 3, 4],\n",
              "                         &#x27;splitter&#x27;: [&#x27;best&#x27;]},\n",
              "             verbose=2)</pre></div></div></div><div class=\"sk-parallel\"><div class=\"sk-parallel-item\"><div class=\"sk-item\"><div class=\"sk-label-container\"><div class=\"sk-label sk-toggleable\"><input class=\"sk-toggleable__control sk-hidden--visually\" id=\"sk-estimator-id-13\" type=\"checkbox\" ><label for=\"sk-estimator-id-13\" class=\"sk-toggleable__label sk-toggleable__label-arrow\">estimator: DecisionTreeClassifier</label><div class=\"sk-toggleable__content\"><pre>DecisionTreeClassifier()</pre></div></div></div><div class=\"sk-serial\"><div class=\"sk-item\"><div class=\"sk-estimator sk-toggleable\"><input class=\"sk-toggleable__control sk-hidden--visually\" id=\"sk-estimator-id-14\" type=\"checkbox\" ><label for=\"sk-estimator-id-14\" class=\"sk-toggleable__label sk-toggleable__label-arrow\">DecisionTreeClassifier</label><div class=\"sk-toggleable__content\"><pre>DecisionTreeClassifier()</pre></div></div></div></div></div></div></div></div></div></div>"
            ]
          },
          "metadata": {},
          "execution_count": 79
        }
      ],
      "source": [
        "grid_search_dtc.fit(x_sm_train,y_sm_train)"
      ]
    },
    {
      "cell_type": "code",
      "execution_count": null,
      "metadata": {
        "id": "TioDMKbzb9cS"
      },
      "outputs": [],
      "source": [
        "ypred_train_dtc_sm=best_grid_dtc.predict(x_sm_train)\n",
        "ypred_test_dtc_sm=best_grid_dtc.predict(x_sm_test)"
      ]
    },
    {
      "cell_type": "code",
      "execution_count": null,
      "metadata": {
        "colab": {
          "base_uri": "https://localhost:8080/"
        },
        "id": "cSkP59N3cRsq",
        "outputId": "588187cd-fdd7-40a0-b9ea-2470f208014a"
      },
      "outputs": [
        {
          "output_type": "stream",
          "name": "stdout",
          "text": [
            "Accuracy Score :  0.5785123966942148\n",
            "Confusion Matrix :  [[151  98  31]\n",
            " [ 41 201  42]\n",
            " [ 21 124 138]]\n",
            "CLassification Report :                precision    recall  f1-score   support\n",
            "\n",
            "         1.0       0.71      0.54      0.61       280\n",
            "         2.0       0.48      0.71      0.57       284\n",
            "         3.0       0.65      0.49      0.56       283\n",
            "\n",
            "    accuracy                           0.58       847\n",
            "   macro avg       0.61      0.58      0.58       847\n",
            "weighted avg       0.61      0.58      0.58       847\n",
            "\n"
          ]
        }
      ],
      "source": [
        "report(y_sm_train,ypred_train_dtc_sm)"
      ]
    },
    {
      "cell_type": "code",
      "execution_count": null,
      "metadata": {
        "colab": {
          "base_uri": "https://localhost:8080/"
        },
        "id": "r49fap-GckUt",
        "outputId": "a22e8173-8673-4a62-f39b-0c3c2b1da8dd"
      },
      "outputs": [
        {
          "output_type": "stream",
          "name": "stdout",
          "text": [
            "Accuracy Score :  0.589622641509434\n",
            "Confusion Matrix :  [[44 21  8]\n",
            " [14 46  9]\n",
            " [ 4 31 35]]\n",
            "CLassification Report :                precision    recall  f1-score   support\n",
            "\n",
            "         1.0       0.71      0.60      0.65        73\n",
            "         2.0       0.47      0.67      0.55        69\n",
            "         3.0       0.67      0.50      0.57        70\n",
            "\n",
            "    accuracy                           0.59       212\n",
            "   macro avg       0.62      0.59      0.59       212\n",
            "weighted avg       0.62      0.59      0.59       212\n",
            "\n"
          ]
        }
      ],
      "source": [
        "report(y_sm_test,ypred_test_dtc_sm)"
      ]
    },
    {
      "cell_type": "markdown",
      "source": [
        "### RANDOM FOREST"
      ],
      "metadata": {
        "id": "WJK4t-wFrA2q"
      }
    },
    {
      "cell_type": "code",
      "execution_count": null,
      "metadata": {
        "colab": {
          "base_uri": "https://localhost:8080/",
          "height": 134
        },
        "id": "2M83kbQwcwyG",
        "outputId": "f4f0e03c-9199-4e1d-dbef-061b96935fdd"
      },
      "outputs": [
        {
          "output_type": "stream",
          "name": "stdout",
          "text": [
            "Fitting 10 folds for each of 75 candidates, totalling 750 fits\n"
          ]
        },
        {
          "output_type": "execute_result",
          "data": {
            "text/plain": [
              "GridSearchCV(cv=10, estimator=RandomForestClassifier(), n_jobs=-1,\n",
              "             param_grid={'criterion': ['entropy'], 'max_depth': [800],\n",
              "                         'max_features': ['sqrt'],\n",
              "                         'min_samples_leaf': [6, 8, 10],\n",
              "                         'min_samples_split': [12, 13, 14, 15, 16],\n",
              "                         'n_estimators': [454, 554, 654, 754, 854]},\n",
              "             verbose=2)"
            ],
            "text/html": [
              "<style>#sk-container-id-15 {color: black;background-color: white;}#sk-container-id-15 pre{padding: 0;}#sk-container-id-15 div.sk-toggleable {background-color: white;}#sk-container-id-15 label.sk-toggleable__label {cursor: pointer;display: block;width: 100%;margin-bottom: 0;padding: 0.3em;box-sizing: border-box;text-align: center;}#sk-container-id-15 label.sk-toggleable__label-arrow:before {content: \"▸\";float: left;margin-right: 0.25em;color: #696969;}#sk-container-id-15 label.sk-toggleable__label-arrow:hover:before {color: black;}#sk-container-id-15 div.sk-estimator:hover label.sk-toggleable__label-arrow:before {color: black;}#sk-container-id-15 div.sk-toggleable__content {max-height: 0;max-width: 0;overflow: hidden;text-align: left;background-color: #f0f8ff;}#sk-container-id-15 div.sk-toggleable__content pre {margin: 0.2em;color: black;border-radius: 0.25em;background-color: #f0f8ff;}#sk-container-id-15 input.sk-toggleable__control:checked~div.sk-toggleable__content {max-height: 200px;max-width: 100%;overflow: auto;}#sk-container-id-15 input.sk-toggleable__control:checked~label.sk-toggleable__label-arrow:before {content: \"▾\";}#sk-container-id-15 div.sk-estimator input.sk-toggleable__control:checked~label.sk-toggleable__label {background-color: #d4ebff;}#sk-container-id-15 div.sk-label input.sk-toggleable__control:checked~label.sk-toggleable__label {background-color: #d4ebff;}#sk-container-id-15 input.sk-hidden--visually {border: 0;clip: rect(1px 1px 1px 1px);clip: rect(1px, 1px, 1px, 1px);height: 1px;margin: -1px;overflow: hidden;padding: 0;position: absolute;width: 1px;}#sk-container-id-15 div.sk-estimator {font-family: monospace;background-color: #f0f8ff;border: 1px dotted black;border-radius: 0.25em;box-sizing: border-box;margin-bottom: 0.5em;}#sk-container-id-15 div.sk-estimator:hover {background-color: #d4ebff;}#sk-container-id-15 div.sk-parallel-item::after {content: \"\";width: 100%;border-bottom: 1px solid gray;flex-grow: 1;}#sk-container-id-15 div.sk-label:hover label.sk-toggleable__label {background-color: #d4ebff;}#sk-container-id-15 div.sk-serial::before {content: \"\";position: absolute;border-left: 1px solid gray;box-sizing: border-box;top: 0;bottom: 0;left: 50%;z-index: 0;}#sk-container-id-15 div.sk-serial {display: flex;flex-direction: column;align-items: center;background-color: white;padding-right: 0.2em;padding-left: 0.2em;position: relative;}#sk-container-id-15 div.sk-item {position: relative;z-index: 1;}#sk-container-id-15 div.sk-parallel {display: flex;align-items: stretch;justify-content: center;background-color: white;position: relative;}#sk-container-id-15 div.sk-item::before, #sk-container-id-15 div.sk-parallel-item::before {content: \"\";position: absolute;border-left: 1px solid gray;box-sizing: border-box;top: 0;bottom: 0;left: 50%;z-index: -1;}#sk-container-id-15 div.sk-parallel-item {display: flex;flex-direction: column;z-index: 1;position: relative;background-color: white;}#sk-container-id-15 div.sk-parallel-item:first-child::after {align-self: flex-end;width: 50%;}#sk-container-id-15 div.sk-parallel-item:last-child::after {align-self: flex-start;width: 50%;}#sk-container-id-15 div.sk-parallel-item:only-child::after {width: 0;}#sk-container-id-15 div.sk-dashed-wrapped {border: 1px dashed gray;margin: 0 0.4em 0.5em 0.4em;box-sizing: border-box;padding-bottom: 0.4em;background-color: white;}#sk-container-id-15 div.sk-label label {font-family: monospace;font-weight: bold;display: inline-block;line-height: 1.2em;}#sk-container-id-15 div.sk-label-container {text-align: center;}#sk-container-id-15 div.sk-container {/* jupyter's `normalize.less` sets `[hidden] { display: none; }` but bootstrap.min.css set `[hidden] { display: none !important; }` so we also need the `!important` here to be able to override the default hidden behavior on the sphinx rendered scikit-learn.org. See: https://github.com/scikit-learn/scikit-learn/issues/21755 */display: inline-block !important;position: relative;}#sk-container-id-15 div.sk-text-repr-fallback {display: none;}</style><div id=\"sk-container-id-15\" class=\"sk-top-container\"><div class=\"sk-text-repr-fallback\"><pre>GridSearchCV(cv=10, estimator=RandomForestClassifier(), n_jobs=-1,\n",
              "             param_grid={&#x27;criterion&#x27;: [&#x27;entropy&#x27;], &#x27;max_depth&#x27;: [800],\n",
              "                         &#x27;max_features&#x27;: [&#x27;sqrt&#x27;],\n",
              "                         &#x27;min_samples_leaf&#x27;: [6, 8, 10],\n",
              "                         &#x27;min_samples_split&#x27;: [12, 13, 14, 15, 16],\n",
              "                         &#x27;n_estimators&#x27;: [454, 554, 654, 754, 854]},\n",
              "             verbose=2)</pre><b>In a Jupyter environment, please rerun this cell to show the HTML representation or trust the notebook. <br />On GitHub, the HTML representation is unable to render, please try loading this page with nbviewer.org.</b></div><div class=\"sk-container\" hidden><div class=\"sk-item sk-dashed-wrapped\"><div class=\"sk-label-container\"><div class=\"sk-label sk-toggleable\"><input class=\"sk-toggleable__control sk-hidden--visually\" id=\"sk-estimator-id-29\" type=\"checkbox\" ><label for=\"sk-estimator-id-29\" class=\"sk-toggleable__label sk-toggleable__label-arrow\">GridSearchCV</label><div class=\"sk-toggleable__content\"><pre>GridSearchCV(cv=10, estimator=RandomForestClassifier(), n_jobs=-1,\n",
              "             param_grid={&#x27;criterion&#x27;: [&#x27;entropy&#x27;], &#x27;max_depth&#x27;: [800],\n",
              "                         &#x27;max_features&#x27;: [&#x27;sqrt&#x27;],\n",
              "                         &#x27;min_samples_leaf&#x27;: [6, 8, 10],\n",
              "                         &#x27;min_samples_split&#x27;: [12, 13, 14, 15, 16],\n",
              "                         &#x27;n_estimators&#x27;: [454, 554, 654, 754, 854]},\n",
              "             verbose=2)</pre></div></div></div><div class=\"sk-parallel\"><div class=\"sk-parallel-item\"><div class=\"sk-item\"><div class=\"sk-label-container\"><div class=\"sk-label sk-toggleable\"><input class=\"sk-toggleable__control sk-hidden--visually\" id=\"sk-estimator-id-30\" type=\"checkbox\" ><label for=\"sk-estimator-id-30\" class=\"sk-toggleable__label sk-toggleable__label-arrow\">estimator: RandomForestClassifier</label><div class=\"sk-toggleable__content\"><pre>RandomForestClassifier()</pre></div></div></div><div class=\"sk-serial\"><div class=\"sk-item\"><div class=\"sk-estimator sk-toggleable\"><input class=\"sk-toggleable__control sk-hidden--visually\" id=\"sk-estimator-id-31\" type=\"checkbox\" ><label for=\"sk-estimator-id-31\" class=\"sk-toggleable__label sk-toggleable__label-arrow\">RandomForestClassifier</label><div class=\"sk-toggleable__content\"><pre>RandomForestClassifier()</pre></div></div></div></div></div></div></div></div></div></div>"
            ]
          },
          "metadata": {},
          "execution_count": 129
        }
      ],
      "source": [
        "grid_search.fit(x_sm_train,y_sm_train)"
      ]
    },
    {
      "cell_type": "code",
      "execution_count": null,
      "metadata": {
        "id": "Asb8KhvweH1K"
      },
      "outputs": [],
      "source": [
        "best_grid_sm=grid_search.best_estimator_"
      ]
    },
    {
      "cell_type": "code",
      "execution_count": null,
      "metadata": {
        "id": "MRzFTA7Tcrcs"
      },
      "outputs": [],
      "source": [
        "ypred_train_rfc_sm=best_grid_sm.predict(x_sm_train)\n",
        "ypred_test_rfc_sm=best_grid_sm.predict(x_sm_test)"
      ]
    },
    {
      "cell_type": "code",
      "source": [
        "report(y_sm_train,ypred_train_rfc_sm)"
      ],
      "metadata": {
        "colab": {
          "base_uri": "https://localhost:8080/"
        },
        "id": "m_mwbK8-rXls",
        "outputId": "7cb16867-beb5-479b-ab88-c7779dc82979"
      },
      "execution_count": null,
      "outputs": [
        {
          "output_type": "stream",
          "name": "stdout",
          "text": [
            "Accuracy Score :  0.8866587957497049\n",
            "Confusion Matrix :  [[258  17   5]\n",
            " [ 21 235  28]\n",
            " [  3  22 258]]\n",
            "CLassification Report :                precision    recall  f1-score   support\n",
            "\n",
            "         1.0       0.91      0.92      0.92       280\n",
            "         2.0       0.86      0.83      0.84       284\n",
            "         3.0       0.89      0.91      0.90       283\n",
            "\n",
            "    accuracy                           0.89       847\n",
            "   macro avg       0.89      0.89      0.89       847\n",
            "weighted avg       0.89      0.89      0.89       847\n",
            "\n"
          ]
        }
      ]
    },
    {
      "cell_type": "code",
      "source": [
        "report(y_sm_test,ypred_test_rfc_sm)"
      ],
      "metadata": {
        "colab": {
          "base_uri": "https://localhost:8080/"
        },
        "id": "1Jg65qz5rcRX",
        "outputId": "17d64abe-08df-4700-d126-fa9e2b42280f"
      },
      "execution_count": null,
      "outputs": [
        {
          "output_type": "stream",
          "name": "stdout",
          "text": [
            "Accuracy Score :  0.7547169811320755\n",
            "Confusion Matrix :  [[64  7  2]\n",
            " [15 38 16]\n",
            " [ 3  9 58]]\n",
            "CLassification Report :                precision    recall  f1-score   support\n",
            "\n",
            "         1.0       0.78      0.88      0.83        73\n",
            "         2.0       0.70      0.55      0.62        69\n",
            "         3.0       0.76      0.83      0.79        70\n",
            "\n",
            "    accuracy                           0.75       212\n",
            "   macro avg       0.75      0.75      0.75       212\n",
            "weighted avg       0.75      0.75      0.75       212\n",
            "\n"
          ]
        }
      ]
    },
    {
      "cell_type": "markdown",
      "source": [
        "### KNN\n"
      ],
      "metadata": {
        "id": "lj1ZVP1drEMu"
      }
    },
    {
      "cell_type": "code",
      "source": [
        "knn.fit(x_sm_train,y_sm_train)"
      ],
      "metadata": {
        "colab": {
          "base_uri": "https://localhost:8080/",
          "height": 74
        },
        "id": "gBvDYeXUrKIO",
        "outputId": "8e640586-1750-46a6-afbc-40ef2b52d04f"
      },
      "execution_count": null,
      "outputs": [
        {
          "output_type": "execute_result",
          "data": {
            "text/plain": [
              "KNeighborsClassifier(n_neighbors=41)"
            ],
            "text/html": [
              "<style>#sk-container-id-10 {color: black;background-color: white;}#sk-container-id-10 pre{padding: 0;}#sk-container-id-10 div.sk-toggleable {background-color: white;}#sk-container-id-10 label.sk-toggleable__label {cursor: pointer;display: block;width: 100%;margin-bottom: 0;padding: 0.3em;box-sizing: border-box;text-align: center;}#sk-container-id-10 label.sk-toggleable__label-arrow:before {content: \"▸\";float: left;margin-right: 0.25em;color: #696969;}#sk-container-id-10 label.sk-toggleable__label-arrow:hover:before {color: black;}#sk-container-id-10 div.sk-estimator:hover label.sk-toggleable__label-arrow:before {color: black;}#sk-container-id-10 div.sk-toggleable__content {max-height: 0;max-width: 0;overflow: hidden;text-align: left;background-color: #f0f8ff;}#sk-container-id-10 div.sk-toggleable__content pre {margin: 0.2em;color: black;border-radius: 0.25em;background-color: #f0f8ff;}#sk-container-id-10 input.sk-toggleable__control:checked~div.sk-toggleable__content {max-height: 200px;max-width: 100%;overflow: auto;}#sk-container-id-10 input.sk-toggleable__control:checked~label.sk-toggleable__label-arrow:before {content: \"▾\";}#sk-container-id-10 div.sk-estimator input.sk-toggleable__control:checked~label.sk-toggleable__label {background-color: #d4ebff;}#sk-container-id-10 div.sk-label input.sk-toggleable__control:checked~label.sk-toggleable__label {background-color: #d4ebff;}#sk-container-id-10 input.sk-hidden--visually {border: 0;clip: rect(1px 1px 1px 1px);clip: rect(1px, 1px, 1px, 1px);height: 1px;margin: -1px;overflow: hidden;padding: 0;position: absolute;width: 1px;}#sk-container-id-10 div.sk-estimator {font-family: monospace;background-color: #f0f8ff;border: 1px dotted black;border-radius: 0.25em;box-sizing: border-box;margin-bottom: 0.5em;}#sk-container-id-10 div.sk-estimator:hover {background-color: #d4ebff;}#sk-container-id-10 div.sk-parallel-item::after {content: \"\";width: 100%;border-bottom: 1px solid gray;flex-grow: 1;}#sk-container-id-10 div.sk-label:hover label.sk-toggleable__label {background-color: #d4ebff;}#sk-container-id-10 div.sk-serial::before {content: \"\";position: absolute;border-left: 1px solid gray;box-sizing: border-box;top: 0;bottom: 0;left: 50%;z-index: 0;}#sk-container-id-10 div.sk-serial {display: flex;flex-direction: column;align-items: center;background-color: white;padding-right: 0.2em;padding-left: 0.2em;position: relative;}#sk-container-id-10 div.sk-item {position: relative;z-index: 1;}#sk-container-id-10 div.sk-parallel {display: flex;align-items: stretch;justify-content: center;background-color: white;position: relative;}#sk-container-id-10 div.sk-item::before, #sk-container-id-10 div.sk-parallel-item::before {content: \"\";position: absolute;border-left: 1px solid gray;box-sizing: border-box;top: 0;bottom: 0;left: 50%;z-index: -1;}#sk-container-id-10 div.sk-parallel-item {display: flex;flex-direction: column;z-index: 1;position: relative;background-color: white;}#sk-container-id-10 div.sk-parallel-item:first-child::after {align-self: flex-end;width: 50%;}#sk-container-id-10 div.sk-parallel-item:last-child::after {align-self: flex-start;width: 50%;}#sk-container-id-10 div.sk-parallel-item:only-child::after {width: 0;}#sk-container-id-10 div.sk-dashed-wrapped {border: 1px dashed gray;margin: 0 0.4em 0.5em 0.4em;box-sizing: border-box;padding-bottom: 0.4em;background-color: white;}#sk-container-id-10 div.sk-label label {font-family: monospace;font-weight: bold;display: inline-block;line-height: 1.2em;}#sk-container-id-10 div.sk-label-container {text-align: center;}#sk-container-id-10 div.sk-container {/* jupyter's `normalize.less` sets `[hidden] { display: none; }` but bootstrap.min.css set `[hidden] { display: none !important; }` so we also need the `!important` here to be able to override the default hidden behavior on the sphinx rendered scikit-learn.org. See: https://github.com/scikit-learn/scikit-learn/issues/21755 */display: inline-block !important;position: relative;}#sk-container-id-10 div.sk-text-repr-fallback {display: none;}</style><div id=\"sk-container-id-10\" class=\"sk-top-container\"><div class=\"sk-text-repr-fallback\"><pre>KNeighborsClassifier(n_neighbors=41)</pre><b>In a Jupyter environment, please rerun this cell to show the HTML representation or trust the notebook. <br />On GitHub, the HTML representation is unable to render, please try loading this page with nbviewer.org.</b></div><div class=\"sk-container\" hidden><div class=\"sk-item\"><div class=\"sk-estimator sk-toggleable\"><input class=\"sk-toggleable__control sk-hidden--visually\" id=\"sk-estimator-id-18\" type=\"checkbox\" checked><label for=\"sk-estimator-id-18\" class=\"sk-toggleable__label sk-toggleable__label-arrow\">KNeighborsClassifier</label><div class=\"sk-toggleable__content\"><pre>KNeighborsClassifier(n_neighbors=41)</pre></div></div></div></div></div>"
            ]
          },
          "metadata": {},
          "execution_count": 86
        }
      ]
    },
    {
      "cell_type": "code",
      "source": [
        "ypred_knn_train_sm=knn.predict(x_sm_train)\n",
        "ypred_knn_test_sm=knn.predict(x_sm_test)"
      ],
      "metadata": {
        "id": "Aq8xh_wYrO1v"
      },
      "execution_count": null,
      "outputs": []
    },
    {
      "cell_type": "code",
      "source": [
        "report(y_sm_train,ypred_knn_train_sm)"
      ],
      "metadata": {
        "colab": {
          "base_uri": "https://localhost:8080/"
        },
        "id": "Yq47-u6iraJp",
        "outputId": "376a2718-3a25-4b93-c4f0-e1330b04f7fe"
      },
      "execution_count": null,
      "outputs": [
        {
          "output_type": "stream",
          "name": "stdout",
          "text": [
            "Accuracy Score :  0.6363636363636364\n",
            "Confusion Matrix :  [[203  51  26]\n",
            " [ 64 110 110]\n",
            " [ 11  46 226]]\n",
            "CLassification Report :                precision    recall  f1-score   support\n",
            "\n",
            "         1.0       0.73      0.72      0.73       280\n",
            "         2.0       0.53      0.39      0.45       284\n",
            "         3.0       0.62      0.80      0.70       283\n",
            "\n",
            "    accuracy                           0.64       847\n",
            "   macro avg       0.63      0.64      0.63       847\n",
            "weighted avg       0.63      0.64      0.62       847\n",
            "\n"
          ]
        }
      ]
    },
    {
      "cell_type": "code",
      "source": [
        "report(y_sm_test,ypred_knn_test_sm)"
      ],
      "metadata": {
        "colab": {
          "base_uri": "https://localhost:8080/"
        },
        "id": "c7QB_cdMrgfY",
        "outputId": "b9056f21-740e-430b-aa0d-36ca3bed74fe"
      },
      "execution_count": null,
      "outputs": [
        {
          "output_type": "stream",
          "name": "stdout",
          "text": [
            "Accuracy Score :  0.6132075471698113\n",
            "Confusion Matrix :  [[53 17  3]\n",
            " [20 23 26]\n",
            " [ 2 14 54]]\n",
            "CLassification Report :                precision    recall  f1-score   support\n",
            "\n",
            "         1.0       0.71      0.73      0.72        73\n",
            "         2.0       0.43      0.33      0.37        69\n",
            "         3.0       0.65      0.77      0.71        70\n",
            "\n",
            "    accuracy                           0.61       212\n",
            "   macro avg       0.59      0.61      0.60       212\n",
            "weighted avg       0.60      0.61      0.60       212\n",
            "\n"
          ]
        }
      ]
    },
    {
      "cell_type": "markdown",
      "source": [
        "### SVC"
      ],
      "metadata": {
        "id": "-xt6F-hCrpBk"
      }
    },
    {
      "cell_type": "code",
      "source": [
        "svc.fit(x_sm_train,y_sm_train)"
      ],
      "metadata": {
        "colab": {
          "base_uri": "https://localhost:8080/",
          "height": 74
        },
        "id": "G20vZIirrouQ",
        "outputId": "ca4f5e13-4c45-4116-e3b2-ff5eb60565ce"
      },
      "execution_count": null,
      "outputs": [
        {
          "output_type": "execute_result",
          "data": {
            "text/plain": [
              "SVC(C=1)"
            ],
            "text/html": [
              "<style>#sk-container-id-11 {color: black;background-color: white;}#sk-container-id-11 pre{padding: 0;}#sk-container-id-11 div.sk-toggleable {background-color: white;}#sk-container-id-11 label.sk-toggleable__label {cursor: pointer;display: block;width: 100%;margin-bottom: 0;padding: 0.3em;box-sizing: border-box;text-align: center;}#sk-container-id-11 label.sk-toggleable__label-arrow:before {content: \"▸\";float: left;margin-right: 0.25em;color: #696969;}#sk-container-id-11 label.sk-toggleable__label-arrow:hover:before {color: black;}#sk-container-id-11 div.sk-estimator:hover label.sk-toggleable__label-arrow:before {color: black;}#sk-container-id-11 div.sk-toggleable__content {max-height: 0;max-width: 0;overflow: hidden;text-align: left;background-color: #f0f8ff;}#sk-container-id-11 div.sk-toggleable__content pre {margin: 0.2em;color: black;border-radius: 0.25em;background-color: #f0f8ff;}#sk-container-id-11 input.sk-toggleable__control:checked~div.sk-toggleable__content {max-height: 200px;max-width: 100%;overflow: auto;}#sk-container-id-11 input.sk-toggleable__control:checked~label.sk-toggleable__label-arrow:before {content: \"▾\";}#sk-container-id-11 div.sk-estimator input.sk-toggleable__control:checked~label.sk-toggleable__label {background-color: #d4ebff;}#sk-container-id-11 div.sk-label input.sk-toggleable__control:checked~label.sk-toggleable__label {background-color: #d4ebff;}#sk-container-id-11 input.sk-hidden--visually {border: 0;clip: rect(1px 1px 1px 1px);clip: rect(1px, 1px, 1px, 1px);height: 1px;margin: -1px;overflow: hidden;padding: 0;position: absolute;width: 1px;}#sk-container-id-11 div.sk-estimator {font-family: monospace;background-color: #f0f8ff;border: 1px dotted black;border-radius: 0.25em;box-sizing: border-box;margin-bottom: 0.5em;}#sk-container-id-11 div.sk-estimator:hover {background-color: #d4ebff;}#sk-container-id-11 div.sk-parallel-item::after {content: \"\";width: 100%;border-bottom: 1px solid gray;flex-grow: 1;}#sk-container-id-11 div.sk-label:hover label.sk-toggleable__label {background-color: #d4ebff;}#sk-container-id-11 div.sk-serial::before {content: \"\";position: absolute;border-left: 1px solid gray;box-sizing: border-box;top: 0;bottom: 0;left: 50%;z-index: 0;}#sk-container-id-11 div.sk-serial {display: flex;flex-direction: column;align-items: center;background-color: white;padding-right: 0.2em;padding-left: 0.2em;position: relative;}#sk-container-id-11 div.sk-item {position: relative;z-index: 1;}#sk-container-id-11 div.sk-parallel {display: flex;align-items: stretch;justify-content: center;background-color: white;position: relative;}#sk-container-id-11 div.sk-item::before, #sk-container-id-11 div.sk-parallel-item::before {content: \"\";position: absolute;border-left: 1px solid gray;box-sizing: border-box;top: 0;bottom: 0;left: 50%;z-index: -1;}#sk-container-id-11 div.sk-parallel-item {display: flex;flex-direction: column;z-index: 1;position: relative;background-color: white;}#sk-container-id-11 div.sk-parallel-item:first-child::after {align-self: flex-end;width: 50%;}#sk-container-id-11 div.sk-parallel-item:last-child::after {align-self: flex-start;width: 50%;}#sk-container-id-11 div.sk-parallel-item:only-child::after {width: 0;}#sk-container-id-11 div.sk-dashed-wrapped {border: 1px dashed gray;margin: 0 0.4em 0.5em 0.4em;box-sizing: border-box;padding-bottom: 0.4em;background-color: white;}#sk-container-id-11 div.sk-label label {font-family: monospace;font-weight: bold;display: inline-block;line-height: 1.2em;}#sk-container-id-11 div.sk-label-container {text-align: center;}#sk-container-id-11 div.sk-container {/* jupyter's `normalize.less` sets `[hidden] { display: none; }` but bootstrap.min.css set `[hidden] { display: none !important; }` so we also need the `!important` here to be able to override the default hidden behavior on the sphinx rendered scikit-learn.org. See: https://github.com/scikit-learn/scikit-learn/issues/21755 */display: inline-block !important;position: relative;}#sk-container-id-11 div.sk-text-repr-fallback {display: none;}</style><div id=\"sk-container-id-11\" class=\"sk-top-container\"><div class=\"sk-text-repr-fallback\"><pre>SVC(C=1)</pre><b>In a Jupyter environment, please rerun this cell to show the HTML representation or trust the notebook. <br />On GitHub, the HTML representation is unable to render, please try loading this page with nbviewer.org.</b></div><div class=\"sk-container\" hidden><div class=\"sk-item\"><div class=\"sk-estimator sk-toggleable\"><input class=\"sk-toggleable__control sk-hidden--visually\" id=\"sk-estimator-id-19\" type=\"checkbox\" checked><label for=\"sk-estimator-id-19\" class=\"sk-toggleable__label sk-toggleable__label-arrow\">SVC</label><div class=\"sk-toggleable__content\"><pre>SVC(C=1)</pre></div></div></div></div></div>"
            ]
          },
          "metadata": {},
          "execution_count": 90
        }
      ]
    },
    {
      "cell_type": "code",
      "source": [
        "ypred_svc_train_sm=svc.predict(x_sm_train)\n",
        "ypred_svc_test_sm=svc.predict(x_sm_test)"
      ],
      "metadata": {
        "id": "8fhZbwGbrvSg"
      },
      "execution_count": null,
      "outputs": []
    },
    {
      "cell_type": "code",
      "source": [
        "report(y_sm_train,ypred_svc_train_sm)\n"
      ],
      "metadata": {
        "colab": {
          "base_uri": "https://localhost:8080/"
        },
        "id": "d3Ch6vvPr5xW",
        "outputId": "c4ba3a2a-e813-4753-fd0b-4c2463fa7d7b"
      },
      "execution_count": null,
      "outputs": [
        {
          "output_type": "stream",
          "name": "stdout",
          "text": [
            "Accuracy Score :  0.6375442739079102\n",
            "Confusion Matrix :  [[182  72  26]\n",
            " [ 41 130 113]\n",
            " [  0  55 228]]\n",
            "CLassification Report :                precision    recall  f1-score   support\n",
            "\n",
            "         1.0       0.82      0.65      0.72       280\n",
            "         2.0       0.51      0.46      0.48       284\n",
            "         3.0       0.62      0.81      0.70       283\n",
            "\n",
            "    accuracy                           0.64       847\n",
            "   macro avg       0.65      0.64      0.64       847\n",
            "weighted avg       0.65      0.64      0.63       847\n",
            "\n"
          ]
        }
      ]
    },
    {
      "cell_type": "code",
      "source": [
        "report(y_sm_test,ypred_svc_test_sm)"
      ],
      "metadata": {
        "colab": {
          "base_uri": "https://localhost:8080/"
        },
        "id": "efJV4hIxsB13",
        "outputId": "870fab4e-51a9-4739-fb0c-73f502ab7926"
      },
      "execution_count": null,
      "outputs": [
        {
          "output_type": "stream",
          "name": "stdout",
          "text": [
            "Accuracy Score :  0.6084905660377359\n",
            "Confusion Matrix :  [[44 26  3]\n",
            " [15 28 26]\n",
            " [ 1 12 57]]\n",
            "CLassification Report :                precision    recall  f1-score   support\n",
            "\n",
            "         1.0       0.73      0.60      0.66        73\n",
            "         2.0       0.42      0.41      0.41        69\n",
            "         3.0       0.66      0.81      0.73        70\n",
            "\n",
            "    accuracy                           0.61       212\n",
            "   macro avg       0.61      0.61      0.60       212\n",
            "weighted avg       0.61      0.61      0.60       212\n",
            "\n"
          ]
        }
      ]
    },
    {
      "cell_type": "markdown",
      "metadata": {
        "id": "6yxJxM71K0o0"
      },
      "source": [
        "## TEST DATASET"
      ]
    },
    {
      "cell_type": "code",
      "execution_count": null,
      "metadata": {
        "colab": {
          "base_uri": "https://localhost:8080/"
        },
        "id": "mgi8TTf8hPKK",
        "outputId": "b3e0b640-2be4-4141-c3a3-149c618a9d7e"
      },
      "outputs": [
        {
          "output_type": "stream",
          "name": "stdout",
          "text": [
            "<class 'pandas.core.frame.DataFrame'>\n",
            "RangeIndex: 200 entries, 0 to 199\n",
            "Data columns (total 20 columns):\n",
            " #   Column            Non-Null Count  Dtype  \n",
            "---  ------            --------------  -----  \n",
            " 0   serial number     200 non-null    float64\n",
            " 1   account_info      200 non-null    object \n",
            " 2   duration_month    200 non-null    float64\n",
            " 3   credit_history    200 non-null    object \n",
            " 4   purpose           200 non-null    object \n",
            " 5   savings_account   200 non-null    object \n",
            " 6   employment_st     200 non-null    object \n",
            " 7   poi               200 non-null    float64\n",
            " 8   personal_status   200 non-null    object \n",
            " 9   gurantors         200 non-null    object \n",
            " 10  resident_since    200 non-null    float64\n",
            " 11  property_type     200 non-null    object \n",
            " 12  age               200 non-null    float64\n",
            " 13  installment_type  200 non-null    object \n",
            " 14  housing_type      200 non-null    object \n",
            " 15  credits_no        200 non-null    float64\n",
            " 16  job_type          200 non-null    object \n",
            " 17  liables           200 non-null    float64\n",
            " 18  telephone         200 non-null    object \n",
            " 19  foreigner         200 non-null    object \n",
            "dtypes: float64(7), object(13)\n",
            "memory usage: 31.4+ KB\n"
          ]
        }
      ],
      "source": [
        "test.info()"
      ]
    },
    {
      "cell_type": "code",
      "execution_count": null,
      "metadata": {
        "colab": {
          "base_uri": "https://localhost:8080/"
        },
        "id": "lqxCskFyK6Zw",
        "outputId": "c33aa1ab-217a-4694-8e19-027d39d61019"
      },
      "outputs": [
        {
          "output_type": "execute_result",
          "data": {
            "text/plain": [
              "serial number       0\n",
              "account_info        0\n",
              "duration_month      0\n",
              "credit_history      0\n",
              "purpose             0\n",
              "savings_account     0\n",
              "employment_st       0\n",
              "poi                 0\n",
              "personal_status     0\n",
              "gurantors           0\n",
              "resident_since      0\n",
              "property_type       0\n",
              "age                 0\n",
              "installment_type    0\n",
              "housing_type        0\n",
              "credits_no          0\n",
              "job_type            0\n",
              "liables             0\n",
              "telephone           0\n",
              "foreigner           0\n",
              "dtype: int64"
            ]
          },
          "metadata": {},
          "execution_count": 122
        }
      ],
      "source": [
        "test.isna().sum()"
      ]
    },
    {
      "cell_type": "code",
      "execution_count": null,
      "metadata": {
        "colab": {
          "base_uri": "https://localhost:8080/",
          "height": 505
        },
        "id": "XAY5PZ12K-lw",
        "outputId": "13a5c98c-f28d-4c52-9988-50f439ad6139"
      },
      "outputs": [
        {
          "output_type": "execute_result",
          "data": {
            "text/plain": [
              "     serial number account_info  duration_month credit_history purpose  \\\n",
              "0              1.0          A14            24.0            A34     A46   \n",
              "1              2.0          A12            18.0            A34     A43   \n",
              "2              3.0          A11            20.0            A34     A42   \n",
              "3              4.0          A14            12.0            A34     A43   \n",
              "4              5.0          A12            12.0            A32     A40   \n",
              "..             ...          ...             ...            ...     ...   \n",
              "195          196.0          A14            12.0            A32     A42   \n",
              "196          197.0          A11            30.0            A32     A41   \n",
              "197          198.0          A14            12.0            A32     A43   \n",
              "198          199.0          A11            45.0            A32     A43   \n",
              "199          200.0          A12            45.0            A34     A41   \n",
              "\n",
              "    savings_account employment_st  poi personal_status gurantors  \\\n",
              "0               A61           A75  4.0             A93      A101   \n",
              "1               A61           A75  3.0             A92      A103   \n",
              "2               A61           A75  1.0             A92      A101   \n",
              "3               A65           A75  4.0             A93      A101   \n",
              "4               A65           A71  1.0             A92      A101   \n",
              "..              ...           ...  ...             ...       ...   \n",
              "195             A61           A74  3.0             A92      A101   \n",
              "196             A61           A73  4.0             A91      A101   \n",
              "197             A61           A75  4.0             A93      A101   \n",
              "198             A61           A73  4.0             A93      A101   \n",
              "199             A62           A71  3.0             A93      A101   \n",
              "\n",
              "     resident_since property_type   age installment_type housing_type  \\\n",
              "0               4.0          A124  54.0             A143         A153   \n",
              "1               4.0          A121  48.0             A141         A151   \n",
              "2               4.0          A122  24.0             A143         A152   \n",
              "3               4.0          A123  35.0             A143         A152   \n",
              "4               2.0          A121  24.0             A143         A151   \n",
              "..              ...           ...   ...              ...          ...   \n",
              "195             4.0          A121  31.0             A143         A152   \n",
              "196             4.0          A122  40.0             A143         A152   \n",
              "197             4.0          A123  38.0             A143         A152   \n",
              "198             4.0          A124  23.0             A143         A153   \n",
              "199             4.0          A123  27.0             A143         A152   \n",
              "\n",
              "     credits_no job_type  liables telephone foreigner  \n",
              "0           2.0     A173      2.0      A191      A201  \n",
              "1           2.0     A172      1.0      A192      A201  \n",
              "2           2.0     A173      1.0      A191      A201  \n",
              "3           2.0     A173      1.0      A191      A201  \n",
              "4           1.0     A171      1.0      A191      A201  \n",
              "..          ...      ...      ...       ...       ...  \n",
              "195         1.0     A172      1.0      A191      A201  \n",
              "196         1.0     A174      1.0      A192      A201  \n",
              "197         1.0     A173      1.0      A191      A201  \n",
              "198         1.0     A173      1.0      A192      A201  \n",
              "199         1.0     A173      1.0      A191      A201  \n",
              "\n",
              "[200 rows x 20 columns]"
            ],
            "text/html": [
              "\n",
              "  <div id=\"df-1c84d72f-6f36-4937-ae2b-0ccf8e92d973\">\n",
              "    <div class=\"colab-df-container\">\n",
              "      <div>\n",
              "<style scoped>\n",
              "    .dataframe tbody tr th:only-of-type {\n",
              "        vertical-align: middle;\n",
              "    }\n",
              "\n",
              "    .dataframe tbody tr th {\n",
              "        vertical-align: top;\n",
              "    }\n",
              "\n",
              "    .dataframe thead th {\n",
              "        text-align: right;\n",
              "    }\n",
              "</style>\n",
              "<table border=\"1\" class=\"dataframe\">\n",
              "  <thead>\n",
              "    <tr style=\"text-align: right;\">\n",
              "      <th></th>\n",
              "      <th>serial number</th>\n",
              "      <th>account_info</th>\n",
              "      <th>duration_month</th>\n",
              "      <th>credit_history</th>\n",
              "      <th>purpose</th>\n",
              "      <th>savings_account</th>\n",
              "      <th>employment_st</th>\n",
              "      <th>poi</th>\n",
              "      <th>personal_status</th>\n",
              "      <th>gurantors</th>\n",
              "      <th>resident_since</th>\n",
              "      <th>property_type</th>\n",
              "      <th>age</th>\n",
              "      <th>installment_type</th>\n",
              "      <th>housing_type</th>\n",
              "      <th>credits_no</th>\n",
              "      <th>job_type</th>\n",
              "      <th>liables</th>\n",
              "      <th>telephone</th>\n",
              "      <th>foreigner</th>\n",
              "    </tr>\n",
              "  </thead>\n",
              "  <tbody>\n",
              "    <tr>\n",
              "      <th>0</th>\n",
              "      <td>1.0</td>\n",
              "      <td>A14</td>\n",
              "      <td>24.0</td>\n",
              "      <td>A34</td>\n",
              "      <td>A46</td>\n",
              "      <td>A61</td>\n",
              "      <td>A75</td>\n",
              "      <td>4.0</td>\n",
              "      <td>A93</td>\n",
              "      <td>A101</td>\n",
              "      <td>4.0</td>\n",
              "      <td>A124</td>\n",
              "      <td>54.0</td>\n",
              "      <td>A143</td>\n",
              "      <td>A153</td>\n",
              "      <td>2.0</td>\n",
              "      <td>A173</td>\n",
              "      <td>2.0</td>\n",
              "      <td>A191</td>\n",
              "      <td>A201</td>\n",
              "    </tr>\n",
              "    <tr>\n",
              "      <th>1</th>\n",
              "      <td>2.0</td>\n",
              "      <td>A12</td>\n",
              "      <td>18.0</td>\n",
              "      <td>A34</td>\n",
              "      <td>A43</td>\n",
              "      <td>A61</td>\n",
              "      <td>A75</td>\n",
              "      <td>3.0</td>\n",
              "      <td>A92</td>\n",
              "      <td>A103</td>\n",
              "      <td>4.0</td>\n",
              "      <td>A121</td>\n",
              "      <td>48.0</td>\n",
              "      <td>A141</td>\n",
              "      <td>A151</td>\n",
              "      <td>2.0</td>\n",
              "      <td>A172</td>\n",
              "      <td>1.0</td>\n",
              "      <td>A192</td>\n",
              "      <td>A201</td>\n",
              "    </tr>\n",
              "    <tr>\n",
              "      <th>2</th>\n",
              "      <td>3.0</td>\n",
              "      <td>A11</td>\n",
              "      <td>20.0</td>\n",
              "      <td>A34</td>\n",
              "      <td>A42</td>\n",
              "      <td>A61</td>\n",
              "      <td>A75</td>\n",
              "      <td>1.0</td>\n",
              "      <td>A92</td>\n",
              "      <td>A101</td>\n",
              "      <td>4.0</td>\n",
              "      <td>A122</td>\n",
              "      <td>24.0</td>\n",
              "      <td>A143</td>\n",
              "      <td>A152</td>\n",
              "      <td>2.0</td>\n",
              "      <td>A173</td>\n",
              "      <td>1.0</td>\n",
              "      <td>A191</td>\n",
              "      <td>A201</td>\n",
              "    </tr>\n",
              "    <tr>\n",
              "      <th>3</th>\n",
              "      <td>4.0</td>\n",
              "      <td>A14</td>\n",
              "      <td>12.0</td>\n",
              "      <td>A34</td>\n",
              "      <td>A43</td>\n",
              "      <td>A65</td>\n",
              "      <td>A75</td>\n",
              "      <td>4.0</td>\n",
              "      <td>A93</td>\n",
              "      <td>A101</td>\n",
              "      <td>4.0</td>\n",
              "      <td>A123</td>\n",
              "      <td>35.0</td>\n",
              "      <td>A143</td>\n",
              "      <td>A152</td>\n",
              "      <td>2.0</td>\n",
              "      <td>A173</td>\n",
              "      <td>1.0</td>\n",
              "      <td>A191</td>\n",
              "      <td>A201</td>\n",
              "    </tr>\n",
              "    <tr>\n",
              "      <th>4</th>\n",
              "      <td>5.0</td>\n",
              "      <td>A12</td>\n",
              "      <td>12.0</td>\n",
              "      <td>A32</td>\n",
              "      <td>A40</td>\n",
              "      <td>A65</td>\n",
              "      <td>A71</td>\n",
              "      <td>1.0</td>\n",
              "      <td>A92</td>\n",
              "      <td>A101</td>\n",
              "      <td>2.0</td>\n",
              "      <td>A121</td>\n",
              "      <td>24.0</td>\n",
              "      <td>A143</td>\n",
              "      <td>A151</td>\n",
              "      <td>1.0</td>\n",
              "      <td>A171</td>\n",
              "      <td>1.0</td>\n",
              "      <td>A191</td>\n",
              "      <td>A201</td>\n",
              "    </tr>\n",
              "    <tr>\n",
              "      <th>...</th>\n",
              "      <td>...</td>\n",
              "      <td>...</td>\n",
              "      <td>...</td>\n",
              "      <td>...</td>\n",
              "      <td>...</td>\n",
              "      <td>...</td>\n",
              "      <td>...</td>\n",
              "      <td>...</td>\n",
              "      <td>...</td>\n",
              "      <td>...</td>\n",
              "      <td>...</td>\n",
              "      <td>...</td>\n",
              "      <td>...</td>\n",
              "      <td>...</td>\n",
              "      <td>...</td>\n",
              "      <td>...</td>\n",
              "      <td>...</td>\n",
              "      <td>...</td>\n",
              "      <td>...</td>\n",
              "      <td>...</td>\n",
              "    </tr>\n",
              "    <tr>\n",
              "      <th>195</th>\n",
              "      <td>196.0</td>\n",
              "      <td>A14</td>\n",
              "      <td>12.0</td>\n",
              "      <td>A32</td>\n",
              "      <td>A42</td>\n",
              "      <td>A61</td>\n",
              "      <td>A74</td>\n",
              "      <td>3.0</td>\n",
              "      <td>A92</td>\n",
              "      <td>A101</td>\n",
              "      <td>4.0</td>\n",
              "      <td>A121</td>\n",
              "      <td>31.0</td>\n",
              "      <td>A143</td>\n",
              "      <td>A152</td>\n",
              "      <td>1.0</td>\n",
              "      <td>A172</td>\n",
              "      <td>1.0</td>\n",
              "      <td>A191</td>\n",
              "      <td>A201</td>\n",
              "    </tr>\n",
              "    <tr>\n",
              "      <th>196</th>\n",
              "      <td>197.0</td>\n",
              "      <td>A11</td>\n",
              "      <td>30.0</td>\n",
              "      <td>A32</td>\n",
              "      <td>A41</td>\n",
              "      <td>A61</td>\n",
              "      <td>A73</td>\n",
              "      <td>4.0</td>\n",
              "      <td>A91</td>\n",
              "      <td>A101</td>\n",
              "      <td>4.0</td>\n",
              "      <td>A122</td>\n",
              "      <td>40.0</td>\n",
              "      <td>A143</td>\n",
              "      <td>A152</td>\n",
              "      <td>1.0</td>\n",
              "      <td>A174</td>\n",
              "      <td>1.0</td>\n",
              "      <td>A192</td>\n",
              "      <td>A201</td>\n",
              "    </tr>\n",
              "    <tr>\n",
              "      <th>197</th>\n",
              "      <td>198.0</td>\n",
              "      <td>A14</td>\n",
              "      <td>12.0</td>\n",
              "      <td>A32</td>\n",
              "      <td>A43</td>\n",
              "      <td>A61</td>\n",
              "      <td>A75</td>\n",
              "      <td>4.0</td>\n",
              "      <td>A93</td>\n",
              "      <td>A101</td>\n",
              "      <td>4.0</td>\n",
              "      <td>A123</td>\n",
              "      <td>38.0</td>\n",
              "      <td>A143</td>\n",
              "      <td>A152</td>\n",
              "      <td>1.0</td>\n",
              "      <td>A173</td>\n",
              "      <td>1.0</td>\n",
              "      <td>A191</td>\n",
              "      <td>A201</td>\n",
              "    </tr>\n",
              "    <tr>\n",
              "      <th>198</th>\n",
              "      <td>199.0</td>\n",
              "      <td>A11</td>\n",
              "      <td>45.0</td>\n",
              "      <td>A32</td>\n",
              "      <td>A43</td>\n",
              "      <td>A61</td>\n",
              "      <td>A73</td>\n",
              "      <td>4.0</td>\n",
              "      <td>A93</td>\n",
              "      <td>A101</td>\n",
              "      <td>4.0</td>\n",
              "      <td>A124</td>\n",
              "      <td>23.0</td>\n",
              "      <td>A143</td>\n",
              "      <td>A153</td>\n",
              "      <td>1.0</td>\n",
              "      <td>A173</td>\n",
              "      <td>1.0</td>\n",
              "      <td>A192</td>\n",
              "      <td>A201</td>\n",
              "    </tr>\n",
              "    <tr>\n",
              "      <th>199</th>\n",
              "      <td>200.0</td>\n",
              "      <td>A12</td>\n",
              "      <td>45.0</td>\n",
              "      <td>A34</td>\n",
              "      <td>A41</td>\n",
              "      <td>A62</td>\n",
              "      <td>A71</td>\n",
              "      <td>3.0</td>\n",
              "      <td>A93</td>\n",
              "      <td>A101</td>\n",
              "      <td>4.0</td>\n",
              "      <td>A123</td>\n",
              "      <td>27.0</td>\n",
              "      <td>A143</td>\n",
              "      <td>A152</td>\n",
              "      <td>1.0</td>\n",
              "      <td>A173</td>\n",
              "      <td>1.0</td>\n",
              "      <td>A191</td>\n",
              "      <td>A201</td>\n",
              "    </tr>\n",
              "  </tbody>\n",
              "</table>\n",
              "<p>200 rows × 20 columns</p>\n",
              "</div>\n",
              "      <button class=\"colab-df-convert\" onclick=\"convertToInteractive('df-1c84d72f-6f36-4937-ae2b-0ccf8e92d973')\"\n",
              "              title=\"Convert this dataframe to an interactive table.\"\n",
              "              style=\"display:none;\">\n",
              "        \n",
              "  <svg xmlns=\"http://www.w3.org/2000/svg\" height=\"24px\"viewBox=\"0 0 24 24\"\n",
              "       width=\"24px\">\n",
              "    <path d=\"M0 0h24v24H0V0z\" fill=\"none\"/>\n",
              "    <path d=\"M18.56 5.44l.94 2.06.94-2.06 2.06-.94-2.06-.94-.94-2.06-.94 2.06-2.06.94zm-11 1L8.5 8.5l.94-2.06 2.06-.94-2.06-.94L8.5 2.5l-.94 2.06-2.06.94zm10 10l.94 2.06.94-2.06 2.06-.94-2.06-.94-.94-2.06-.94 2.06-2.06.94z\"/><path d=\"M17.41 7.96l-1.37-1.37c-.4-.4-.92-.59-1.43-.59-.52 0-1.04.2-1.43.59L10.3 9.45l-7.72 7.72c-.78.78-.78 2.05 0 2.83L4 21.41c.39.39.9.59 1.41.59.51 0 1.02-.2 1.41-.59l7.78-7.78 2.81-2.81c.8-.78.8-2.07 0-2.86zM5.41 20L4 18.59l7.72-7.72 1.47 1.35L5.41 20z\"/>\n",
              "  </svg>\n",
              "      </button>\n",
              "      \n",
              "  <style>\n",
              "    .colab-df-container {\n",
              "      display:flex;\n",
              "      flex-wrap:wrap;\n",
              "      gap: 12px;\n",
              "    }\n",
              "\n",
              "    .colab-df-convert {\n",
              "      background-color: #E8F0FE;\n",
              "      border: none;\n",
              "      border-radius: 50%;\n",
              "      cursor: pointer;\n",
              "      display: none;\n",
              "      fill: #1967D2;\n",
              "      height: 32px;\n",
              "      padding: 0 0 0 0;\n",
              "      width: 32px;\n",
              "    }\n",
              "\n",
              "    .colab-df-convert:hover {\n",
              "      background-color: #E2EBFA;\n",
              "      box-shadow: 0px 1px 2px rgba(60, 64, 67, 0.3), 0px 1px 3px 1px rgba(60, 64, 67, 0.15);\n",
              "      fill: #174EA6;\n",
              "    }\n",
              "\n",
              "    [theme=dark] .colab-df-convert {\n",
              "      background-color: #3B4455;\n",
              "      fill: #D2E3FC;\n",
              "    }\n",
              "\n",
              "    [theme=dark] .colab-df-convert:hover {\n",
              "      background-color: #434B5C;\n",
              "      box-shadow: 0px 1px 3px 1px rgba(0, 0, 0, 0.15);\n",
              "      filter: drop-shadow(0px 1px 2px rgba(0, 0, 0, 0.3));\n",
              "      fill: #FFFFFF;\n",
              "    }\n",
              "  </style>\n",
              "\n",
              "      <script>\n",
              "        const buttonEl =\n",
              "          document.querySelector('#df-1c84d72f-6f36-4937-ae2b-0ccf8e92d973 button.colab-df-convert');\n",
              "        buttonEl.style.display =\n",
              "          google.colab.kernel.accessAllowed ? 'block' : 'none';\n",
              "\n",
              "        async function convertToInteractive(key) {\n",
              "          const element = document.querySelector('#df-1c84d72f-6f36-4937-ae2b-0ccf8e92d973');\n",
              "          const dataTable =\n",
              "            await google.colab.kernel.invokeFunction('convertToInteractive',\n",
              "                                                     [key], {});\n",
              "          if (!dataTable) return;\n",
              "\n",
              "          const docLinkHtml = 'Like what you see? Visit the ' +\n",
              "            '<a target=\"_blank\" href=https://colab.research.google.com/notebooks/data_table.ipynb>data table notebook</a>'\n",
              "            + ' to learn more about interactive tables.';\n",
              "          element.innerHTML = '';\n",
              "          dataTable['output_type'] = 'display_data';\n",
              "          await google.colab.output.renderOutput(dataTable, element);\n",
              "          const docLink = document.createElement('div');\n",
              "          docLink.innerHTML = docLinkHtml;\n",
              "          element.appendChild(docLink);\n",
              "        }\n",
              "      </script>\n",
              "    </div>\n",
              "  </div>\n",
              "  "
            ]
          },
          "metadata": {},
          "execution_count": 96
        }
      ],
      "source": [
        "fill_na(test)"
      ]
    },
    {
      "cell_type": "code",
      "execution_count": null,
      "metadata": {
        "id": "mnV1MwinLGzy"
      },
      "outputs": [],
      "source": [
        "a=test.select_dtypes(object).columns\n",
        "test_enc=pd.get_dummies(test,columns=a)"
      ]
    },
    {
      "cell_type": "code",
      "execution_count": null,
      "metadata": {
        "colab": {
          "base_uri": "https://localhost:8080/"
        },
        "id": "n2FWLmCaLOiD",
        "outputId": "289e62e7-edca-4f13-f2d3-176a8fe3c29a"
      },
      "outputs": [
        {
          "output_type": "stream",
          "name": "stdout",
          "text": [
            "<class 'pandas.core.frame.DataFrame'>\n",
            "RangeIndex: 200 entries, 0 to 199\n",
            "Data columns (total 61 columns):\n",
            " #   Column                 Non-Null Count  Dtype  \n",
            "---  ------                 --------------  -----  \n",
            " 0   serial number          200 non-null    float64\n",
            " 1   duration_month         200 non-null    float64\n",
            " 2   poi                    200 non-null    float64\n",
            " 3   resident_since         200 non-null    float64\n",
            " 4   age                    200 non-null    float64\n",
            " 5   credits_no             200 non-null    float64\n",
            " 6   liables                200 non-null    float64\n",
            " 7   account_info_A11       200 non-null    uint8  \n",
            " 8   account_info_A12       200 non-null    uint8  \n",
            " 9   account_info_A13       200 non-null    uint8  \n",
            " 10  account_info_A14       200 non-null    uint8  \n",
            " 11  credit_history_A30     200 non-null    uint8  \n",
            " 12  credit_history_A31     200 non-null    uint8  \n",
            " 13  credit_history_A32     200 non-null    uint8  \n",
            " 14  credit_history_A33     200 non-null    uint8  \n",
            " 15  credit_history_A34     200 non-null    uint8  \n",
            " 16  purpose_A40            200 non-null    uint8  \n",
            " 17  purpose_A41            200 non-null    uint8  \n",
            " 18  purpose_A410           200 non-null    uint8  \n",
            " 19  purpose_A42            200 non-null    uint8  \n",
            " 20  purpose_A43            200 non-null    uint8  \n",
            " 21  purpose_A44            200 non-null    uint8  \n",
            " 22  purpose_A45            200 non-null    uint8  \n",
            " 23  purpose_A46            200 non-null    uint8  \n",
            " 24  purpose_A48            200 non-null    uint8  \n",
            " 25  purpose_A49            200 non-null    uint8  \n",
            " 26  savings_account_A61    200 non-null    uint8  \n",
            " 27  savings_account_A62    200 non-null    uint8  \n",
            " 28  savings_account_A63    200 non-null    uint8  \n",
            " 29  savings_account_A64    200 non-null    uint8  \n",
            " 30  savings_account_A65    200 non-null    uint8  \n",
            " 31  employment_st_A71      200 non-null    uint8  \n",
            " 32  employment_st_A72      200 non-null    uint8  \n",
            " 33  employment_st_A73      200 non-null    uint8  \n",
            " 34  employment_st_A74      200 non-null    uint8  \n",
            " 35  employment_st_A75      200 non-null    uint8  \n",
            " 36  personal_status_A91    200 non-null    uint8  \n",
            " 37  personal_status_A92    200 non-null    uint8  \n",
            " 38  personal_status_A93    200 non-null    uint8  \n",
            " 39  personal_status_A94    200 non-null    uint8  \n",
            " 40  gurantors_A101         200 non-null    uint8  \n",
            " 41  gurantors_A102         200 non-null    uint8  \n",
            " 42  gurantors_A103         200 non-null    uint8  \n",
            " 43  property_type_A121     200 non-null    uint8  \n",
            " 44  property_type_A122     200 non-null    uint8  \n",
            " 45  property_type_A123     200 non-null    uint8  \n",
            " 46  property_type_A124     200 non-null    uint8  \n",
            " 47  installment_type_A141  200 non-null    uint8  \n",
            " 48  installment_type_A142  200 non-null    uint8  \n",
            " 49  installment_type_A143  200 non-null    uint8  \n",
            " 50  housing_type_A151      200 non-null    uint8  \n",
            " 51  housing_type_A152      200 non-null    uint8  \n",
            " 52  housing_type_A153      200 non-null    uint8  \n",
            " 53  job_type_A171          200 non-null    uint8  \n",
            " 54  job_type_A172          200 non-null    uint8  \n",
            " 55  job_type_A173          200 non-null    uint8  \n",
            " 56  job_type_A174          200 non-null    uint8  \n",
            " 57  telephone_A191         200 non-null    uint8  \n",
            " 58  telephone_A192         200 non-null    uint8  \n",
            " 59  foreigner_A201         200 non-null    uint8  \n",
            " 60  foreigner_A202         200 non-null    uint8  \n",
            "dtypes: float64(7), uint8(54)\n",
            "memory usage: 21.6 KB\n"
          ]
        }
      ],
      "source": [
        "test_enc.info()"
      ]
    },
    {
      "cell_type": "code",
      "execution_count": null,
      "metadata": {
        "id": "TSXHRczDLSUT"
      },
      "outputs": [],
      "source": [
        "test_enc.drop(\"serial number\",axis=1,inplace=True)"
      ]
    },
    {
      "cell_type": "code",
      "execution_count": null,
      "metadata": {
        "colab": {
          "base_uri": "https://localhost:8080/"
        },
        "id": "efO2cilVPcXL",
        "outputId": "698b2eb6-0de7-403a-ac80-d8ddce14aaf0"
      },
      "outputs": [
        {
          "output_type": "stream",
          "name": "stdout",
          "text": [
            "<class 'pandas.core.frame.DataFrame'>\n",
            "RangeIndex: 200 entries, 0 to 199\n",
            "Data columns (total 60 columns):\n",
            " #   Column                 Non-Null Count  Dtype  \n",
            "---  ------                 --------------  -----  \n",
            " 0   duration_month         200 non-null    float64\n",
            " 1   poi                    200 non-null    float64\n",
            " 2   resident_since         200 non-null    float64\n",
            " 3   age                    200 non-null    float64\n",
            " 4   credits_no             200 non-null    float64\n",
            " 5   liables                200 non-null    float64\n",
            " 6   account_info_A11       200 non-null    uint8  \n",
            " 7   account_info_A12       200 non-null    uint8  \n",
            " 8   account_info_A13       200 non-null    uint8  \n",
            " 9   account_info_A14       200 non-null    uint8  \n",
            " 10  credit_history_A30     200 non-null    uint8  \n",
            " 11  credit_history_A31     200 non-null    uint8  \n",
            " 12  credit_history_A32     200 non-null    uint8  \n",
            " 13  credit_history_A33     200 non-null    uint8  \n",
            " 14  credit_history_A34     200 non-null    uint8  \n",
            " 15  purpose_A40            200 non-null    uint8  \n",
            " 16  purpose_A41            200 non-null    uint8  \n",
            " 17  purpose_A410           200 non-null    uint8  \n",
            " 18  purpose_A42            200 non-null    uint8  \n",
            " 19  purpose_A43            200 non-null    uint8  \n",
            " 20  purpose_A44            200 non-null    uint8  \n",
            " 21  purpose_A45            200 non-null    uint8  \n",
            " 22  purpose_A46            200 non-null    uint8  \n",
            " 23  purpose_A48            200 non-null    uint8  \n",
            " 24  purpose_A49            200 non-null    uint8  \n",
            " 25  savings_account_A61    200 non-null    uint8  \n",
            " 26  savings_account_A62    200 non-null    uint8  \n",
            " 27  savings_account_A63    200 non-null    uint8  \n",
            " 28  savings_account_A64    200 non-null    uint8  \n",
            " 29  savings_account_A65    200 non-null    uint8  \n",
            " 30  employment_st_A71      200 non-null    uint8  \n",
            " 31  employment_st_A72      200 non-null    uint8  \n",
            " 32  employment_st_A73      200 non-null    uint8  \n",
            " 33  employment_st_A74      200 non-null    uint8  \n",
            " 34  employment_st_A75      200 non-null    uint8  \n",
            " 35  personal_status_A91    200 non-null    uint8  \n",
            " 36  personal_status_A92    200 non-null    uint8  \n",
            " 37  personal_status_A93    200 non-null    uint8  \n",
            " 38  personal_status_A94    200 non-null    uint8  \n",
            " 39  gurantors_A101         200 non-null    uint8  \n",
            " 40  gurantors_A102         200 non-null    uint8  \n",
            " 41  gurantors_A103         200 non-null    uint8  \n",
            " 42  property_type_A121     200 non-null    uint8  \n",
            " 43  property_type_A122     200 non-null    uint8  \n",
            " 44  property_type_A123     200 non-null    uint8  \n",
            " 45  property_type_A124     200 non-null    uint8  \n",
            " 46  installment_type_A141  200 non-null    uint8  \n",
            " 47  installment_type_A142  200 non-null    uint8  \n",
            " 48  installment_type_A143  200 non-null    uint8  \n",
            " 49  housing_type_A151      200 non-null    uint8  \n",
            " 50  housing_type_A152      200 non-null    uint8  \n",
            " 51  housing_type_A153      200 non-null    uint8  \n",
            " 52  job_type_A171          200 non-null    uint8  \n",
            " 53  job_type_A172          200 non-null    uint8  \n",
            " 54  job_type_A173          200 non-null    uint8  \n",
            " 55  job_type_A174          200 non-null    uint8  \n",
            " 56  telephone_A191         200 non-null    uint8  \n",
            " 57  telephone_A192         200 non-null    uint8  \n",
            " 58  foreigner_A201         200 non-null    uint8  \n",
            " 59  foreigner_A202         200 non-null    uint8  \n",
            "dtypes: float64(6), uint8(54)\n",
            "memory usage: 20.0 KB\n"
          ]
        }
      ],
      "source": [
        "test_enc.info()"
      ]
    },
    {
      "cell_type": "code",
      "execution_count": null,
      "metadata": {
        "id": "LyFzB1bfLfqW"
      },
      "outputs": [],
      "source": [
        "ypred_svc_test=svc.predict(test_enc)"
      ]
    },
    {
      "cell_type": "code",
      "source": [
        "y_pred=best_grid_sm.predict(test_enc)"
      ],
      "metadata": {
        "id": "_BjoLxQT3uZD"
      },
      "execution_count": 130,
      "outputs": []
    },
    {
      "cell_type": "code",
      "execution_count": 131,
      "metadata": {
        "colab": {
          "base_uri": "https://localhost:8080/"
        },
        "id": "IYcGlQYrOiZi",
        "outputId": "ed888c31-59ac-4ea0-f738-898846f573c2"
      },
      "outputs": [
        {
          "output_type": "execute_result",
          "data": {
            "text/plain": [
              "array([2., 3., 2., 3., 3., 1., 3., 3., 1., 3., 3., 3., 1., 1., 1., 1., 2.,\n",
              "       2., 1., 3., 3., 3., 2., 3., 1., 2., 2., 2., 1., 1., 2., 2., 1., 2.,\n",
              "       3., 3., 3., 2., 2., 3., 2., 2., 3., 2., 2., 2., 2., 3., 2., 3., 3.,\n",
              "       1., 3., 3., 1., 2., 3., 2., 2., 2., 2., 2., 2., 1., 2., 2., 3., 2.,\n",
              "       1., 3., 1., 3., 2., 3., 2., 3., 1., 2., 1., 1., 1., 1., 2., 3., 2.,\n",
              "       3., 2., 1., 1., 1., 1., 3., 3., 1., 2., 1., 2., 3., 2., 2., 1., 1.,\n",
              "       1., 3., 2., 2., 2., 1., 3., 3., 2., 2., 2., 3., 2., 1., 2., 1., 2.,\n",
              "       2., 2., 1., 3., 2., 2., 3., 2., 1., 2., 3., 2., 3., 2., 3., 3., 1.,\n",
              "       3., 2., 1., 1., 1., 3., 2., 2., 2., 1., 1., 2., 3., 2., 1., 1., 2.,\n",
              "       1., 3., 1., 1., 3., 2., 2., 3., 1., 2., 2., 3., 2., 1., 2., 1., 2.,\n",
              "       3., 2., 1., 1., 2., 2., 2., 3., 3., 3., 1., 1., 1., 1., 1., 3., 1.,\n",
              "       2., 1., 1., 2., 3., 3., 1., 2., 2., 1., 3., 1., 1.])"
            ]
          },
          "metadata": {},
          "execution_count": 131
        }
      ],
      "source": [
        "y_pred"
      ]
    },
    {
      "cell_type": "markdown",
      "source": [
        "**FOR TEST SET I USED RANDOM FOREST CLASSIFICATION MODEL. IT SHOWED SOME IMPROVED ACCURACY AFTER CROSS VALIDATION.**"
      ],
      "metadata": {
        "id": "9OYTwHrg7Bj2"
      }
    }
  ],
  "metadata": {
    "colab": {
      "toc_visible": true,
      "provenance": []
    },
    "kernelspec": {
      "display_name": "Python 3",
      "name": "python3"
    },
    "language_info": {
      "name": "python"
    }
  },
  "nbformat": 4,
  "nbformat_minor": 0
}